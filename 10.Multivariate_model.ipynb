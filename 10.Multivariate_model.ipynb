{
 "cells": [
  {
   "cell_type": "code",
   "execution_count": 1,
   "id": "0e4953e1-6ed3-432c-87fb-76c2121c7680",
   "metadata": {},
   "outputs": [],
   "source": [
    "import pandas as pd\n",
    "import numpy as np\n",
    "import matplotlib.pyplot as plt \n",
    "import seaborn as sns\n",
    "import statsmodels\n",
    "import scipy\n",
    "import statsmodels.graphics.tsaplots as sgt\n",
    "from statsmodels.tsa.seasonal import seasonal_decompose\n",
    "from statsmodels.tsa.stattools import adfuller\n",
    "import scipy.stats\n",
    "import pylab\n",
    "import matplotlib as mpl\n",
    "from scipy.stats.distributions import chi2\n",
    "from statsmodels.tsa.arima.model import ARIMA\n",
    "from scipy.stats import norm\n",
    "from arch import arch_model\n",
    "import yfinance\n",
    "import datetime\n",
    "sns.set()"
   ]
  },
  {
   "cell_type": "code",
   "execution_count": 2,
   "id": "a7cbabde-20f2-4e06-8ae8-18318b6f5c83",
   "metadata": {},
   "outputs": [
    {
     "name": "stderr",
     "output_type": "stream",
     "text": [
      "[*********************100%***********************]  4 of 4 completed\n"
     ]
    }
   ],
   "source": [
    "raw_data=yfinance.download(tickers=\"^GSPC ^FTSE ^N225 ^GDAXI\",start='1994-01-07',\n",
    "                           end=\"2019-09-01\",interval='1d',group_by='ticker',auto_adjust=True,threads=True\n",
    "                          )\n",
    "df_comp=raw_data.copy()"
   ]
  },
  {
   "cell_type": "code",
   "execution_count": 3,
   "id": "1fac41b7-a850-48c4-9e46-252dfcc48f25",
   "metadata": {},
   "outputs": [
    {
     "name": "stderr",
     "output_type": "stream",
     "text": [
      "C:\\Users\\adadi\\anaconda3\\envs\\DataScienceEnv\\lib\\site-packages\\pandas\\core\\generic.py:4150: PerformanceWarning: dropping on a non-lexsorted multi-index without a level parameter may impact performance.\n",
      "  obj = obj._drop_axis(labels, axis, level=level, errors=errors)\n"
     ]
    }
   ],
   "source": [
    "df_comp['nikkei']=df_comp['^N225'].Close[:]\n",
    "df_comp['ftse']=df_comp['^FTSE'].Close[:]\n",
    "df_comp['spx']=df_comp['^GSPC'].Close[:]\n",
    "df_comp['dax']=df_comp['^GDAXI'].Close[:]\n",
    "df_comp.drop(columns=['^N225','^FTSE','^GSPC','^GDAXI'],inplace=True)"
   ]
  },
  {
   "cell_type": "code",
   "execution_count": 4,
   "id": "f9a6840b-1d27-4acf-bdb3-c3560e4c845a",
   "metadata": {},
   "outputs": [
    {
     "data": {
      "text/html": [
       "<div>\n",
       "<style scoped>\n",
       "    .dataframe tbody tr th:only-of-type {\n",
       "        vertical-align: middle;\n",
       "    }\n",
       "\n",
       "    .dataframe tbody tr th {\n",
       "        vertical-align: top;\n",
       "    }\n",
       "\n",
       "    .dataframe thead tr th {\n",
       "        text-align: left;\n",
       "    }\n",
       "\n",
       "    .dataframe thead tr:last-of-type th {\n",
       "        text-align: right;\n",
       "    }\n",
       "</style>\n",
       "<table border=\"1\" class=\"dataframe\">\n",
       "  <thead>\n",
       "    <tr>\n",
       "      <th>Ticker</th>\n",
       "      <th>nikkei</th>\n",
       "      <th>ftse</th>\n",
       "      <th>spx</th>\n",
       "      <th>dax</th>\n",
       "    </tr>\n",
       "    <tr>\n",
       "      <th>Price</th>\n",
       "      <th></th>\n",
       "      <th></th>\n",
       "      <th></th>\n",
       "      <th></th>\n",
       "    </tr>\n",
       "    <tr>\n",
       "      <th>Date</th>\n",
       "      <th></th>\n",
       "      <th></th>\n",
       "      <th></th>\n",
       "      <th></th>\n",
       "    </tr>\n",
       "  </thead>\n",
       "  <tbody>\n",
       "    <tr>\n",
       "      <th>1994-01-07 00:00:00+00:00</th>\n",
       "      <td>18124.009766</td>\n",
       "      <td>3446.000000</td>\n",
       "      <td>469.899994</td>\n",
       "      <td>2224.949951</td>\n",
       "    </tr>\n",
       "    <tr>\n",
       "      <th>1994-01-10 00:00:00+00:00</th>\n",
       "      <td>18443.439453</td>\n",
       "      <td>3440.600098</td>\n",
       "      <td>475.269989</td>\n",
       "      <td>2225.000000</td>\n",
       "    </tr>\n",
       "    <tr>\n",
       "      <th>1994-01-11 00:00:00+00:00</th>\n",
       "      <td>18485.250000</td>\n",
       "      <td>3413.800049</td>\n",
       "      <td>474.130005</td>\n",
       "      <td>2228.100098</td>\n",
       "    </tr>\n",
       "  </tbody>\n",
       "</table>\n",
       "</div>"
      ],
      "text/plain": [
       "Ticker                           nikkei         ftse         spx          dax\n",
       "Price                                                                        \n",
       "Date                                                                         \n",
       "1994-01-07 00:00:00+00:00  18124.009766  3446.000000  469.899994  2224.949951\n",
       "1994-01-10 00:00:00+00:00  18443.439453  3440.600098  475.269989  2225.000000\n",
       "1994-01-11 00:00:00+00:00  18485.250000  3413.800049  474.130005  2228.100098"
      ]
     },
     "execution_count": 4,
     "metadata": {},
     "output_type": "execute_result"
    }
   ],
   "source": [
    "df_comp.head(3)"
   ]
  },
  {
   "cell_type": "code",
   "execution_count": 5,
   "id": "2b336e34-4396-422d-b0d9-c72fa5b4719f",
   "metadata": {},
   "outputs": [],
   "source": [
    "df_comp['ret_nikkei']=df_comp['nikkei'].pct_change(1).mul(100)\n",
    "df_comp['ret_ftse']=df_comp['ftse'].pct_change(1).mul(100)\n",
    "df_comp['ret_spx']=df_comp['spx'].pct_change(1).mul(100)\n",
    "df_comp['ret_dax']=df_comp['dax'].pct_change(1).mul(100)"
   ]
  },
  {
   "cell_type": "code",
   "execution_count": 6,
   "id": "d11d8d5d-189d-467b-8e70-6fd7afc2bb41",
   "metadata": {},
   "outputs": [],
   "source": [
    "df_comp['norm_ret_nikkei']=df_comp['ret_nikkei'].div(df_comp['ret_nikkei'][1])*100\n",
    "df_comp['norm_ret_ftse']=df_comp['ret_ftse'].div(df_comp['ret_ftse'][1])*100\n",
    "df_comp['norm_ret_spx']=df_comp['ret_spx'].div(df_comp['ret_spx'][1])*100\n",
    "df_comp['norm_ret_dax']=df_comp['ret_dax'].div(df_comp['ret_dax'][1])*100"
   ]
  },
  {
   "cell_type": "code",
   "execution_count": 7,
   "id": "23213ff5-b6be-4b6d-b92c-457c4ab578f3",
   "metadata": {},
   "outputs": [
    {
     "data": {
      "text/plain": [
       "Ticker           Price\n",
       "nikkei                    0\n",
       "ftse                      0\n",
       "spx                       0\n",
       "dax                       0\n",
       "ret_nikkei                0\n",
       "ret_ftse                  0\n",
       "ret_spx                   0\n",
       "ret_dax                   0\n",
       "norm_ret_nikkei           0\n",
       "norm_ret_ftse             0\n",
       "norm_ret_spx              0\n",
       "norm_ret_dax              0\n",
       "dtype: int64"
      ]
     },
     "execution_count": 7,
     "metadata": {},
     "output_type": "execute_result"
    }
   ],
   "source": [
    "df_comp.isin([np.inf, -np.inf]).sum()"
   ]
  },
  {
   "cell_type": "code",
   "execution_count": 8,
   "id": "a3cc5fba-07ab-4ad3-9193-3363c7ffa301",
   "metadata": {},
   "outputs": [],
   "source": [
    "df_comp.index=df_comp.index.date"
   ]
  },
  {
   "cell_type": "code",
   "execution_count": 9,
   "id": "d431e9fb-dfbe-4b64-b405-a79b2ab65984",
   "metadata": {},
   "outputs": [
    {
     "data": {
      "text/plain": [
       "(6673, 12)"
      ]
     },
     "execution_count": 9,
     "metadata": {},
     "output_type": "execute_result"
    }
   ],
   "source": [
    "df_comp.shape"
   ]
  },
  {
   "cell_type": "code",
   "execution_count": 10,
   "id": "66296749-c866-4723-b224-c1a494974855",
   "metadata": {},
   "outputs": [],
   "source": [
    "df_comp=df_comp.asfreq('b')"
   ]
  },
  {
   "cell_type": "code",
   "execution_count": 11,
   "id": "ffc8abb9-98c5-4124-ab73-5c724d5ec4b0",
   "metadata": {},
   "outputs": [
    {
     "data": {
      "text/plain": [
       "Ticker           Price\n",
       "nikkei                    390\n",
       "ftse                      211\n",
       "spx                       233\n",
       "dax                       197\n",
       "ret_nikkei                 19\n",
       "ret_ftse                   19\n",
       "ret_spx                    19\n",
       "ret_dax                    19\n",
       "norm_ret_nikkei            19\n",
       "norm_ret_ftse              19\n",
       "norm_ret_spx               19\n",
       "norm_ret_dax               19\n",
       "dtype: int64"
      ]
     },
     "execution_count": 11,
     "metadata": {},
     "output_type": "execute_result"
    }
   ],
   "source": [
    "df_comp.isna().sum()"
   ]
  },
  {
   "cell_type": "code",
   "execution_count": 12,
   "id": "ecaffe30-ec27-4d7f-ac8e-ce544a3e7545",
   "metadata": {},
   "outputs": [
    {
     "name": "stderr",
     "output_type": "stream",
     "text": [
      "C:\\Users\\adadi\\anaconda3\\envs\\DataScienceEnv\\lib\\site-packages\\pandas\\core\\generic.py:6392: SettingWithCopyWarning: \n",
      "A value is trying to be set on a copy of a slice from a DataFrame\n",
      "\n",
      "See the caveats in the documentation: https://pandas.pydata.org/pandas-docs/stable/user_guide/indexing.html#returning-a-view-versus-a-copy\n",
      "  return self._update_inplace(result)\n"
     ]
    }
   ],
   "source": [
    "df_comp.ftse.fillna(method='ffill',inplace=True)\n",
    "df_comp.spx.fillna(method='ffill',inplace=True)\n",
    "df_comp.nikkei.fillna(method='ffill',inplace=True)\n",
    "df_comp.dax.fillna(method='ffill',inplace=True)\n",
    "df_comp.ret_ftse.fillna(method='ffill',inplace=True)\n",
    "df_comp.ret_spx.fillna(method='ffill',inplace=True)\n",
    "df_comp.ret_nikkei.fillna(method='ffill',inplace=True)\n",
    "df_comp.ret_dax.fillna(method='ffill',inplace=True)\n",
    "df_comp.norm_ret_ftse.fillna(method='ffill',inplace=True)\n",
    "df_comp.norm_ret_spx.fillna(method='ffill',inplace=True)\n",
    "df_comp.norm_ret_nikkei.fillna(method='ffill',inplace=True)\n",
    "df_comp.norm_ret_dax.fillna(method='ffill',inplace=True)"
   ]
  },
  {
   "cell_type": "code",
   "execution_count": 13,
   "id": "f47a3f55-14ec-4c2c-a333-ec653bc8a900",
   "metadata": {},
   "outputs": [
    {
     "data": {
      "text/plain": [
       "(0, 0, 0, 0)"
      ]
     },
     "execution_count": 13,
     "metadata": {},
     "output_type": "execute_result"
    }
   ],
   "source": [
    "df_comp.ftse.isna().sum(),df_comp.spx.isna().sum(),df_comp.nikkei.isna().sum(),df_comp.dax.isna().sum()"
   ]
  },
  {
   "cell_type": "code",
   "execution_count": 14,
   "id": "729ad116-ab7d-4100-a67b-43648efb1ff2",
   "metadata": {},
   "outputs": [
    {
     "data": {
      "text/plain": [
       "(6691, 12)"
      ]
     },
     "execution_count": 14,
     "metadata": {},
     "output_type": "execute_result"
    }
   ],
   "source": [
    "df_comp.shape"
   ]
  },
  {
   "cell_type": "code",
   "execution_count": 15,
   "id": "340e3f0b-5b87-4840-8852-b2e0331dfd05",
   "metadata": {},
   "outputs": [],
   "source": [
    "size=int(len(df_comp)*0.8)\n",
    "df,df_test = df_comp.iloc[:size],df_comp.iloc[size:]"
   ]
  },
  {
   "cell_type": "code",
   "execution_count": 16,
   "id": "e3149774-87fd-4b81-a2c3-67b51cafc86a",
   "metadata": {},
   "outputs": [
    {
     "data": {
      "text/plain": [
       "(Timestamp('2014-07-14 00:00:00', freq='B'),\n",
       " Timestamp('1994-01-07 00:00:00', freq='B'),\n",
       " Timestamp('2019-08-30 00:00:00', freq='B'),\n",
       " Timestamp('2014-07-15 00:00:00', freq='B'))"
      ]
     },
     "execution_count": 16,
     "metadata": {},
     "output_type": "execute_result"
    }
   ],
   "source": [
    "df.index.max(),df.index.min(),df_test.index.max(),df_test.index.min()"
   ]
  },
  {
   "cell_type": "code",
   "execution_count": null,
   "id": "35ac1fc4-67ec-44fb-8848-907d14a5e0c9",
   "metadata": {},
   "outputs": [],
   "source": []
  }
 ],
 "metadata": {
  "kernelspec": {
   "display_name": "DataScienceEnv",
   "language": "python",
   "name": "datascienceenv"
  },
  "language_info": {
   "codemirror_mode": {
    "name": "ipython",
    "version": 3
   },
   "file_extension": ".py",
   "mimetype": "text/x-python",
   "name": "python",
   "nbconvert_exporter": "python",
   "pygments_lexer": "ipython3",
   "version": "3.8.19"
  },
  "widgets": {
   "application/vnd.jupyter.widget-state+json": {
    "state": {},
    "version_major": 2,
    "version_minor": 0
   }
  }
 },
 "nbformat": 4,
 "nbformat_minor": 5
}
