{
 "cells": [
  {
   "cell_type": "code",
   "execution_count": 47,
   "id": "a1a4a4cd-cfaf-4a8f-8325-acfefe7bbd73",
   "metadata": {},
   "outputs": [],
   "source": [
    "import pandas as pd\n",
    "import numpy as np\n",
    "import matplotlib.pyplot as plt \n",
    "import seaborn as sns\n",
    "import statsmodels\n",
    "import scipy\n",
    "import statsmodels.graphics.tsaplots as sgt\n",
    "from statsmodels.tsa.seasonal import seasonal_decompose\n",
    "from statsmodels.tsa.stattools import adfuller\n",
    "import scipy.stats\n",
    "import pylab\n",
    "from scipy.stats.distributions import chi2\n",
    "from scipy.stats import norm\n",
    "from math import sqrt\n",
    "sns.set()"
   ]
  },
  {
   "cell_type": "code",
   "execution_count": 2,
   "id": "e87d4a9b-8afa-4cf0-a9b8-44842f79735a",
   "metadata": {},
   "outputs": [
    {
     "data": {
      "text/plain": [
       "(6277, 4)"
      ]
     },
     "execution_count": 2,
     "metadata": {},
     "output_type": "execute_result"
    }
   ],
   "source": [
    "raw_index_data=pd.read_csv('Index2018.csv')  # Index price data Importation in Raw_index_data variable\n",
    "df_index=raw_index_data.copy()  # copy to df_index from Raw_index_data\n",
    "df_index.date=pd.to_datetime(df_index.date,dayfirst=True) # datatype of date column changed to datetime \n",
    "df_index.set_index('date',inplace=True) # set date column as index\n",
    "df_index=df_index.asfreq('b') # setting frequency of data obsevation to business days\n",
    "df_index.shape #shape checking "
   ]
  },
  {
   "cell_type": "code",
   "execution_count": 3,
   "id": "0e907a71-2d56-4b33-aa39-b2c247f6d1c1",
   "metadata": {},
   "outputs": [],
   "source": [
    "df_index.spx.fillna(method='ffill',inplace=True) # front filling of missing values of spx columns\n",
    "df_index.ftse.fillna(method='bfill',inplace=True) # backfilling of missing values of ftse columns\n",
    "df_index.dax.fillna(df_index.dax.mean(),inplace=True) # mean value assigned to each missing values of dax columns \n",
    "df_index.nikkei.fillna(df_index.nikkei.median(),inplace=True) # median value assigned to each missing value of nikkei"
   ]
  },
  {
   "cell_type": "code",
   "execution_count": 4,
   "id": "47898476-2b58-4545-9fa7-6196a355522f",
   "metadata": {},
   "outputs": [
    {
     "name": "stderr",
     "output_type": "stream",
     "text": [
      "C:\\Users\\adadi\\anaconda3\\envs\\DataScienceEnv\\lib\\site-packages\\pandas\\core\\frame.py:5039: SettingWithCopyWarning: \n",
      "A value is trying to be set on a copy of a slice from a DataFrame\n",
      "\n",
      "See the caveats in the documentation: https://pandas.pydata.org/pandas-docs/stable/user_guide/indexing.html#returning-a-view-versus-a-copy\n",
      "  return super().rename(\n"
     ]
    }
   ],
   "source": [
    "df_market_value=df_index[['ftse']] # Selecting FTSE index for further processing\n",
    "df_market_value.rename(columns={'ftse':'market_value'},inplace=True) # renaming ftse to market value\n",
    "traininglen=int(len(df_market_value)*0.8) # Train and test split with ratio of 80:20\n",
    "testingLen=len(df_market_value)-traininglen\n",
    "df_market_value_train=df_market_value.iloc[:traininglen,:]\n",
    "df_market_value_test=df_market_value.iloc[traininglen:,:]"
   ]
  },
  {
   "cell_type": "code",
   "execution_count": 5,
   "id": "dd7a09c9-58f9-43b7-bebe-bcccb4928736",
   "metadata": {},
   "outputs": [
    {
     "name": "stderr",
     "output_type": "stream",
     "text": [
      "C:\\Users\\adadi\\AppData\\Local\\Temp/ipykernel_12116/3189272835.py:4: SettingWithCopyWarning: \n",
      "A value is trying to be set on a copy of a slice from a DataFrame.\n",
      "Try using .loc[row_indexer,col_indexer] = value instead\n",
      "\n",
      "See the caveats in the documentation: https://pandas.pydata.org/pandas-docs/stable/user_guide/indexing.html#returning-a-view-versus-a-copy\n",
      "  df_market_value_train['wn']=wn # making a new column for white noice which is just created.\n"
     ]
    }
   ],
   "source": [
    "mean=df_market_value_train['market_value'].mean() # calculating mean of ftse market index values from training part of dataset\n",
    "std=df_market_value_train['market_value'].std() # calculating std from same\n",
    "wn=np.random.normal(loc=mean,scale=std,size=len(df_market_value_train)) # creating white noice using np.random.uniform()\n",
    "df_market_value_train['wn']=wn # making a new column for white noice which is just created."
   ]
  },
  {
   "cell_type": "code",
   "execution_count": 6,
   "id": "26600f5a-013e-4f4a-aafa-0493b8cd7813",
   "metadata": {},
   "outputs": [],
   "source": [
    "rw=pd.read_csv('RandWalk.csv') # adding new column for random walk in training dataframe  \n",
    "rw.date=pd.to_datetime(rw.date,dayfirst=True)\n",
    "rw.set_index('date',inplace=True)\n",
    "df_market_value_train=pd.merge(left=df_market_value_train,right=rw,left_index=True, right_index=True)\n",
    "df_market_value_train.rename(columns={'price':'rw'},inplace=True) # renaming the randomwalk value column"
   ]
  },
  {
   "cell_type": "code",
   "execution_count": 7,
   "id": "bf371d90-d0b2-4fb5-822c-4316b476d506",
   "metadata": {},
   "outputs": [
    {
     "data": {
      "text/html": [
       "<div>\n",
       "<style scoped>\n",
       "    .dataframe tbody tr th:only-of-type {\n",
       "        vertical-align: middle;\n",
       "    }\n",
       "\n",
       "    .dataframe tbody tr th {\n",
       "        vertical-align: top;\n",
       "    }\n",
       "\n",
       "    .dataframe thead th {\n",
       "        text-align: right;\n",
       "    }\n",
       "</style>\n",
       "<table border=\"1\" class=\"dataframe\">\n",
       "  <thead>\n",
       "    <tr style=\"text-align: right;\">\n",
       "      <th></th>\n",
       "      <th>market_value</th>\n",
       "      <th>wn</th>\n",
       "      <th>rw</th>\n",
       "    </tr>\n",
       "    <tr>\n",
       "      <th>date</th>\n",
       "      <th></th>\n",
       "      <th></th>\n",
       "      <th></th>\n",
       "    </tr>\n",
       "  </thead>\n",
       "  <tbody>\n",
       "    <tr>\n",
       "      <th>1994-01-07</th>\n",
       "      <td>3445.98</td>\n",
       "      <td>4343.227431</td>\n",
       "      <td>1122.139662</td>\n",
       "    </tr>\n",
       "    <tr>\n",
       "      <th>1994-01-10</th>\n",
       "      <td>3440.58</td>\n",
       "      <td>4363.947785</td>\n",
       "      <td>1080.347860</td>\n",
       "    </tr>\n",
       "    <tr>\n",
       "      <th>1994-01-11</th>\n",
       "      <td>3413.77</td>\n",
       "      <td>5139.494575</td>\n",
       "      <td>1082.095245</td>\n",
       "    </tr>\n",
       "    <tr>\n",
       "      <th>1994-01-12</th>\n",
       "      <td>3372.02</td>\n",
       "      <td>5807.998490</td>\n",
       "      <td>1083.639265</td>\n",
       "    </tr>\n",
       "    <tr>\n",
       "      <th>1994-01-13</th>\n",
       "      <td>3360.01</td>\n",
       "      <td>6078.938518</td>\n",
       "      <td>1067.146255</td>\n",
       "    </tr>\n",
       "  </tbody>\n",
       "</table>\n",
       "</div>"
      ],
      "text/plain": [
       "            market_value           wn           rw\n",
       "date                                              \n",
       "1994-01-07       3445.98  4343.227431  1122.139662\n",
       "1994-01-10       3440.58  4363.947785  1080.347860\n",
       "1994-01-11       3413.77  5139.494575  1082.095245\n",
       "1994-01-12       3372.02  5807.998490  1083.639265\n",
       "1994-01-13       3360.01  6078.938518  1067.146255"
      ]
     },
     "execution_count": 7,
     "metadata": {},
     "output_type": "execute_result"
    }
   ],
   "source": [
    "df_market_value_train.head()"
   ]
  },
  {
   "cell_type": "markdown",
   "id": "ac8b022a-fc3b-451b-a3a1-503ef0ea7e34",
   "metadata": {},
   "source": [
    "### ***Ploting ACF and PACF Plot On FTSE Index price***"
   ]
  },
  {
   "cell_type": "code",
   "execution_count": 8,
   "id": "5d6dbb31-0a1c-45c4-a634-82d0313ff90c",
   "metadata": {},
   "outputs": [
    {
     "data": {
      "image/png": "[encoded data removed]",
      "text/plain": [
       "<Figure size 432x288 with 1 Axes>"
      ]
     },
     "metadata": {},
     "output_type": "display_data"
    }
   ],
   "source": [
    "sgt.plot_acf(df_market_value_train.market_value,lags=40,zero=False,use_vlines=True)\n",
    "plt.title('Auto Correlation Plot on Ftse course',size=20)\n",
    "plt.show()"
   ]
  },
  {
   "cell_type": "code",
   "execution_count": 9,
   "id": "46038e7e-29d4-45ab-9838-571e05d410fa",
   "metadata": {},
   "outputs": [
    {
     "data": {
      "image/png": "[encoded data removed]",
      "text/plain": [
       "<Figure size 432x288 with 1 Axes>"
      ]
     },
     "metadata": {},
     "output_type": "display_data"
    }
   ],
   "source": [
    "sgt.plot_pacf(df_market_value_train.market_value,lags=40,zero=False,method='ols',alpha=0.05)\n",
    "plt.title('Partial Autocorrelation Plot for FTST market index price',size=20)\n",
    "plt.show()"
   ]
  },
  {
   "cell_type": "markdown",
   "id": "10090de2-8fbf-4a4b-9927-6aa8c458e971",
   "metadata": {},
   "source": [
    "### ***Observation***\n",
    "- In autocorrelation plot it is observed that current data point has significant correlation(direct and indirect) with previous data points present at different possible lag up to 40.\n",
    "- So we can predict next time series data using previous upto 40 data points.\n",
    "- But Partial auto correlation states a different picture Since it takes only the direct effect of the each previous data points.\n",
    "- It PACF plot shows that it is only last index price which affect significantly current index price. otherwise upto lag 8 pacf has just exceed the threshold limit. upto 40 lag there exist some correlatin which also exceed the threshold value.\n",
    "- since in PACF we are dealing with direct correaltion between each X(t) and X(t-k) where k in {1,2,..40}, So negative correlation also exit which says that the index price will increase or decease oposite to increase and decrease of price at certain lagpoints.\n",
    "- Since this pacf value is barely exceed threshold value So we wll avoid to overanalyze it to make the model more parsemonious.\n",
    "- So we will consider lag up 22 since a month have 22 business days and upto this points pacf plot of reasonable correlation."
   ]
  },
  {
   "cell_type": "markdown",
   "id": "8a94840d-fab1-4575-9a63-5864b4432e29",
   "metadata": {},
   "source": [
    "### ***Auto Regression Model***\n",
    "- This model is used to predict future data points by taking past data points as inputs in time series data.\n",
    "- A normal auto regression model consisist of variable for inputs data mulitplied by some coefficients values.\n",
    "- Sumation of input past data mulitplied by coefficient value will give future result.\n",
    "- eq: X(t) = B + X(t-1)*C1 + X(t-2)*C2 +..... + Epsilon0\n",
    "- |C1| < 1 otherwise value of the output will explode.\n",
    "- Epsilon0 is the residual( white noice), which is created unexpectedly."
   ]
  },
  {
   "cell_type": "code",
   "execution_count": 10,
   "id": "5fa61bfd-8ed8-4607-abaa-3e5b7647816e",
   "metadata": {},
   "outputs": [],
   "source": [
    "from statsmodels.tsa.arima.model import ARIMA"
   ]
  },
  {
   "cell_type": "markdown",
   "id": "cec81373-56ef-44f4-a697-daa4bcfa4361",
   "metadata": {},
   "source": [
    "### ***AR1 Model***"
   ]
  },
  {
   "cell_type": "code",
   "execution_count": 11,
   "id": "10c9c36e-71ce-48a8-b8ca-cf9985f30ff0",
   "metadata": {},
   "outputs": [
    {
     "name": "stderr",
     "output_type": "stream",
     "text": [
      "C:\\Users\\adadi\\anaconda3\\envs\\DataScienceEnv\\lib\\site-packages\\statsmodels\\tsa\\base\\tsa_model.py:473: ValueWarning: No frequency information was provided, so inferred frequency B will be used.\n",
      "  self._init_dates(dates, freq)\n"
     ]
    },
    {
     "data": {
      "text/html": [
       "<table class=\"simpletable\">\n",
       "<caption>SARIMAX Results</caption>\n",
       "<tr>\n",
       "  <th>Dep. Variable:</th>     <td>market_value</td>   <th>  No. Observations:  </th>    <td>5021</td>   \n",
       "</tr>\n",
       "<tr>\n",
       "  <th>Model:</th>            <td>ARIMA(1, 0, 0)</td>  <th>  Log Likelihood     </th> <td>-27622.604</td>\n",
       "</tr>\n",
       "<tr>\n",
       "  <th>Date:</th>            <td>Wed, 23 Oct 2024</td> <th>  AIC                </th>  <td>55251.207</td>\n",
       "</tr>\n",
       "<tr>\n",
       "  <th>Time:</th>                <td>15:43:32</td>     <th>  BIC                </th>  <td>55270.772</td>\n",
       "</tr>\n",
       "<tr>\n",
       "  <th>Sample:</th>             <td>01-07-1994</td>    <th>  HQIC               </th>  <td>55258.063</td>\n",
       "</tr>\n",
       "<tr>\n",
       "  <th></th>                   <td>- 04-05-2013</td>   <th>                     </th>      <td> </td>    \n",
       "</tr>\n",
       "<tr>\n",
       "  <th>Covariance Type:</th>        <td>opg</td>       <th>                     </th>      <td> </td>    \n",
       "</tr>\n",
       "</table>\n",
       "<table class=\"simpletable\">\n",
       "<tr>\n",
       "     <td></td>       <th>coef</th>     <th>std err</th>      <th>z</th>      <th>P>|z|</th>  <th>[0.025</th>    <th>0.975]</th>  \n",
       "</tr>\n",
       "<tr>\n",
       "  <th>const</th>  <td> 5089.6981</td> <td>  423.327</td> <td>   12.023</td> <td> 0.000</td> <td> 4259.992</td> <td> 5919.404</td>\n",
       "</tr>\n",
       "<tr>\n",
       "  <th>ar.L1</th>  <td>    0.9984</td> <td>    0.001</td> <td> 1147.577</td> <td> 0.000</td> <td>    0.997</td> <td>    1.000</td>\n",
       "</tr>\n",
       "<tr>\n",
       "  <th>sigma2</th> <td> 3511.3843</td> <td>   40.874</td> <td>   85.907</td> <td> 0.000</td> <td> 3431.272</td> <td> 3591.496</td>\n",
       "</tr>\n",
       "</table>\n",
       "<table class=\"simpletable\">\n",
       "<tr>\n",
       "  <th>Ljung-Box (L1) (Q):</th>     <td>1.51</td> <th>  Jarque-Bera (JB):  </th> <td>3313.33</td>\n",
       "</tr>\n",
       "<tr>\n",
       "  <th>Prob(Q):</th>                <td>0.22</td> <th>  Prob(JB):          </th>  <td>0.00</td>  \n",
       "</tr>\n",
       "<tr>\n",
       "  <th>Heteroskedasticity (H):</th> <td>1.90</td> <th>  Skew:              </th>  <td>-0.18</td> \n",
       "</tr>\n",
       "<tr>\n",
       "  <th>Prob(H) (two-sided):</th>    <td>0.00</td> <th>  Kurtosis:          </th>  <td>6.96</td>  \n",
       "</tr>\n",
       "</table><br/><br/>Warnings:<br/>[1] Covariance matrix calculated using the outer product of gradients (complex-step)."
      ],
      "text/latex": [
       "\\begin{center}\n",
       "\\begin{tabular}{lclc}\n",
       "\\toprule\n",
       "\\textbf{Dep. Variable:}          &  market\\_value   & \\textbf{  No. Observations:  } &    5021     \\\\\n",
       "\\textbf{Model:}                  &  ARIMA(1, 0, 0)  & \\textbf{  Log Likelihood     } & -27622.604  \\\\\n",
       "\\textbf{Date:}                   & Wed, 23 Oct 2024 & \\textbf{  AIC                } & 55251.207   \\\\\n",
       "\\textbf{Time:}                   &     15:43:32     & \\textbf{  BIC                } & 55270.772   \\\\\n",
       "\\textbf{Sample:}                 &    01-07-1994    & \\textbf{  HQIC               } & 55258.063   \\\\\n",
       "\\textbf{}                        &   - 04-05-2013   & \\textbf{                     } &             \\\\\n",
       "\\textbf{Covariance Type:}        &       opg        & \\textbf{                     } &             \\\\\n",
       "\\bottomrule\n",
       "\\end{tabular}\n",
       "\\begin{tabular}{lcccccc}\n",
       "                & \\textbf{coef} & \\textbf{std err} & \\textbf{z} & \\textbf{P$> |$z$|$} & \\textbf{[0.025} & \\textbf{0.975]}  \\\\\n",
       "\\midrule\n",
       "\\textbf{const}  &    5089.6981  &      423.327     &    12.023  &         0.000        &     4259.992    &     5919.404     \\\\\n",
       "\\textbf{ar.L1}  &       0.9984  &        0.001     &  1147.577  &         0.000        &        0.997    &        1.000     \\\\\n",
       "\\textbf{sigma2} &    3511.3843  &       40.874     &    85.907  &         0.000        &     3431.272    &     3591.496     \\\\\n",
       "\\bottomrule\n",
       "\\end{tabular}\n",
       "\\begin{tabular}{lclc}\n",
       "\\textbf{Ljung-Box (L1) (Q):}     & 1.51 & \\textbf{  Jarque-Bera (JB):  } & 3313.33  \\\\\n",
       "\\textbf{Prob(Q):}                & 0.22 & \\textbf{  Prob(JB):          } &   0.00   \\\\\n",
       "\\textbf{Heteroskedasticity (H):} & 1.90 & \\textbf{  Skew:              } &  -0.18   \\\\\n",
       "\\textbf{Prob(H) (two-sided):}    & 0.00 & \\textbf{  Kurtosis:          } &   6.96   \\\\\n",
       "\\bottomrule\n",
       "\\end{tabular}\n",
       "%\\caption{SARIMAX Results}\n",
       "\\end{center}\n",
       "\n",
       "Warnings: \\newline\n",
       " [1] Covariance matrix calculated using the outer product of gradients (complex-step)."
      ],
      "text/plain": [
       "<class 'statsmodels.iolib.summary.Summary'>\n",
       "\"\"\"\n",
       "                               SARIMAX Results                                \n",
       "==============================================================================\n",
       "Dep. Variable:           market_value   No. Observations:                 5021\n",
       "Model:                 ARIMA(1, 0, 0)   Log Likelihood              -27622.604\n",
       "Date:                Wed, 23 Oct 2024   AIC                          55251.207\n",
       "Time:                        15:43:32   BIC                          55270.772\n",
       "Sample:                    01-07-1994   HQIC                         55258.063\n",
       "                         - 04-05-2013                                         \n",
       "Covariance Type:                  opg                                         \n",
       "==============================================================================\n",
       "                 coef    std err          z      P>|z|      [0.025      0.975]\n",
       "------------------------------------------------------------------------------\n",
       "const       5089.6981    423.327     12.023      0.000    4259.992    5919.404\n",
       "ar.L1          0.9984      0.001   1147.577      0.000       0.997       1.000\n",
       "sigma2      3511.3843     40.874     85.907      0.000    3431.272    3591.496\n",
       "===================================================================================\n",
       "Ljung-Box (L1) (Q):                   1.51   Jarque-Bera (JB):              3313.33\n",
       "Prob(Q):                              0.22   Prob(JB):                         0.00\n",
       "Heteroskedasticity (H):               1.90   Skew:                            -0.18\n",
       "Prob(H) (two-sided):                  0.00   Kurtosis:                         6.96\n",
       "===================================================================================\n",
       "\n",
       "Warnings:\n",
       "[1] Covariance matrix calculated using the outer product of gradients (complex-step).\n",
       "\"\"\""
      ]
     },
     "execution_count": 11,
     "metadata": {},
     "output_type": "execute_result"
    }
   ],
   "source": [
    "model_ar1=ARIMA(df_market_value_train.market_value,order=(1,0,0),freq='B')\n",
    "result_ar1=model_ar1.fit()\n",
    "result_ar1.summary()"
   ]
  },
  {
   "cell_type": "markdown",
   "id": "268beb2a-93b6-4399-98b3-fad7174a7708",
   "metadata": {},
   "source": [
    "***Observation***\n",
    "- Log likelihood value found out to be -27622.604.\n",
    "- Significance of cofficient and constant values are good. since p value are less than 0.05.\n",
    "- 95% confidence interval of Coefficient-1 lies between [0.997\t1.000]\n",
    "- And for constant it lies between [4259.992\t5919.404]\n",
    "- So Coefficient are significant"
   ]
  },
  {
   "cell_type": "markdown",
   "id": "ed6556a3-12d7-4c70-9509-5e17567243cb",
   "metadata": {},
   "source": [
    "### ***AR2 Model***"
   ]
  },
  {
   "cell_type": "code",
   "execution_count": 12,
   "id": "abde2cc4-823d-4b77-926b-a47a82b27ddb",
   "metadata": {},
   "outputs": [
    {
     "name": "stderr",
     "output_type": "stream",
     "text": [
      "C:\\Users\\adadi\\anaconda3\\envs\\DataScienceEnv\\lib\\site-packages\\statsmodels\\tsa\\base\\tsa_model.py:473: ValueWarning: No frequency information was provided, so inferred frequency B will be used.\n",
      "  self._init_dates(dates, freq)\n"
     ]
    },
    {
     "data": {
      "text/html": [
       "<table class=\"simpletable\">\n",
       "<caption>SARIMAX Results</caption>\n",
       "<tr>\n",
       "  <th>Dep. Variable:</th>     <td>market_value</td>   <th>  No. Observations:  </th>    <td>5021</td>   \n",
       "</tr>\n",
       "<tr>\n",
       "  <th>Model:</th>            <td>ARIMA(2, 0, 0)</td>  <th>  Log Likelihood     </th> <td>-27621.947</td>\n",
       "</tr>\n",
       "<tr>\n",
       "  <th>Date:</th>            <td>Wed, 23 Oct 2024</td> <th>  AIC                </th>  <td>55251.894</td>\n",
       "</tr>\n",
       "<tr>\n",
       "  <th>Time:</th>                <td>15:43:33</td>     <th>  BIC                </th>  <td>55277.980</td>\n",
       "</tr>\n",
       "<tr>\n",
       "  <th>Sample:</th>             <td>01-07-1994</td>    <th>  HQIC               </th>  <td>55261.035</td>\n",
       "</tr>\n",
       "<tr>\n",
       "  <th></th>                   <td>- 04-05-2013</td>   <th>                     </th>      <td> </td>    \n",
       "</tr>\n",
       "<tr>\n",
       "  <th>Covariance Type:</th>        <td>opg</td>       <th>                     </th>      <td> </td>    \n",
       "</tr>\n",
       "</table>\n",
       "<table class=\"simpletable\">\n",
       "<tr>\n",
       "     <td></td>       <th>coef</th>     <th>std err</th>      <th>z</th>      <th>P>|z|</th>  <th>[0.025</th>    <th>0.975]</th>  \n",
       "</tr>\n",
       "<tr>\n",
       "  <th>const</th>  <td> 5089.7015</td> <td>  368.244</td> <td>   13.822</td> <td> 0.000</td> <td> 4367.956</td> <td> 5811.447</td>\n",
       "</tr>\n",
       "<tr>\n",
       "  <th>ar.L1</th>  <td>    0.9810</td> <td>    0.010</td> <td>   99.872</td> <td> 0.000</td> <td>    0.962</td> <td>    1.000</td>\n",
       "</tr>\n",
       "<tr>\n",
       "  <th>ar.L2</th>  <td>    0.0172</td> <td>    0.010</td> <td>    1.752</td> <td> 0.080</td> <td>   -0.002</td> <td>    0.036</td>\n",
       "</tr>\n",
       "<tr>\n",
       "  <th>sigma2</th> <td> 3510.1247</td> <td>   41.037</td> <td>   85.536</td> <td> 0.000</td> <td> 3429.694</td> <td> 3590.555</td>\n",
       "</tr>\n",
       "</table>\n",
       "<table class=\"simpletable\">\n",
       "<tr>\n",
       "  <th>Ljung-Box (L1) (Q):</th>     <td>0.00</td> <th>  Jarque-Bera (JB):  </th> <td>3282.87</td>\n",
       "</tr>\n",
       "<tr>\n",
       "  <th>Prob(Q):</th>                <td>0.95</td> <th>  Prob(JB):          </th>  <td>0.00</td>  \n",
       "</tr>\n",
       "<tr>\n",
       "  <th>Heteroskedasticity (H):</th> <td>1.89</td> <th>  Skew:              </th>  <td>-0.19</td> \n",
       "</tr>\n",
       "<tr>\n",
       "  <th>Prob(H) (two-sided):</th>    <td>0.00</td> <th>  Kurtosis:          </th>  <td>6.94</td>  \n",
       "</tr>\n",
       "</table><br/><br/>Warnings:<br/>[1] Covariance matrix calculated using the outer product of gradients (complex-step)."
      ],
      "text/latex": [
       "\\begin{center}\n",
       "\\begin{tabular}{lclc}\n",
       "\\toprule\n",
       "\\textbf{Dep. Variable:}          &  market\\_value   & \\textbf{  No. Observations:  } &    5021     \\\\\n",
       "\\textbf{Model:}                  &  ARIMA(2, 0, 0)  & \\textbf{  Log Likelihood     } & -27621.947  \\\\\n",
       "\\textbf{Date:}                   & Wed, 23 Oct 2024 & \\textbf{  AIC                } & 55251.894   \\\\\n",
       "\\textbf{Time:}                   &     15:43:33     & \\textbf{  BIC                } & 55277.980   \\\\\n",
       "\\textbf{Sample:}                 &    01-07-1994    & \\textbf{  HQIC               } & 55261.035   \\\\\n",
       "\\textbf{}                        &   - 04-05-2013   & \\textbf{                     } &             \\\\\n",
       "\\textbf{Covariance Type:}        &       opg        & \\textbf{                     } &             \\\\\n",
       "\\bottomrule\n",
       "\\end{tabular}\n",
       "\\begin{tabular}{lcccccc}\n",
       "                & \\textbf{coef} & \\textbf{std err} & \\textbf{z} & \\textbf{P$> |$z$|$} & \\textbf{[0.025} & \\textbf{0.975]}  \\\\\n",
       "\\midrule\n",
       "\\textbf{const}  &    5089.7015  &      368.244     &    13.822  &         0.000        &     4367.956    &     5811.447     \\\\\n",
       "\\textbf{ar.L1}  &       0.9810  &        0.010     &    99.872  &         0.000        &        0.962    &        1.000     \\\\\n",
       "\\textbf{ar.L2}  &       0.0172  &        0.010     &     1.752  &         0.080        &       -0.002    &        0.036     \\\\\n",
       "\\textbf{sigma2} &    3510.1247  &       41.037     &    85.536  &         0.000        &     3429.694    &     3590.555     \\\\\n",
       "\\bottomrule\n",
       "\\end{tabular}\n",
       "\\begin{tabular}{lclc}\n",
       "\\textbf{Ljung-Box (L1) (Q):}     & 0.00 & \\textbf{  Jarque-Bera (JB):  } & 3282.87  \\\\\n",
       "\\textbf{Prob(Q):}                & 0.95 & \\textbf{  Prob(JB):          } &   0.00   \\\\\n",
       "\\textbf{Heteroskedasticity (H):} & 1.89 & \\textbf{  Skew:              } &  -0.19   \\\\\n",
       "\\textbf{Prob(H) (two-sided):}    & 0.00 & \\textbf{  Kurtosis:          } &   6.94   \\\\\n",
       "\\bottomrule\n",
       "\\end{tabular}\n",
       "%\\caption{SARIMAX Results}\n",
       "\\end{center}\n",
       "\n",
       "Warnings: \\newline\n",
       " [1] Covariance matrix calculated using the outer product of gradients (complex-step)."
      ],
      "text/plain": [
       "<class 'statsmodels.iolib.summary.Summary'>\n",
       "\"\"\"\n",
       "                               SARIMAX Results                                \n",
       "==============================================================================\n",
       "Dep. Variable:           market_value   No. Observations:                 5021\n",
       "Model:                 ARIMA(2, 0, 0)   Log Likelihood              -27621.947\n",
       "Date:                Wed, 23 Oct 2024   AIC                          55251.894\n",
       "Time:                        15:43:33   BIC                          55277.980\n",
       "Sample:                    01-07-1994   HQIC                         55261.035\n",
       "                         - 04-05-2013                                         \n",
       "Covariance Type:                  opg                                         \n",
       "==============================================================================\n",
       "                 coef    std err          z      P>|z|      [0.025      0.975]\n",
       "------------------------------------------------------------------------------\n",
       "const       5089.7015    368.244     13.822      0.000    4367.956    5811.447\n",
       "ar.L1          0.9810      0.010     99.872      0.000       0.962       1.000\n",
       "ar.L2          0.0172      0.010      1.752      0.080      -0.002       0.036\n",
       "sigma2      3510.1247     41.037     85.536      0.000    3429.694    3590.555\n",
       "===================================================================================\n",
       "Ljung-Box (L1) (Q):                   0.00   Jarque-Bera (JB):              3282.87\n",
       "Prob(Q):                              0.95   Prob(JB):                         0.00\n",
       "Heteroskedasticity (H):               1.89   Skew:                            -0.19\n",
       "Prob(H) (two-sided):                  0.00   Kurtosis:                         6.94\n",
       "===================================================================================\n",
       "\n",
       "Warnings:\n",
       "[1] Covariance matrix calculated using the outer product of gradients (complex-step).\n",
       "\"\"\""
      ]
     },
     "execution_count": 12,
     "metadata": {},
     "output_type": "execute_result"
    }
   ],
   "source": [
    "model_ar2=ARIMA(df_market_value_train.market_value,order=(2,0,0),freq='B')\n",
    "result_ar2=model_ar2.fit()\n",
    "result_ar2.summary()"
   ]
  },
  {
   "cell_type": "markdown",
   "id": "b9784212-02ec-40a0-b5bd-723019bec2c5",
   "metadata": {},
   "source": [
    "***Observation of ar2 model and comparision with ar1***\n",
    "- Log likelihood value of ar2 is -27621.947 where it was -27622.604 for ar1.\n",
    "- Since Loglihood has increased so ar2 model has performed well but this performance is significantly better or not, it need to be checked.\n",
    "- If we considers the value of coefficient 1 and 2 of AR2 Model it is found that coefficient 1 is significant as p value is less than 0.05 but coefficient-2 is not significant cause p value >0.05.\n",
    "- Lets make it more easy to compare two model by using Log likelihood ratio test.  \n",
    "\n"
   ]
  },
  {
   "cell_type": "markdown",
   "id": "a0890ce2-ebc9-409d-bf9f-c9be1bbd7548",
   "metadata": {},
   "source": [
    "***Log Likelihood Ratio Test***\n",
    "- this test is used to select a better model by comparing their log likelihood value.\n",
    "- It tested in null hypothesis paradigm.\n",
    "- test statistics Q=2(Lb-La).\n",
    "- This test can be performed when one of the two models which is being compared, is a special case another one. And it is also evident from model parameters that model AR1 is a Special case AR2 if cofficient-2 value becomes zero.\n",
    "- reference distribution we going to take here are chi2 distribution.\n",
    "- Here base model AR1 will be taken as null hypothesis. Since it is simple and consistent with data.\n",
    "- So if test statistics value Q exceed 95% confidence interval from null hypothesis then AR2 will be selected.\n",
    "- In other word if A is special case of B and if p value of test statistic 'Q' is less than 0.05% then B will be selected as better model. and here Q=2*(Lb-La)."
   ]
  },
  {
   "cell_type": "code",
   "execution_count": 13,
   "id": "721dd2a9-9d66-4f6b-a52d-d00ba9e1c417",
   "metadata": {},
   "outputs": [],
   "source": [
    "def LLR_test(Model_a_res,Model_b_res,df=1):\n",
    "    La=Model_a_res.llf\n",
    "    Lb=Model_b_res.llf\n",
    "    Q=2*(Lb-La)\n",
    "    P=chi2.sf(Q,df)\n",
    "    return P\n",
    "    "
   ]
  },
  {
   "cell_type": "markdown",
   "id": "764c56d8-c207-4e40-98cd-990213ec46bc",
   "metadata": {},
   "source": [
    "#### ***LLR TEST OF Model 1 and 2***"
   ]
  },
  {
   "cell_type": "code",
   "execution_count": 14,
   "id": "c8ae141e-43b6-4182-88bc-938dba28e432",
   "metadata": {},
   "outputs": [
    {
     "name": "stdout",
     "output_type": "stream",
     "text": [
      "LLR TEST 0.2518359647784034\n"
     ]
    }
   ],
   "source": [
    "print('LLR TEST',LLR_test(result_ar1,result_ar2))"
   ]
  },
  {
   "cell_type": "markdown",
   "id": "b6373c4d-3d3e-48ed-9bef-35e86f2552a0",
   "metadata": {},
   "source": [
    "***Observation***\n",
    "- LLR test statistic of model AR1 and model AR2 has found out to be 0.251 which is larger than 0.05 so we are not able reject the null hypothesis.\n",
    "- So model AR1 would be better model to pick."
   ]
  },
  {
   "cell_type": "markdown",
   "id": "40baac46-51de-4507-b3a9-5d302d7017c6",
   "metadata": {},
   "source": [
    "### ***AR2 Model***"
   ]
  },
  {
   "cell_type": "code",
   "execution_count": 15,
   "id": "31e95d8b-2621-42f8-87f0-3aef3468cc31",
   "metadata": {},
   "outputs": [
    {
     "name": "stderr",
     "output_type": "stream",
     "text": [
      "C:\\Users\\adadi\\anaconda3\\envs\\DataScienceEnv\\lib\\site-packages\\statsmodels\\tsa\\base\\tsa_model.py:473: ValueWarning: No frequency information was provided, so inferred frequency B will be used.\n",
      "  self._init_dates(dates, freq)\n"
     ]
    },
    {
     "name": "stdout",
     "output_type": "stream",
     "text": [
      "                               SARIMAX Results                                \n",
      "==============================================================================\n",
      "Dep. Variable:           market_value   No. Observations:                 5021\n",
      "Model:                 ARIMA(3, 0, 0)   Log Likelihood              -27615.741\n",
      "Date:                Wed, 23 Oct 2024   AIC                          55241.482\n",
      "Time:                        15:43:34   BIC                          55274.088\n",
      "Sample:                    01-07-1994   HQIC                         55252.907\n",
      "                         - 04-05-2013                                         \n",
      "Covariance Type:                  opg                                         \n",
      "==============================================================================\n",
      "                 coef    std err          z      P>|z|      [0.025      0.975]\n",
      "------------------------------------------------------------------------------\n",
      "const       5089.7015    378.749     13.438      0.000    4347.367    5832.036\n",
      "ar.L1          0.9802      0.010     99.074      0.000       0.961       1.000\n",
      "ar.L2         -0.0317      0.013     -2.378      0.017      -0.058      -0.006\n",
      "ar.L3          0.0498      0.009      5.480      0.000       0.032       0.068\n",
      "sigma2      3501.9545     41.013     85.387      0.000    3421.571    3582.338\n",
      "===================================================================================\n",
      "Ljung-Box (L1) (Q):                   0.06   Jarque-Bera (JB):              3288.67\n",
      "Prob(Q):                              0.81   Prob(JB):                         0.00\n",
      "Heteroskedasticity (H):               1.90   Skew:                            -0.23\n",
      "Prob(H) (two-sided):                  0.00   Kurtosis:                         6.94\n",
      "===================================================================================\n",
      "\n",
      "Warnings:\n",
      "[1] Covariance matrix calculated using the outer product of gradients (complex-step).\n",
      "LLR Test Model AR3 and AR1 0.00021152315227892057\n"
     ]
    }
   ],
   "source": [
    "model_ar3=ARIMA(df_market_value_train.market_value,order=(3,0,0),freq='B')\n",
    "result_ar3=model_ar3.fit()\n",
    "# lets compare model1 and model AR3\n",
    "print(result_ar3.summary())\n",
    "print(\"LLR Test Model AR3 and AR1\",LLR_test(result_ar1,result_ar3))"
   ]
  },
  {
   "cell_type": "markdown",
   "id": "51d4734d-257c-448a-aef9-8ae716ae6b7b",
   "metadata": {},
   "source": [
    "***Observation***\n",
    "- LLR test of model 1 and model 2 shows that model ar3 should be selected since p value <0.05\n",
    "- coefficient 1,2 and 3 has positive, negative, and postive values. these are also significant different from 0 since p values of these coefficient are less than 0.05 .\n",
    "- coefficient-2 has negative value it means that if price at lag 2 will increase then current price will decrease by some factor."
   ]
  },
  {
   "cell_type": "markdown",
   "id": "5d82cc76-8fd9-4bf0-886a-e625e5d85db2",
   "metadata": {},
   "source": [
    "### ***AR4 Model***"
   ]
  },
  {
   "cell_type": "code",
   "execution_count": 16,
   "id": "c7af4ac7-8e9f-4365-9ff3-97a3bc31771a",
   "metadata": {},
   "outputs": [
    {
     "name": "stderr",
     "output_type": "stream",
     "text": [
      "C:\\Users\\adadi\\anaconda3\\envs\\DataScienceEnv\\lib\\site-packages\\statsmodels\\tsa\\base\\tsa_model.py:473: ValueWarning: No frequency information was provided, so inferred frequency B will be used.\n",
      "  self._init_dates(dates, freq)\n"
     ]
    },
    {
     "name": "stdout",
     "output_type": "stream",
     "text": [
      "                               SARIMAX Results                                \n",
      "==============================================================================\n",
      "Dep. Variable:           market_value   No. Observations:                 5021\n",
      "Model:                 ARIMA(4, 0, 0)   Log Likelihood              -27603.491\n",
      "Date:                Wed, 23 Oct 2024   AIC                          55218.983\n",
      "Time:                        15:43:35   BIC                          55258.111\n",
      "Sample:                    01-07-1994   HQIC                         55232.694\n",
      "                         - 04-05-2013                                         \n",
      "Covariance Type:                  opg                                         \n",
      "==============================================================================\n",
      "                 coef    std err          z      P>|z|      [0.025      0.975]\n",
      "------------------------------------------------------------------------------\n",
      "const       5089.7015    391.574     12.998      0.000    4322.230    5857.173\n",
      "ar.L1          0.9767      0.010     97.799      0.000       0.957       0.996\n",
      "ar.L2         -0.0295      0.013     -2.193      0.028      -0.056      -0.003\n",
      "ar.L3         -0.0187      0.013     -1.487      0.137      -0.043       0.006\n",
      "ar.L4          0.0699      0.009      7.708      0.000       0.052       0.088\n",
      "sigma2      3485.1541     41.937     83.105      0.000    3402.959    3567.349\n",
      "===================================================================================\n",
      "Ljung-Box (L1) (Q):                   0.02   Jarque-Bera (JB):              3050.21\n",
      "Prob(Q):                              0.89   Prob(JB):                         0.00\n",
      "Heteroskedasticity (H):               1.90   Skew:                            -0.28\n",
      "Prob(H) (two-sided):                  0.00   Kurtosis:                         6.78\n",
      "===================================================================================\n",
      "\n",
      "Warnings:\n",
      "[1] Covariance matrix calculated using the outer product of gradients (complex-step).\n",
      "LLR Test Model AR4 and AR3 7.43595527377611e-07\n"
     ]
    }
   ],
   "source": [
    "model_ar4=ARIMA(df_market_value_train.market_value,order=(4,0,0),freq='B')\n",
    "result_ar4=model_ar4.fit()\n",
    "# lets compare model1 and model AR3\n",
    "print(result_ar4.summary())\n",
    "print(\"LLR Test Model AR4 and AR3\",LLR_test(result_ar3,result_ar4))"
   ]
  },
  {
   "cell_type": "markdown",
   "id": "9ec0d06a-d767-43dc-b389-fd43289cd594",
   "metadata": {},
   "source": [
    "***Observation***\n",
    "- LLR test of Model AR4 and AR3 has shown that Model AR4 has shown significant better performance.\n",
    "- In AR4 Model coefficient-3 is insignificant differnt form zero."
   ]
  },
  {
   "cell_type": "markdown",
   "id": "1135bf63-e635-4967-ae15-5d458fc07482",
   "metadata": {},
   "source": [
    "### ***AR5 Model***"
   ]
  },
  {
   "cell_type": "code",
   "execution_count": 17,
   "id": "262cb9ba-6e35-4372-aabf-11fdcb31401f",
   "metadata": {},
   "outputs": [
    {
     "name": "stderr",
     "output_type": "stream",
     "text": [
      "C:\\Users\\adadi\\anaconda3\\envs\\DataScienceEnv\\lib\\site-packages\\statsmodels\\tsa\\base\\tsa_model.py:473: ValueWarning: No frequency information was provided, so inferred frequency B will be used.\n",
      "  self._init_dates(dates, freq)\n"
     ]
    },
    {
     "name": "stdout",
     "output_type": "stream",
     "text": [
      "                               SARIMAX Results                                \n",
      "==============================================================================\n",
      "Dep. Variable:           market_value   No. Observations:                 5021\n",
      "Model:                 ARIMA(5, 0, 0)   Log Likelihood              -27601.545\n",
      "Date:                Wed, 23 Oct 2024   AIC                          55217.089\n",
      "Time:                        15:43:37   BIC                          55262.739\n",
      "Sample:                    01-07-1994   HQIC                         55233.086\n",
      "                         - 04-05-2013                                         \n",
      "Covariance Type:                  opg                                         \n",
      "==============================================================================\n",
      "                 coef    std err          z      P>|z|      [0.025      0.975]\n",
      "------------------------------------------------------------------------------\n",
      "const       5089.7015    386.192     13.179      0.000    4332.779    5846.624\n",
      "ar.L1          0.9786      0.010     97.854      0.000       0.959       0.998\n",
      "ar.L2         -0.0300      0.013     -2.229      0.026      -0.056      -0.004\n",
      "ar.L3         -0.0195      0.013     -1.549      0.121      -0.044       0.005\n",
      "ar.L4          0.0971      0.013      7.529      0.000       0.072       0.122\n",
      "ar.L5         -0.0278      0.009     -3.103      0.002      -0.045      -0.010\n",
      "sigma2      3483.0844     42.277     82.388      0.000    3400.224    3565.945\n",
      "===================================================================================\n",
      "Ljung-Box (L1) (Q):                   0.01   Jarque-Bera (JB):              2974.56\n",
      "Prob(Q):                              0.94   Prob(JB):                         0.00\n",
      "Heteroskedasticity (H):               1.89   Skew:                            -0.26\n",
      "Prob(H) (two-sided):                  0.00   Kurtosis:                         6.74\n",
      "===================================================================================\n",
      "\n",
      "Warnings:\n",
      "[1] Covariance matrix calculated using the outer product of gradients (complex-step).\n",
      "LLR Test Model AR5 and AR4 0.04847711623415121\n"
     ]
    }
   ],
   "source": [
    "model_ar5=ARIMA(df_market_value_train.market_value,order=(5,0,0),freq='B')\n",
    "result_ar5=model_ar5.fit()\n",
    "# lets compare model1 and model AR3\n",
    "print(result_ar5.summary())\n",
    "print(\"LLR Test Model AR5 and AR4\",LLR_test(result_ar4,result_ar5))"
   ]
  },
  {
   "cell_type": "markdown",
   "id": "8c82f17b-1861-4ec4-86ec-4e0175afd396",
   "metadata": {},
   "source": [
    "***Observation***\n",
    "- LLR test shows that AR5 Also significantly better than AR4.\n",
    "- But coefficients-3 is not significantly different from zero."
   ]
  },
  {
   "cell_type": "markdown",
   "id": "7ccc127a-8094-403d-b28f-589e8da28e18",
   "metadata": {},
   "source": [
    "### ***AR6 Model***"
   ]
  },
  {
   "cell_type": "code",
   "execution_count": 18,
   "id": "9c3504bd-4edd-4a41-96bb-1f20cb93b02b",
   "metadata": {},
   "outputs": [
    {
     "name": "stderr",
     "output_type": "stream",
     "text": [
      "C:\\Users\\adadi\\anaconda3\\envs\\DataScienceEnv\\lib\\site-packages\\statsmodels\\tsa\\base\\tsa_model.py:473: ValueWarning: No frequency information was provided, so inferred frequency B will be used.\n",
      "  self._init_dates(dates, freq)\n"
     ]
    },
    {
     "name": "stdout",
     "output_type": "stream",
     "text": [
      "                               SARIMAX Results                                \n",
      "==============================================================================\n",
      "Dep. Variable:           market_value   No. Observations:                 5021\n",
      "Model:                 ARIMA(6, 0, 0)   Log Likelihood              -27597.647\n",
      "Date:                Wed, 23 Oct 2024   AIC                          55211.293\n",
      "Time:                        15:43:38   BIC                          55263.464\n",
      "Sample:                    01-07-1994   HQIC                         55229.574\n",
      "                         - 04-05-2013                                         \n",
      "Covariance Type:                  opg                                         \n",
      "==============================================================================\n",
      "                 coef    std err          z      P>|z|      [0.025      0.975]\n",
      "------------------------------------------------------------------------------\n",
      "const       5089.7015    396.930     12.823      0.000    4311.734    5867.669\n",
      "ar.L1          0.9797      0.010     96.841      0.000       0.960       1.000\n",
      "ar.L2         -0.0338      0.014     -2.477      0.013      -0.061      -0.007\n",
      "ar.L3         -0.0188      0.013     -1.485      0.137      -0.044       0.006\n",
      "ar.L4          0.0983      0.013      7.620      0.000       0.073       0.124\n",
      "ar.L5         -0.0664      0.012     -5.451      0.000      -0.090      -0.043\n",
      "ar.L6          0.0394      0.009      4.395      0.000       0.022       0.057\n",
      "sigma2      3478.1423     42.165     82.490      0.000    3395.501    3560.783\n",
      "===================================================================================\n",
      "Ljung-Box (L1) (Q):                   0.01   Jarque-Bera (JB):              2996.27\n",
      "Prob(Q):                              0.90   Prob(JB):                         0.00\n",
      "Heteroskedasticity (H):               1.89   Skew:                            -0.28\n",
      "Prob(H) (two-sided):                  0.00   Kurtosis:                         6.74\n",
      "===================================================================================\n",
      "\n",
      "Warnings:\n",
      "[1] Covariance matrix calculated using the outer product of gradients (complex-step).\n",
      "LLR Test Model AR6 and AR5 0.00523510433406092\n"
     ]
    }
   ],
   "source": [
    "model_ar6=ARIMA(df_market_value_train.market_value,order=(6,0,0),freq='B')\n",
    "result_ar6=model_ar6.fit()\n",
    "# lets compare model5 and model AR6\n",
    "print(result_ar6.summary())\n",
    "print(\"LLR Test Model AR6 and AR5\",LLR_test(result_ar5,result_ar6))"
   ]
  },
  {
   "cell_type": "markdown",
   "id": "c474a6e1-2574-474a-bb18-a6134327b79e",
   "metadata": {},
   "source": [
    "***Observation***\n",
    "\n",
    "- LLR test shows that AR6 has performed well since p value of test <0.05.\n",
    "- IN this model also third coefficients has insignificant value form 0 .\n",
    " "
   ]
  },
  {
   "cell_type": "markdown",
   "id": "158e37e4-7417-4a58-bee3-e95b377f5377",
   "metadata": {},
   "source": [
    "### ***AR7 Model***"
   ]
  },
  {
   "cell_type": "code",
   "execution_count": 19,
   "id": "dcdacd0d-043b-4fb5-b932-bfc642aaa08b",
   "metadata": {},
   "outputs": [
    {
     "name": "stderr",
     "output_type": "stream",
     "text": [
      "C:\\Users\\adadi\\anaconda3\\envs\\DataScienceEnv\\lib\\site-packages\\statsmodels\\tsa\\base\\tsa_model.py:473: ValueWarning: No frequency information was provided, so inferred frequency B will be used.\n",
      "  self._init_dates(dates, freq)\n"
     ]
    },
    {
     "name": "stdout",
     "output_type": "stream",
     "text": [
      "                               SARIMAX Results                                \n",
      "==============================================================================\n",
      "Dep. Variable:           market_value   No. Observations:                 5021\n",
      "Model:                 ARIMA(7, 0, 0)   Log Likelihood              -27593.185\n",
      "Date:                Wed, 23 Oct 2024   AIC                          55204.371\n",
      "Time:                        15:43:40   BIC                          55263.063\n",
      "Sample:                    01-07-1994   HQIC                         55224.937\n",
      "                         - 04-05-2013                                         \n",
      "Covariance Type:                  opg                                         \n",
      "==============================================================================\n",
      "                 coef    std err          z      P>|z|      [0.025      0.975]\n",
      "------------------------------------------------------------------------------\n",
      "const       5089.7015    405.293     12.558      0.000    4295.343    5884.060\n",
      "ar.L1          0.9781      0.010     95.711      0.000       0.958       0.998\n",
      "ar.L2         -0.0311      0.014     -2.230      0.026      -0.058      -0.004\n",
      "ar.L3         -0.0229      0.013     -1.803      0.071      -0.048       0.002\n",
      "ar.L4          0.0990      0.013      7.679      0.000       0.074       0.124\n",
      "ar.L5         -0.0650      0.012     -5.332      0.000      -0.089      -0.041\n",
      "ar.L6         -0.0019      0.013     -0.151      0.880      -0.027       0.023\n",
      "ar.L7          0.0422      0.010      4.349      0.000       0.023       0.061\n",
      "sigma2      3472.6396     42.087     82.511      0.000    3390.151    3555.129\n",
      "===================================================================================\n",
      "Ljung-Box (L1) (Q):                   0.00   Jarque-Bera (JB):              3022.34\n",
      "Prob(Q):                              0.99   Prob(JB):                         0.00\n",
      "Heteroskedasticity (H):               1.89   Skew:                            -0.30\n",
      "Prob(H) (two-sided):                  0.00   Kurtosis:                         6.75\n",
      "===================================================================================\n",
      "\n",
      "Warnings:\n",
      "[1] Covariance matrix calculated using the outer product of gradients (complex-step).\n",
      "LLR Test Model AR7 and AR6 0.0028173754222898966\n"
     ]
    }
   ],
   "source": [
    "model_ar7=ARIMA(df_market_value_train.market_value,order=(7,0,0),freq='B')\n",
    "result_ar7=model_ar7.fit()\n",
    "# lets compare model7 and model AR6\n",
    "print(result_ar7.summary())\n",
    "print(\"LLR Test Model AR7 and AR6\",LLR_test(result_ar6,result_ar7))"
   ]
  },
  {
   "cell_type": "markdown",
   "id": "f47ea02c-1d6b-4e7e-8d4b-0a48e8391441",
   "metadata": {},
   "source": [
    "***Observation***\n",
    "\n",
    "- Lr test shows that model AR7 has performed well.\n",
    "- third and 6th coefficients has insignificant value from zero."
   ]
  },
  {
   "cell_type": "markdown",
   "id": "ad111565-0fe5-4a79-891d-fb8e4d354688",
   "metadata": {},
   "source": [
    "### ***AR8 Model***"
   ]
  },
  {
   "cell_type": "code",
   "execution_count": 20,
   "id": "8730ca3e-7106-46aa-b710-e5142e4a1a9d",
   "metadata": {},
   "outputs": [
    {
     "name": "stderr",
     "output_type": "stream",
     "text": [
      "C:\\Users\\adadi\\anaconda3\\envs\\DataScienceEnv\\lib\\site-packages\\statsmodels\\tsa\\base\\tsa_model.py:473: ValueWarning: No frequency information was provided, so inferred frequency B will be used.\n",
      "  self._init_dates(dates, freq)\n"
     ]
    },
    {
     "name": "stdout",
     "output_type": "stream",
     "text": [
      "                               SARIMAX Results                                \n",
      "==============================================================================\n",
      "Dep. Variable:           market_value   No. Observations:                 5021\n",
      "Model:                 ARIMA(8, 0, 0)   Log Likelihood              -27593.040\n",
      "Date:                Wed, 23 Oct 2024   AIC                          55206.080\n",
      "Time:                        15:43:43   BIC                          55271.294\n",
      "Sample:                    01-07-1994   HQIC                         55228.931\n",
      "                         - 04-05-2013                                         \n",
      "Covariance Type:                  opg                                         \n",
      "==============================================================================\n",
      "                 coef    std err          z      P>|z|      [0.025      0.975]\n",
      "------------------------------------------------------------------------------\n",
      "const       5089.7015    407.243     12.498      0.000    4291.520    5887.883\n",
      "ar.L1          0.9785      0.010     95.688      0.000       0.958       0.998\n",
      "ar.L2         -0.0311      0.014     -2.230      0.026      -0.058      -0.004\n",
      "ar.L3         -0.0234      0.013     -1.817      0.069      -0.049       0.002\n",
      "ar.L4          0.0998      0.013      7.611      0.000       0.074       0.125\n",
      "ar.L5         -0.0651      0.012     -5.346      0.000      -0.089      -0.041\n",
      "ar.L6         -0.0021      0.013     -0.167      0.868      -0.027       0.023\n",
      "ar.L7          0.0495      0.014      3.523      0.000       0.022       0.077\n",
      "ar.L8         -0.0074      0.010     -0.757      0.449      -0.027       0.012\n",
      "sigma2      3472.9867     42.199     82.301      0.000    3390.279    3555.695\n",
      "===================================================================================\n",
      "Ljung-Box (L1) (Q):                   0.00   Jarque-Bera (JB):              3012.70\n",
      "Prob(Q):                              0.99   Prob(JB):                         0.00\n",
      "Heteroskedasticity (H):               1.89   Skew:                            -0.30\n",
      "Prob(H) (two-sided):                  0.00   Kurtosis:                         6.75\n",
      "===================================================================================\n",
      "\n",
      "Warnings:\n",
      "[1] Covariance matrix calculated using the outer product of gradients (complex-step).\n",
      "LLR Test Model AR8 and AR7 0.5893892873954775\n"
     ]
    }
   ],
   "source": [
    "model_ar8=ARIMA(df_market_value_train.market_value,order=(8,0,0),freq='B')\n",
    "result_ar8=model_ar8.fit()\n",
    "# lets compare model7 and model AR6\n",
    "print(result_ar8.summary())\n",
    "print(\"LLR Test Model AR8 and AR7\",LLR_test(result_ar7,result_ar8))"
   ]
  },
  {
   "cell_type": "markdown",
   "id": "2a7aa8b2-cc91-4f9c-bb57-4321b54142dc",
   "metadata": {},
   "source": [
    "***observation***\n",
    "\n",
    "- LLR test of AR7 and AR8 shows that model AR8 has not performed significantly different form AR7. so for simplicity we choose model AR7.\n",
    "- 3rd, 6th, and 8th coefficients have insignificant different value form zero."
   ]
  },
  {
   "cell_type": "code",
   "execution_count": 21,
   "id": "c8974d5b-a6c5-47fc-9ade-a5bdc399552c",
   "metadata": {},
   "outputs": [
    {
     "name": "stderr",
     "output_type": "stream",
     "text": [
      "C:\\Users\\adadi\\anaconda3\\envs\\DataScienceEnv\\lib\\site-packages\\statsmodels\\tsa\\base\\tsa_model.py:473: ValueWarning: No frequency information was provided, so inferred frequency B will be used.\n",
      "  self._init_dates(dates, freq)\n"
     ]
    },
    {
     "name": "stdout",
     "output_type": "stream",
     "text": [
      "                               SARIMAX Results                                \n",
      "==============================================================================\n",
      "Dep. Variable:           market_value   No. Observations:                 5021\n",
      "Model:                 ARIMA(9, 0, 0)   Log Likelihood              -27592.344\n",
      "Date:                Wed, 23 Oct 2024   AIC                          55206.688\n",
      "Time:                        15:43:47   BIC                          55278.423\n",
      "Sample:                    01-07-1994   HQIC                         55231.825\n",
      "                         - 04-05-2013                                         \n",
      "Covariance Type:                  opg                                         \n",
      "==============================================================================\n",
      "                 coef    std err          z      P>|z|      [0.025      0.975]\n",
      "------------------------------------------------------------------------------\n",
      "const       5089.7015    408.369     12.463      0.000    4289.314    5890.089\n",
      "ar.L1          0.9783      0.010     95.079      0.000       0.958       0.998\n",
      "ar.L2         -0.0302      0.014     -2.156      0.031      -0.058      -0.003\n",
      "ar.L3         -0.0234      0.013     -1.813      0.070      -0.049       0.002\n",
      "ar.L4          0.0987      0.013      7.502      0.000       0.073       0.124\n",
      "ar.L5         -0.0635      0.012     -5.168      0.000      -0.088      -0.039\n",
      "ar.L6         -0.0025      0.013     -0.198      0.843      -0.028       0.023\n",
      "ar.L7          0.0490      0.014      3.482      0.000       0.021       0.077\n",
      "ar.L8          0.0087      0.014      0.631      0.528      -0.018       0.036\n",
      "ar.L9         -0.0165      0.010     -1.608      0.108      -0.037       0.004\n",
      "sigma2      3472.4451     42.315     82.062      0.000    3389.510    3555.380\n",
      "===================================================================================\n",
      "Ljung-Box (L1) (Q):                   0.00   Jarque-Bera (JB):              2987.99\n",
      "Prob(Q):                              0.99   Prob(JB):                         0.00\n",
      "Heteroskedasticity (H):               1.89   Skew:                            -0.29\n",
      "Prob(H) (two-sided):                  0.00   Kurtosis:                         6.74\n",
      "===================================================================================\n",
      "\n",
      "Warnings:\n",
      "[1] Covariance matrix calculated using the outer product of gradients (complex-step).\n",
      "LLR Test Model AR9 and AR7 0.1945630473962544\n"
     ]
    }
   ],
   "source": [
    "model_ar9=ARIMA(df_market_value_train.market_value,order=(9,0,0),freq='B')\n",
    "result_ar9=model_ar9.fit()\n",
    "# lets compare model9 and model AR7\n",
    "print(result_ar9.summary())\n",
    "print(\"LLR Test Model AR9 and AR7\",LLR_test(result_ar7,result_ar9))"
   ]
  },
  {
   "cell_type": "markdown",
   "id": "7161d9d7-0fc0-4d86-8285-a0b2c252769e",
   "metadata": {},
   "source": [
    "***Observation***\n",
    "\n",
    "- LLR test of model AR9 and AR7 shows that model AR9 has no significant better performance from model AR7 . So we will chose AR7 as parsemonious model.\n",
    "- third, sixth, eighth, and nineth coefficient has insignificant value from zero."
   ]
  },
  {
   "cell_type": "markdown",
   "id": "8d189427-8c9c-4f0a-8d3b-d881c604dca5",
   "metadata": {},
   "source": [
    "#### ***conclusion***\n",
    "- Model AR7 with maximum lag value of 7 is chosen as parsemonius model for future index price prediction.\n",
    "- it has total 2 insignificant coefficient which value can be zero.\n",
    "- those coefficient are 3rd, 6th . it means that model output does not depend siginificantly on price at 3rd lag and 6th lag."
   ]
  },
  {
   "cell_type": "markdown",
   "id": "8f560017-9994-4c50-b740-2fd967d8703a",
   "metadata": {},
   "source": [
    "## ***Anaylsis of Residuals***"
   ]
  },
  {
   "cell_type": "code",
   "execution_count": 24,
   "id": "6b9c03d7-50f1-4fad-b002-caa1e2441300",
   "metadata": {},
   "outputs": [
    {
     "data": {
      "text/plain": [
       "(5021, 3)"
      ]
     },
     "execution_count": 24,
     "metadata": {},
     "output_type": "execute_result"
    }
   ],
   "source": [
    "df_market_value_train.shape"
   ]
  },
  {
   "cell_type": "code",
   "execution_count": 25,
   "id": "1aacb177-469f-441c-a099-268eada79d5e",
   "metadata": {},
   "outputs": [
    {
     "data": {
      "text/plain": [
       "(5021,)"
      ]
     },
     "execution_count": 25,
     "metadata": {},
     "output_type": "execute_result"
    }
   ],
   "source": [
    "result_ar7.resid.shape"
   ]
  },
  {
   "cell_type": "code",
   "execution_count": 68,
   "id": "0986c97e-3e34-49fe-8411-e466c08cdb27",
   "metadata": {},
   "outputs": [],
   "source": [
    "df_market_value_train['resid']=result_ar7.resid.values"
   ]
  },
  {
   "cell_type": "markdown",
   "id": "4937a88e-816c-4387-a432-ce8b5fb3c678",
   "metadata": {},
   "source": [
    "#### ***Adfuller test of residuals of model AR7***"
   ]
  },
  {
   "cell_type": "code",
   "execution_count": 26,
   "id": "0f2cdc35-968d-406e-a877-21b492194258",
   "metadata": {},
   "outputs": [
    {
     "data": {
      "text/plain": [
       "(-76.05314939927858,\n",
       " 0.0,\n",
       " 0,\n",
       " 5020,\n",
       " {'1%': -3.431653316130827,\n",
       "  '5%': -2.8621159253018247,\n",
       "  '10%': -2.5670765656497516},\n",
       " 54844.47134445139)"
      ]
     },
     "execution_count": 26,
     "metadata": {},
     "output_type": "execute_result"
    }
   ],
   "source": [
    "adfuller(result_ar7.resid)"
   ]
  },
  {
   "cell_type": "code",
   "execution_count": 75,
   "id": "418a14e9-9ff9-44cb-b98f-192b7da54dc2",
   "metadata": {},
   "outputs": [
    {
     "data": {
      "image/png": "[encoded data removed]",
      "text/plain": [
       "<Figure size 648x432 with 1 Axes>"
      ]
     },
     "metadata": {},
     "output_type": "display_data"
    }
   ],
   "source": [
    "plt.figure(figsize=(9,6))\n",
    "plt.hist(result_ar7.resid,bins=400,color='r')\n",
    "plt.title('distribution of residual',size=20)\n",
    "plt.xlim((-300,300))\n",
    "plt.show()"
   ]
  },
  {
   "cell_type": "code",
   "execution_count": 74,
   "id": "7ca7a1ed-a50b-43cf-8eb0-d745ceb6c1ec",
   "metadata": {},
   "outputs": [
    {
     "data": {
      "image/png": "[encoded data removed]",
      "text/plain": [
       "<Figure size 1080x216 with 1 Axes>"
      ]
     },
     "metadata": {},
     "output_type": "display_data"
    }
   ],
   "source": [
    "plt.plot(result_ar7.resid.index,result_ar7.resid.values)\n",
    "plt.title('residual plot',size=20)\n",
    "plt.ylim((-300,300))\n",
    "plt.show()"
   ]
  },
  {
   "cell_type": "code",
   "execution_count": 37,
   "id": "9d38dcbc-b5c3-4ec1-87dc-bec4a8715dc5",
   "metadata": {},
   "outputs": [
    {
     "data": {
      "text/plain": [
       "0.35175521811192206"
      ]
     },
     "execution_count": 37,
     "metadata": {},
     "output_type": "execute_result"
    }
   ],
   "source": [
    "mean=np.mean(result_ar7.resid)\n",
    "mean"
   ]
  },
  {
   "cell_type": "code",
   "execution_count": 38,
   "id": "6efdf635-ab3f-4c48-b3f2-38fcde5bd520",
   "metadata": {},
   "outputs": [
    {
     "data": {
      "text/plain": [
       "63.29828056097564"
      ]
     },
     "execution_count": 38,
     "metadata": {},
     "output_type": "execute_result"
    }
   ],
   "source": [
    "std=np.std(result_ar7.resid)\n",
    "std"
   ]
  },
  {
   "cell_type": "code",
   "execution_count": 33,
   "id": "967b1129-fafd-40e3-bcf2-6dadd31dc781",
   "metadata": {},
   "outputs": [
    {
     "data": {
      "image/png": "[encoded data removed]",
      "text/plain": [
       "<Figure size 1080x216 with 1 Axes>"
      ]
     },
     "metadata": {},
     "output_type": "display_data"
    }
   ],
   "source": [
    "plt.rc('figure',figsize=(15,3))\n",
    "sgt.plot_acf(result_ar7.resid)\n",
    "plt.title('Autocorrelation of plot of residual series obtained from AR7 model ',size=14)\n",
    "plt.ylim((-0.1,0.1))\n",
    "plt.show()"
   ]
  },
  {
   "cell_type": "code",
   "execution_count": 34,
   "id": "cdaa1792-faa1-4ae4-bbbd-636de8376a42",
   "metadata": {},
   "outputs": [
    {
     "data": {
      "image/png": "[encoded data removed]",
      "text/plain": [
       "<Figure size 1080x216 with 1 Axes>"
      ]
     },
     "metadata": {},
     "output_type": "display_data"
    }
   ],
   "source": [
    "plt.rc('figure',figsize=(15,3))\n",
    "sgt.plot_pacf(result_ar7.resid)\n",
    "plt.title('Partial Autocorrelation of plot of residual series obtained from AR7 model ',size=14)\n",
    "plt.ylim((-0.1,0.1))\n",
    "plt.show()"
   ]
  },
  {
   "cell_type": "code",
   "execution_count": 44,
   "id": "fecc8763-a03a-402c-bc1b-2052239a088a",
   "metadata": {},
   "outputs": [
    {
     "data": {
      "text/plain": [
       "(-187.50095261162005, 188.20446304784318)"
      ]
     },
     "execution_count": 44,
     "metadata": {},
     "output_type": "execute_result"
    }
   ],
   "source": [
    "ci = norm.interval(0.997, loc=mean, scale=std)\n",
    "ci"
   ]
  },
  {
   "cell_type": "markdown",
   "id": "6277a01f-6d84-4b48-b800-9e434b57641a",
   "metadata": {},
   "source": [
    "#### ***Observation***\n",
    "- Since p value of adfuller test of non stationarity is less than 0.05, So this residual are considered as stationary.\n",
    "- Mean value of the residual are 0.35 which is near to zero.\n",
    "- std value is 63.29.\n",
    "- By observing the acf and  pacf plot it is clear that residual obtained from AR7 does not have any significant correlation with the past data. So it this residual series can be considered as white noice.\n",
    "- All the white noice also resembles with normal/gaussian distribution.\n",
    "- In gaussian distribution 68% of data falls around 1 std from mean. 95% data falls in 2-std. 99.7% of data falls in 3 std from mean.\n",
    "- So 99.7% of time this residual will falls in range of (-187.500,188.20)\n",
    "- Here confidence interval has derived by following formula ( mu - 3 * std , mu + 3 * std)\n",
    "- The reason why std/sqrt(sizeofdata) has not used here cause we know population parameter."
   ]
  },
  {
   "cell_type": "code",
   "execution_count": null,
   "id": "7f4203e7-7f05-4d24-b4eb-21e4082274d6",
   "metadata": {},
   "outputs": [],
   "source": []
  },
  {
   "cell_type": "code",
   "execution_count": null,
   "id": "3e6703ef-0bc1-4f24-a82c-14ed0bc183f6",
   "metadata": {},
   "outputs": [],
   "source": []
  },
  {
   "cell_type": "code",
   "execution_count": null,
   "id": "9a2eb7b4-d0b9-47e2-8d0b-dbcb75cc17c0",
   "metadata": {},
   "outputs": [],
   "source": []
  },
  {
   "cell_type": "code",
   "execution_count": null,
   "id": "87b34f10-da52-4b04-87a7-37815f3c3a28",
   "metadata": {},
   "outputs": [],
   "source": []
  },
  {
   "cell_type": "code",
   "execution_count": null,
   "id": "6a9cfc4b-42bc-495e-9465-d298fb3bd621",
   "metadata": {},
   "outputs": [],
   "source": []
  }
 ],
 "metadata": {
  "kernelspec": {
   "display_name": "DataScienceEnv",
   "language": "python",
   "name": "datascienceenv"
  },
  "language_info": {
   "codemirror_mode": {
    "name": "ipython",
    "version": 3
   },
   "file_extension": ".py",
   "mimetype": "text/x-python",
   "name": "python",
   "nbconvert_exporter": "python",
   "pygments_lexer": "ipython3",
   "version": "3.8.19"
  },
  "widgets": {
   "application/vnd.jupyter.widget-state+json": {
    "state": {},
    "version_major": 2,
    "version_minor": 0
   }
  }
 },
 "nbformat": 4,
 "nbformat_minor": 5
}
