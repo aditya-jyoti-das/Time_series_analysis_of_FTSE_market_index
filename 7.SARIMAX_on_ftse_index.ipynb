{
 "cells": [
  {
   "cell_type": "code",
   "execution_count": 1,
   "id": "ea8474eb-11c5-42a7-b247-6af2854c3d98",
   "metadata": {},
   "outputs": [],
   "source": [
    "import pandas as pd\n",
    "import numpy as np\n",
    "import matplotlib.pyplot as plt \n",
    "import seaborn as sns\n",
    "import statsmodels\n",
    "import scipy\n",
    "import statsmodels.graphics.tsaplots as sgt\n",
    "from statsmodels.tsa.seasonal import seasonal_decompose\n",
    "from statsmodels.tsa.stattools import adfuller\n",
    "import scipy.stats\n",
    "import pylab\n",
    "import matplotlib as mpl\n",
    "from scipy.stats.distributions import chi2\n",
    "from statsmodels.tsa.arima.model import ARIMA\n",
    "from scipy.stats import norm\n",
    "sns.set()"
   ]
  },
  {
   "cell_type": "code",
   "execution_count": 2,
   "id": "20ea538a-15b1-4c42-baae-32093a5f11ff",
   "metadata": {},
   "outputs": [
    {
     "data": {
      "text/plain": [
       "(6277, 4)"
      ]
     },
     "execution_count": 2,
     "metadata": {},
     "output_type": "execute_result"
    }
   ],
   "source": [
    "raw_index_data=pd.read_csv('Index2018.csv')  # Index price data Importation in Raw_index_data variable\n",
    "df_index=raw_index_data.copy()  # copy to df_index from Raw_index_data\n",
    "df_index.date=pd.to_datetime(df_index.date,dayfirst=True) # datatype of date column changed to datetime \n",
    "df_index.set_index('date',inplace=True) # set date column as index\n",
    "df_index=df_index.asfreq('b') # setting frequency of data obsevation to business days\n",
    "df_index.shape #shape checking "
   ]
  },
  {
   "cell_type": "code",
   "execution_count": 3,
   "id": "966a378c-e76a-4fb2-9bca-ac18d484beae",
   "metadata": {},
   "outputs": [],
   "source": [
    "df_index.spx.fillna(method='ffill',inplace=True) # front filling of missing values of spx columns\n",
    "df_index.ftse.fillna(method='bfill',inplace=True) # backfilling of missing values of ftse columns\n",
    "df_index.dax.fillna(df_index.dax.mean(),inplace=True) # mean value assigned to each missing values of dax columns \n",
    "df_index.nikkei.fillna(df_index.nikkei.median(),inplace=True) # median value assigned to each missing value of nikkei"
   ]
  },
  {
   "cell_type": "code",
   "execution_count": 4,
   "id": "580ed2cf-cbe2-4de2-a437-a8b0ca6e73f1",
   "metadata": {},
   "outputs": [
    {
     "name": "stderr",
     "output_type": "stream",
     "text": [
      "C:\\Users\\adadi\\anaconda3\\envs\\DataScienceEnv\\lib\\site-packages\\pandas\\core\\frame.py:5039: SettingWithCopyWarning: \n",
      "A value is trying to be set on a copy of a slice from a DataFrame\n",
      "\n",
      "See the caveats in the documentation: https://pandas.pydata.org/pandas-docs/stable/user_guide/indexing.html#returning-a-view-versus-a-copy\n",
      "  return super().rename(\n"
     ]
    }
   ],
   "source": [
    "df_market_value=df_index[['ftse']] # Selecting FTSE index for further processing\n",
    "df_market_value.rename(columns={'ftse':'market_value'},inplace=True) # renaming ftse to market value\n",
    "traininglen=int(len(df_market_value)*0.8) # Train and test split with ratio of 80:20\n",
    "testingLen=len(df_market_value)-traininglen\n",
    "df_market_value_train=df_market_value.iloc[:traininglen,:]\n",
    "df_market_value_test=df_market_value.iloc[traininglen:,:]"
   ]
  },
  {
   "cell_type": "code",
   "execution_count": 5,
   "id": "2fe15eb7-33bc-458e-8a5f-4db2abec6849",
   "metadata": {},
   "outputs": [
    {
     "name": "stderr",
     "output_type": "stream",
     "text": [
      "C:\\Users\\adadi\\AppData\\Local\\Temp/ipykernel_19156/2511373873.py:4: SettingWithCopyWarning: \n",
      "A value is trying to be set on a copy of a slice from a DataFrame.\n",
      "Try using .loc[row_indexer,col_indexer] = value instead\n",
      "\n",
      "See the caveats in the documentation: https://pandas.pydata.org/pandas-docs/stable/user_guide/indexing.html#returning-a-view-versus-a-copy\n",
      "  df_market_value_train['wn']=wn\n"
     ]
    }
   ],
   "source": [
    "mean=df_market_value_train['market_value'].mean() # calculating mean of ftse market index values from training part of dataset\n",
    "std=df_market_value_train['market_value'].std() # calculating std from same\n",
    "wn=np.random.normal(loc=mean,scale=std,size=len(df_market_value_train)) # creating white noice using np.random.uniform()\n",
    "df_market_value_train['wn']=wn "
   ]
  },
  {
   "cell_type": "code",
   "execution_count": 6,
   "id": "26b19f8d-44a0-4ee9-9205-7a3735a940df",
   "metadata": {},
   "outputs": [],
   "source": [
    "rw=pd.read_csv('RandWalk.csv') # adding new column for random walk in training dataframe  \n",
    "rw.date=pd.to_datetime(rw.date,dayfirst=True)\n",
    "rw.set_index('date',inplace=True)\n",
    "df_market_value_train=pd.merge(left=df_market_value_train,right=rw,left_index=True, right_index=True)\n",
    "df_market_value_train.rename(columns={'price':'rw'},inplace=True) # renaming the randomwalk value column"
   ]
  },
  {
   "cell_type": "code",
   "execution_count": 7,
   "id": "9399d529-e152-48e6-9f92-3d30838ad843",
   "metadata": {},
   "outputs": [
    {
     "data": {
      "text/html": [
       "<div>\n",
       "<style scoped>\n",
       "    .dataframe tbody tr th:only-of-type {\n",
       "        vertical-align: middle;\n",
       "    }\n",
       "\n",
       "    .dataframe tbody tr th {\n",
       "        vertical-align: top;\n",
       "    }\n",
       "\n",
       "    .dataframe thead th {\n",
       "        text-align: right;\n",
       "    }\n",
       "</style>\n",
       "<table border=\"1\" class=\"dataframe\">\n",
       "  <thead>\n",
       "    <tr style=\"text-align: right;\">\n",
       "      <th></th>\n",
       "      <th>market_value</th>\n",
       "      <th>wn</th>\n",
       "      <th>rw</th>\n",
       "    </tr>\n",
       "    <tr>\n",
       "      <th>date</th>\n",
       "      <th></th>\n",
       "      <th></th>\n",
       "      <th></th>\n",
       "    </tr>\n",
       "  </thead>\n",
       "  <tbody>\n",
       "    <tr>\n",
       "      <th>1994-01-07</th>\n",
       "      <td>3445.98</td>\n",
       "      <td>4680.022314</td>\n",
       "      <td>1122.139662</td>\n",
       "    </tr>\n",
       "    <tr>\n",
       "      <th>1994-01-10</th>\n",
       "      <td>3440.58</td>\n",
       "      <td>3957.268606</td>\n",
       "      <td>1080.347860</td>\n",
       "    </tr>\n",
       "    <tr>\n",
       "      <th>1994-01-11</th>\n",
       "      <td>3413.77</td>\n",
       "      <td>5430.339069</td>\n",
       "      <td>1082.095245</td>\n",
       "    </tr>\n",
       "    <tr>\n",
       "      <th>1994-01-12</th>\n",
       "      <td>3372.02</td>\n",
       "      <td>6888.740315</td>\n",
       "      <td>1083.639265</td>\n",
       "    </tr>\n",
       "    <tr>\n",
       "      <th>1994-01-13</th>\n",
       "      <td>3360.01</td>\n",
       "      <td>5039.763284</td>\n",
       "      <td>1067.146255</td>\n",
       "    </tr>\n",
       "  </tbody>\n",
       "</table>\n",
       "</div>"
      ],
      "text/plain": [
       "            market_value           wn           rw\n",
       "date                                              \n",
       "1994-01-07       3445.98  4680.022314  1122.139662\n",
       "1994-01-10       3440.58  3957.268606  1080.347860\n",
       "1994-01-11       3413.77  5430.339069  1082.095245\n",
       "1994-01-12       3372.02  6888.740315  1083.639265\n",
       "1994-01-13       3360.01  5039.763284  1067.146255"
      ]
     },
     "execution_count": 7,
     "metadata": {},
     "output_type": "execute_result"
    }
   ],
   "source": [
    "df_market_value_train.head()"
   ]
  },
  {
   "cell_type": "markdown",
   "id": "8ebeee2d-8c9f-4f98-8753-b6b205c2a3a5",
   "metadata": {},
   "source": [
    "## ***SARIMAX***\n",
    "- Seaonality occuar when certain pattern are not consistent but repeated peridically.\n",
    "- Trend componet hold value which are period apart.\n",
    "- But seaonal component hold value which occuar a season apart, that season can be anything like 12 month, quarter, 24hours, 60 minute. it depends on data we are dealing with.\n",
    "- Let take an example in every dusehera people like to buy new clothes. Sales can be expected to be increased around this occasion. but if we will normal arimax model then it will underestimate actual sale number by considering sales pattern of past couple of month. And this normal arima model can alos overestimate the number of sale after this month if it will considerd the sales pattern that would have obatined in dushera month. So in this kind of cases where a specific time in an year matter, in this case seasonality component is require to handel this scenoario.\n",
    "- This seasonality component nothing but combination of coefficient and past value that has occuared season ago.  Const*X(t-s)\n",
    "- To deal with this kind of data SARIMAX Is used. which incorporate a order of 4 values (P,D,Q,s).\n",
    "- Where\n",
    "  - P: It is bascially a seasonal variation of autoregression parameter. suggest that how many last seasonal value model should considerd to take into account of future prediciton.\n",
    "  - D: Number of Seaonal integration model require to make the data stationary.\n",
    "  - Q: It is also seasonal variation of moving average parameter value. suggest that how many last residual error occuar at lags which are present at certain no of season away.\n",
    "  - s: It is length of the season.\n",
    "- Lets take a model to interpret all the parameter values"
   ]
  },
  {
   "cell_type": "markdown",
   "id": "db92a991-819a-4549-aa70-5081ce437661",
   "metadata": {},
   "source": [
    "### SARIMAX(order=(1,0,2),seasonal_order=(2,0,1,5))\n",
    "- p=1\n",
    "- d=0\n",
    "- q=2\n",
    "- P=2\n",
    "- D=0\n",
    "- Q=1\n",
    "- s=5\n",
    "- In this model there would be total 6 no of unique coefficient exist.\n",
    "- Here in autoregressive componet will consider the value at only last period, since order[0] value is 1.\n",
    "- moving average component will consider error that occuar in last two lags, since order[2] vauee is 2.\n",
    "- seasonal length is 5.\n",
    "- since season_order[0] value is 2 here it means that value that occur at t-5, t-10 will be considered for each prediction of current value.\n",
    "- since season_order[2] value is 1 so residual that obtained at t-5 lag will be consider for each prediction of current value.\n",
    "- since d and D value are 0, so integration would be performed here.\n",
    "- The equation of sarimax would look like this\n",
    "- for example if order(1,0,0) and seasonal_order(2,0,0,10)\n",
    "- 𝑋𝑡 = 𝐶 + 𝜙1*𝑋𝑡−1 + 𝜙10*𝑋𝑡−10 + 𝜙11*𝑋𝑡−11 + 𝜙20*𝑋𝑡−20 + 𝜙21*𝑋𝑡−21 + 𝜖t\n",
    "- Since the value of p=1 and P=2. so usually in the equation value at t-10,t-11 and t-20,t-21 is considered. two seasonal distance and along with their previous lag is also considered.\n",
    "- However, the values for 𝜙11 and 𝜙21 are restricted. They must be equal to 𝜙1*𝜙10 and 𝜙1*𝜙20 respectively\n",
    "- So modified uquation would be\n",
    "- 𝑋𝑡 = 𝐶 + 𝜙1𝑋𝑡−1 + 𝜙10𝑋𝑡−10 + 𝜙1𝜙10𝑋𝑡−11 + 𝜙20𝑋𝑡−20 + 𝜙1𝜙20𝑋𝑡−21 + 𝜖t\n",
    "- by rewriting the equation we can find that.\n",
    "- 𝑋𝑡 = 𝐶 + 𝜙1𝑋𝑡−1 + 𝜙10(𝑋𝑡−10 + 𝜙1𝑋𝑡−11) + 𝜙20(𝑋𝑡−20 + 𝜙2𝑋𝑡−21) + 𝜖t\n",
    "- For consistency, we like to use distinct notation for the seasonal coefficients as well, so we plug in Φ1 and Φ2 for 𝜙10 \n",
    "and 𝜙2.\n",
    "- 𝑋𝑡 = 𝐶 + 𝜙1𝑋𝑡−1 + Φ1(𝑋𝑡−10 + 𝜙1𝑋𝑡−11) + Φ2(𝑋𝑡−20 + 𝜙2𝑋𝑡−21) + 𝜖t\n",
    "- If we include residual then equation would like this\n",
    "- let order: (1,0,2) and seasonal order:(2,0,1,10). in this case equation would like.\n",
    "- 𝑋𝑡 = 𝐶 + 𝜙1𝑋𝑡−1 + 𝜃1𝜖𝑡−1 + 𝜃2𝜖𝑡−2 + 𝜙10𝑋𝑡−10 + 𝜙11𝑋𝑡−11 + 𝜙20𝑋𝑡−20 + 𝜙21𝑋𝑡−21 \n",
    "+ 𝜃10𝜖𝑡−10 + 𝜃11𝜖𝑡−11 + 𝜃12𝜖𝑡−12 + 𝜖�\n",
    "- the coefficients 𝜃11 and 𝜃12 are restricted too and equal 𝜃10 𝜃1 and 𝜃10𝜃2 respectively. We can once again \n",
    "plug in and substitute a few thing.\n",
    "- 𝑋𝑡 = 𝐶 + 𝜙1𝑋𝑡−1 + 𝜃1𝜖𝑡−1 + 𝜃2𝜖𝑡−2 + Φ1 𝑋𝑡−10 + 𝜙1𝑋𝑡−11 + Φ2 𝑋𝑡−20 + 𝜙1𝑋𝑡−21 + Θ1(𝜖𝑡−10 + 𝜃1𝜖𝑡−11 + 𝜃2𝜖𝑡−12) + 𝜖t\n",
    "- Additionally, we have to include more past values because if the value from yesterday affects the value today, then \n",
    "the value from 11 days ago affects the one from 10 days ago. This is the entire reason we’re not only including 𝑋𝑡−10 \r\n",
    "𝑋𝑡−20 and 𝜖𝑡−10 in the model, but also the values that shape the.�\r\n",
    "0"
   ]
  },
  {
   "cell_type": "code",
   "execution_count": 9,
   "id": "166c87cc-3b6c-45ee-aa9e-72e501c1263c",
   "metadata": {},
   "outputs": [
    {
     "data": {
      "image/png": "[encoded data removed]",
      "text/plain": [
       "<Figure size 1008x288 with 1 Axes>"
      ]
     },
     "metadata": {},
     "output_type": "display_data"
    }
   ],
   "source": [
    "plt.figure(figsize=(14,4))\n",
    "df_market_value_train.market_value.plot()\n",
    "plt.title('plot of FTSE market index price data from 1994,2018',size=13)\n",
    "plt.show()"
   ]
  },
  {
   "cell_type": "markdown",
   "id": "7b54def8-cf11-4f2b-977c-49252713ab42",
   "metadata": {},
   "source": [
    "#### SARIMAX(order(1,0,1),seasonalorder=(2,0,1,5))"
   ]
  },
  {
   "cell_type": "code",
   "execution_count": 10,
   "id": "48739ae6-ae4b-4490-b3f9-75d70043b098",
   "metadata": {},
   "outputs": [],
   "source": [
    "from statsmodels.tsa.statespace.sarimax import SARIMAX"
   ]
  },
  {
   "cell_type": "code",
   "execution_count": 16,
   "id": "2ca1dbc4-67eb-4925-ac4b-69068c8afd20",
   "metadata": {},
   "outputs": [
    {
     "data": {
      "text/html": [
       "<table class=\"simpletable\">\n",
       "<caption>SARIMAX Results</caption>\n",
       "<tr>\n",
       "  <th>Dep. Variable:</th>           <td>market_value</td>          <th>  No. Observations:  </th>    <td>5021</td>   \n",
       "</tr>\n",
       "<tr>\n",
       "  <th>Model:</th>           <td>SARIMAX(1, 0, 1)x(2, 0, 1, 5)</td> <th>  Log Likelihood     </th> <td>-26719.403</td>\n",
       "</tr>\n",
       "<tr>\n",
       "  <th>Date:</th>                  <td>Sat, 26 Oct 2024</td>        <th>  AIC                </th>  <td>53452.807</td>\n",
       "</tr>\n",
       "<tr>\n",
       "  <th>Time:</th>                      <td>20:30:02</td>            <th>  BIC                </th>  <td>53498.456</td>\n",
       "</tr>\n",
       "<tr>\n",
       "  <th>Sample:</th>                   <td>01-07-1994</td>           <th>  HQIC               </th>  <td>53468.803</td>\n",
       "</tr>\n",
       "<tr>\n",
       "  <th></th>                         <td>- 04-05-2013</td>          <th>                     </th>      <td> </td>    \n",
       "</tr>\n",
       "<tr>\n",
       "  <th>Covariance Type:</th>              <td>opg</td>              <th>                     </th>      <td> </td>    \n",
       "</tr>\n",
       "</table>\n",
       "<table class=\"simpletable\">\n",
       "<tr>\n",
       "      <td></td>        <th>coef</th>     <th>std err</th>      <th>z</th>      <th>P>|z|</th>  <th>[0.025</th>    <th>0.975]</th>  \n",
       "</tr>\n",
       "<tr>\n",
       "  <th>spx</th>      <td>    2.7004</td> <td>    0.036</td> <td>   75.909</td> <td> 0.000</td> <td>    2.631</td> <td>    2.770</td>\n",
       "</tr>\n",
       "<tr>\n",
       "  <th>ar.L1</th>    <td>    0.9998</td> <td>    0.001</td> <td> 1807.554</td> <td> 0.000</td> <td>    0.999</td> <td>    1.001</td>\n",
       "</tr>\n",
       "<tr>\n",
       "  <th>ma.L1</th>    <td>   -0.3117</td> <td>    0.010</td> <td>  -32.518</td> <td> 0.000</td> <td>   -0.330</td> <td>   -0.293</td>\n",
       "</tr>\n",
       "<tr>\n",
       "  <th>ar.S.L5</th>  <td>    0.9641</td> <td>    0.012</td> <td>   81.550</td> <td> 0.000</td> <td>    0.941</td> <td>    0.987</td>\n",
       "</tr>\n",
       "<tr>\n",
       "  <th>ar.S.L10</th> <td>    0.0355</td> <td>    0.006</td> <td>    5.530</td> <td> 0.000</td> <td>    0.023</td> <td>    0.048</td>\n",
       "</tr>\n",
       "<tr>\n",
       "  <th>ma.S.L5</th>  <td>   -0.9994</td> <td>    0.011</td> <td>  -93.690</td> <td> 0.000</td> <td>   -1.020</td> <td>   -0.978</td>\n",
       "</tr>\n",
       "<tr>\n",
       "  <th>sigma2</th>   <td> 2449.7140</td> <td>   28.730</td> <td>   85.265</td> <td> 0.000</td> <td> 2393.403</td> <td> 2506.025</td>\n",
       "</tr>\n",
       "</table>\n",
       "<table class=\"simpletable\">\n",
       "<tr>\n",
       "  <th>Ljung-Box (L1) (Q):</th>     <td>1.55</td> <th>  Jarque-Bera (JB):  </th> <td>4116.71</td>\n",
       "</tr>\n",
       "<tr>\n",
       "  <th>Prob(Q):</th>                <td>0.21</td> <th>  Prob(JB):          </th>  <td>0.00</td>  \n",
       "</tr>\n",
       "<tr>\n",
       "  <th>Heteroskedasticity (H):</th> <td>1.24</td> <th>  Skew:              </th>  <td>-0.51</td> \n",
       "</tr>\n",
       "<tr>\n",
       "  <th>Prob(H) (two-sided):</th>    <td>0.00</td> <th>  Kurtosis:          </th>  <td>7.32</td>  \n",
       "</tr>\n",
       "</table><br/><br/>Warnings:<br/>[1] Covariance matrix calculated using the outer product of gradients (complex-step)."
      ],
      "text/latex": [
       "\\begin{center}\n",
       "\\begin{tabular}{lclc}\n",
       "\\toprule\n",
       "\\textbf{Dep. Variable:}          &         market\\_value         & \\textbf{  No. Observations:  } &    5021     \\\\\n",
       "\\textbf{Model:}                  & SARIMAX(1, 0, 1)x(2, 0, 1, 5) & \\textbf{  Log Likelihood     } & -26719.403  \\\\\n",
       "\\textbf{Date:}                   &        Sat, 26 Oct 2024       & \\textbf{  AIC                } & 53452.807   \\\\\n",
       "\\textbf{Time:}                   &            20:30:02           & \\textbf{  BIC                } & 53498.456   \\\\\n",
       "\\textbf{Sample:}                 &           01-07-1994          & \\textbf{  HQIC               } & 53468.803   \\\\\n",
       "\\textbf{}                        &          - 04-05-2013         & \\textbf{                     } &             \\\\\n",
       "\\textbf{Covariance Type:}        &              opg              & \\textbf{                     } &             \\\\\n",
       "\\bottomrule\n",
       "\\end{tabular}\n",
       "\\begin{tabular}{lcccccc}\n",
       "                  & \\textbf{coef} & \\textbf{std err} & \\textbf{z} & \\textbf{P$> |$z$|$} & \\textbf{[0.025} & \\textbf{0.975]}  \\\\\n",
       "\\midrule\n",
       "\\textbf{spx}      &       2.7004  &        0.036     &    75.909  &         0.000        &        2.631    &        2.770     \\\\\n",
       "\\textbf{ar.L1}    &       0.9998  &        0.001     &  1807.554  &         0.000        &        0.999    &        1.001     \\\\\n",
       "\\textbf{ma.L1}    &      -0.3117  &        0.010     &   -32.518  &         0.000        &       -0.330    &       -0.293     \\\\\n",
       "\\textbf{ar.S.L5}  &       0.9641  &        0.012     &    81.550  &         0.000        &        0.941    &        0.987     \\\\\n",
       "\\textbf{ar.S.L10} &       0.0355  &        0.006     &     5.530  &         0.000        &        0.023    &        0.048     \\\\\n",
       "\\textbf{ma.S.L5}  &      -0.9994  &        0.011     &   -93.690  &         0.000        &       -1.020    &       -0.978     \\\\\n",
       "\\textbf{sigma2}   &    2449.7140  &       28.730     &    85.265  &         0.000        &     2393.403    &     2506.025     \\\\\n",
       "\\bottomrule\n",
       "\\end{tabular}\n",
       "\\begin{tabular}{lclc}\n",
       "\\textbf{Ljung-Box (L1) (Q):}     & 1.55 & \\textbf{  Jarque-Bera (JB):  } & 4116.71  \\\\\n",
       "\\textbf{Prob(Q):}                & 0.21 & \\textbf{  Prob(JB):          } &   0.00   \\\\\n",
       "\\textbf{Heteroskedasticity (H):} & 1.24 & \\textbf{  Skew:              } &  -0.51   \\\\\n",
       "\\textbf{Prob(H) (two-sided):}    & 0.00 & \\textbf{  Kurtosis:          } &   7.32   \\\\\n",
       "\\bottomrule\n",
       "\\end{tabular}\n",
       "%\\caption{SARIMAX Results}\n",
       "\\end{center}\n",
       "\n",
       "Warnings: \\newline\n",
       " [1] Covariance matrix calculated using the outer product of gradients (complex-step)."
      ],
      "text/plain": [
       "<class 'statsmodels.iolib.summary.Summary'>\n",
       "\"\"\"\n",
       "                                     SARIMAX Results                                     \n",
       "=========================================================================================\n",
       "Dep. Variable:                      market_value   No. Observations:                 5021\n",
       "Model:             SARIMAX(1, 0, 1)x(2, 0, 1, 5)   Log Likelihood              -26719.403\n",
       "Date:                           Sat, 26 Oct 2024   AIC                          53452.807\n",
       "Time:                                   20:30:02   BIC                          53498.456\n",
       "Sample:                               01-07-1994   HQIC                         53468.803\n",
       "                                    - 04-05-2013                                         \n",
       "Covariance Type:                             opg                                         \n",
       "==============================================================================\n",
       "                 coef    std err          z      P>|z|      [0.025      0.975]\n",
       "------------------------------------------------------------------------------\n",
       "spx            2.7004      0.036     75.909      0.000       2.631       2.770\n",
       "ar.L1          0.9998      0.001   1807.554      0.000       0.999       1.001\n",
       "ma.L1         -0.3117      0.010    -32.518      0.000      -0.330      -0.293\n",
       "ar.S.L5        0.9641      0.012     81.550      0.000       0.941       0.987\n",
       "ar.S.L10       0.0355      0.006      5.530      0.000       0.023       0.048\n",
       "ma.S.L5       -0.9994      0.011    -93.690      0.000      -1.020      -0.978\n",
       "sigma2      2449.7140     28.730     85.265      0.000    2393.403    2506.025\n",
       "===================================================================================\n",
       "Ljung-Box (L1) (Q):                   1.55   Jarque-Bera (JB):              4116.71\n",
       "Prob(Q):                              0.21   Prob(JB):                         0.00\n",
       "Heteroskedasticity (H):               1.24   Skew:                            -0.51\n",
       "Prob(H) (two-sided):                  0.00   Kurtosis:                         7.32\n",
       "===================================================================================\n",
       "\n",
       "Warnings:\n",
       "[1] Covariance matrix calculated using the outer product of gradients (complex-step).\n",
       "\"\"\""
      ]
     },
     "execution_count": 16,
     "metadata": {},
     "output_type": "execute_result"
    }
   ],
   "source": [
    "model_sarimax = SARIMAX(df_market_value_train.market_value,exog=df_index.iloc[0:df_market_value_train.shape[0],0],order=(1,0,1),seasonal_order = (2,0,1,5))\n",
    "result_sarimax=model_sarimax.fit()\n",
    "result_sarimax.summary()"
   ]
  },
  {
   "cell_type": "code",
   "execution_count": null,
   "id": "5b5d1edd-4d7c-415a-8c84-91bb496196e3",
   "metadata": {},
   "outputs": [],
   "source": []
  },
  {
   "cell_type": "code",
   "execution_count": null,
   "id": "cd8b22bb-6a02-4259-ae2f-d7c743d99cce",
   "metadata": {},
   "outputs": [],
   "source": []
  },
  {
   "cell_type": "markdown",
   "id": "9cbe7429-85ce-41dc-847e-084c2c29a4cd",
   "metadata": {},
   "source": [
    "## Volatitliy\n",
    "- lets explain what is valatility\n",
    "- For a long term huge purchase of stocks invester need stability in market so they can invest with out taking huge risk.\n",
    "- The longer the time portafolio maintains stability the more the invester would like to invest in the stocks of same portfolio.\n",
    "- Volatility can be also considered as variance.\n",
    "- This voloitility is affected by unexpected change in price .\n",
    "- But in the context of Volatility it doesnot matter that sign of the sudden change in negative or positive. and these are equally unpleasant.\n",
    "- It only depend upon magnitude of the sudden change.\n",
    "- So to calculate to volatity accurately we have go through three steps.\n",
    "  - solves positive and negative conundrum.\n",
    "  - we square the values.\n",
    "  - penalize high difference between prediction and actual.\n",
    "  - increase importance of high big unpredictable shocks.\n",
    "- So to calculate volatity we use ARCH which is in next notebook."
   ]
  },
  {
   "cell_type": "code",
   "execution_count": null,
   "id": "e98afc14-bb3b-4dbd-ad76-24f3b718bb12",
   "metadata": {},
   "outputs": [],
   "source": []
  },
  {
   "cell_type": "code",
   "execution_count": null,
   "id": "9e36e2eb-3e60-492d-ba91-e5dcf07806f5",
   "metadata": {},
   "outputs": [],
   "source": []
  },
  {
   "cell_type": "code",
   "execution_count": null,
   "id": "af124f33-eaf9-4980-99c4-37f555be8b39",
   "metadata": {},
   "outputs": [],
   "source": []
  },
  {
   "cell_type": "code",
   "execution_count": null,
   "id": "6b8566d9-f4b5-4f65-8c61-f5a4b1820ee1",
   "metadata": {},
   "outputs": [],
   "source": []
  }
 ],
 "metadata": {
  "kernelspec": {
   "display_name": "DataScienceEnv",
   "language": "python",
   "name": "datascienceenv"
  },
  "language_info": {
   "codemirror_mode": {
    "name": "ipython",
    "version": 3
   },
   "file_extension": ".py",
   "mimetype": "text/x-python",
   "name": "python",
   "nbconvert_exporter": "python",
   "pygments_lexer": "ipython3",
   "version": "3.8.19"
  },
  "widgets": {
   "application/vnd.jupyter.widget-state+json": {
    "state": {},
    "version_major": 2,
    "version_minor": 0
   }
  }
 },
 "nbformat": 4,
 "nbformat_minor": 5
}
