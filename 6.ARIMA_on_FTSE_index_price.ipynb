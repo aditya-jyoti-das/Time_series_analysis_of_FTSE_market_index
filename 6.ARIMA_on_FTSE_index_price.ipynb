{
 "cells": [
  {
   "cell_type": "code",
   "execution_count": 5,
   "id": "cbc3b614-7cf1-4030-bd03-7c3f453ffe80",
   "metadata": {},
   "outputs": [],
   "source": [
    "import pandas as pd\n",
    "import numpy as np\n",
    "import matplotlib.pyplot as plt \n",
    "import seaborn as sns\n",
    "import statsmodels\n",
    "import scipy\n",
    "import statsmodels.graphics.tsaplots as sgt\n",
    "from statsmodels.tsa.seasonal import seasonal_decompose\n",
    "from statsmodels.tsa.stattools import adfuller\n",
    "import scipy.stats\n",
    "import pylab\n",
    "import matplotlib as mpl\n",
    "from scipy.stats.distributions import chi2\n",
    "from statsmodels.tsa.arima.model import ARIMA\n",
    "from scipy.stats import norm\n",
    "sns.set()"
   ]
  },
  {
   "cell_type": "code",
   "execution_count": 6,
   "id": "adea0b60-9442-4e3c-9dd5-e87639c4db06",
   "metadata": {},
   "outputs": [
    {
     "data": {
      "text/plain": [
       "(6277, 4)"
      ]
     },
     "execution_count": 6,
     "metadata": {},
     "output_type": "execute_result"
    }
   ],
   "source": [
    "raw_index_data=pd.read_csv('Index2018.csv')  # Index price data Importation in Raw_index_data variable\n",
    "df_index=raw_index_data.copy()  # copy to df_index from Raw_index_data\n",
    "df_index.date=pd.to_datetime(df_index.date,dayfirst=True) # datatype of date column changed to datetime \n",
    "df_index.set_index('date',inplace=True) # set date column as index\n",
    "df_index=df_index.asfreq('b') # setting frequency of data obsevation to business days\n",
    "df_index.shape #shape checking "
   ]
  },
  {
   "cell_type": "code",
   "execution_count": 7,
   "id": "2b84eb77-b4bf-4d15-b6ce-87d939eb5545",
   "metadata": {},
   "outputs": [],
   "source": [
    "df_index.spx.fillna(method='ffill',inplace=True) # front filling of missing values of spx columns\n",
    "df_index.ftse.fillna(method='bfill',inplace=True) # backfilling of missing values of ftse columns\n",
    "df_index.dax.fillna(df_index.dax.mean(),inplace=True) # mean value assigned to each missing values of dax columns \n",
    "df_index.nikkei.fillna(df_index.nikkei.median(),inplace=True) # median value assigned to each missing value of nikkei"
   ]
  },
  {
   "cell_type": "code",
   "execution_count": 8,
   "id": "6e09f738-ddaf-4bdd-99d8-4451a5b0b625",
   "metadata": {},
   "outputs": [
    {
     "name": "stderr",
     "output_type": "stream",
     "text": [
      "C:\\Users\\adadi\\anaconda3\\envs\\DataScienceEnv\\lib\\site-packages\\pandas\\core\\frame.py:5039: SettingWithCopyWarning: \n",
      "A value is trying to be set on a copy of a slice from a DataFrame\n",
      "\n",
      "See the caveats in the documentation: https://pandas.pydata.org/pandas-docs/stable/user_guide/indexing.html#returning-a-view-versus-a-copy\n",
      "  return super().rename(\n"
     ]
    }
   ],
   "source": [
    "df_market_value=df_index[['ftse']] # Selecting FTSE index for further processing\n",
    "df_market_value.rename(columns={'ftse':'market_value'},inplace=True) # renaming ftse to market value\n",
    "traininglen=int(len(df_market_value)*0.8) # Train and test split with ratio of 80:20\n",
    "testingLen=len(df_market_value)-traininglen\n",
    "df_market_value_train=df_market_value.iloc[:traininglen,:]\n",
    "df_market_value_test=df_market_value.iloc[traininglen:,:]"
   ]
  },
  {
   "cell_type": "code",
   "execution_count": 9,
   "id": "20c7a45d-d684-49a0-a5dc-e4dd9f4949e9",
   "metadata": {},
   "outputs": [
    {
     "name": "stderr",
     "output_type": "stream",
     "text": [
      "C:\\Users\\adadi\\AppData\\Local\\Temp/ipykernel_18828/2511373873.py:4: SettingWithCopyWarning: \n",
      "A value is trying to be set on a copy of a slice from a DataFrame.\n",
      "Try using .loc[row_indexer,col_indexer] = value instead\n",
      "\n",
      "See the caveats in the documentation: https://pandas.pydata.org/pandas-docs/stable/user_guide/indexing.html#returning-a-view-versus-a-copy\n",
      "  df_market_value_train['wn']=wn\n"
     ]
    }
   ],
   "source": [
    "mean=df_market_value_train['market_value'].mean() # calculating mean of ftse market index values from training part of dataset\n",
    "std=df_market_value_train['market_value'].std() # calculating std from same\n",
    "wn=np.random.normal(loc=mean,scale=std,size=len(df_market_value_train)) # creating white noice using np.random.uniform()\n",
    "df_market_value_train['wn']=wn "
   ]
  },
  {
   "cell_type": "code",
   "execution_count": 10,
   "id": "600448dd-b6b3-4d99-b611-f2008f03a89a",
   "metadata": {},
   "outputs": [],
   "source": [
    "rw=pd.read_csv('RandWalk.csv') # adding new column for random walk in training dataframe  \n",
    "rw.date=pd.to_datetime(rw.date,dayfirst=True)\n",
    "rw.set_index('date',inplace=True)\n",
    "df_market_value_train=pd.merge(left=df_market_value_train,right=rw,left_index=True, right_index=True)\n",
    "df_market_value_train.rename(columns={'price':'rw'},inplace=True) # renaming the randomwalk value column"
   ]
  },
  {
   "cell_type": "code",
   "execution_count": 11,
   "id": "a31aa0b7-79ac-48b4-b25f-e446ebff0e28",
   "metadata": {},
   "outputs": [
    {
     "data": {
      "text/html": [
       "<div>\n",
       "<style scoped>\n",
       "    .dataframe tbody tr th:only-of-type {\n",
       "        vertical-align: middle;\n",
       "    }\n",
       "\n",
       "    .dataframe tbody tr th {\n",
       "        vertical-align: top;\n",
       "    }\n",
       "\n",
       "    .dataframe thead th {\n",
       "        text-align: right;\n",
       "    }\n",
       "</style>\n",
       "<table border=\"1\" class=\"dataframe\">\n",
       "  <thead>\n",
       "    <tr style=\"text-align: right;\">\n",
       "      <th></th>\n",
       "      <th>market_value</th>\n",
       "      <th>wn</th>\n",
       "      <th>rw</th>\n",
       "    </tr>\n",
       "    <tr>\n",
       "      <th>date</th>\n",
       "      <th></th>\n",
       "      <th></th>\n",
       "      <th></th>\n",
       "    </tr>\n",
       "  </thead>\n",
       "  <tbody>\n",
       "    <tr>\n",
       "      <th>1994-01-07</th>\n",
       "      <td>3445.98</td>\n",
       "      <td>6726.195312</td>\n",
       "      <td>1122.139662</td>\n",
       "    </tr>\n",
       "    <tr>\n",
       "      <th>1994-01-10</th>\n",
       "      <td>3440.58</td>\n",
       "      <td>4984.228999</td>\n",
       "      <td>1080.347860</td>\n",
       "    </tr>\n",
       "    <tr>\n",
       "      <th>1994-01-11</th>\n",
       "      <td>3413.77</td>\n",
       "      <td>5420.528832</td>\n",
       "      <td>1082.095245</td>\n",
       "    </tr>\n",
       "    <tr>\n",
       "      <th>1994-01-12</th>\n",
       "      <td>3372.02</td>\n",
       "      <td>4432.994230</td>\n",
       "      <td>1083.639265</td>\n",
       "    </tr>\n",
       "    <tr>\n",
       "      <th>1994-01-13</th>\n",
       "      <td>3360.01</td>\n",
       "      <td>5633.988855</td>\n",
       "      <td>1067.146255</td>\n",
       "    </tr>\n",
       "  </tbody>\n",
       "</table>\n",
       "</div>"
      ],
      "text/plain": [
       "            market_value           wn           rw\n",
       "date                                              \n",
       "1994-01-07       3445.98  6726.195312  1122.139662\n",
       "1994-01-10       3440.58  4984.228999  1080.347860\n",
       "1994-01-11       3413.77  5420.528832  1082.095245\n",
       "1994-01-12       3372.02  4432.994230  1083.639265\n",
       "1994-01-13       3360.01  5633.988855  1067.146255"
      ]
     },
     "execution_count": 11,
     "metadata": {},
     "output_type": "execute_result"
    }
   ],
   "source": [
    "df_market_value_train.head()"
   ]
  },
  {
   "cell_type": "markdown",
   "id": "e41b456d-a622-4ee6-8e2b-ac0027da1656",
   "metadata": {},
   "source": [
    "#### ***ARIMA***\n",
    "- The order of ARIMA model takes 3 elements. two of them is simialar as we are taking for normal ARMA model.\n",
    "- But one extra term, that is used, is called intergration term.\n",
    "- The intergration term bascically says that how many times model hiddenly calculate the difference of consecutive element, so that final series will become stationary, since normal ARMA model performs well with stationary data.\n",
    "- This is only difference from normal ARMA model.\n",
    "- denoted by ARIMA(p,d,q).\n",
    "- Depend upon the value of the d we will loose same no of data from beginning.\n",
    "- Lets fit the ftse index price here."
   ]
  },
  {
   "cell_type": "code",
   "execution_count": 12,
   "id": "0981d2b4-3a4a-411e-9951-ffd002d6e21d",
   "metadata": {},
   "outputs": [
    {
     "name": "stderr",
     "output_type": "stream",
     "text": [
      "C:\\Users\\adadi\\anaconda3\\envs\\DataScienceEnv\\lib\\site-packages\\statsmodels\\tsa\\base\\tsa_model.py:473: ValueWarning: No frequency information was provided, so inferred frequency B will be used.\n",
      "  self._init_dates(dates, freq)\n",
      "C:\\Users\\adadi\\anaconda3\\envs\\DataScienceEnv\\lib\\site-packages\\statsmodels\\tsa\\base\\tsa_model.py:473: ValueWarning: No frequency information was provided, so inferred frequency B will be used.\n",
      "  self._init_dates(dates, freq)\n",
      "C:\\Users\\adadi\\anaconda3\\envs\\DataScienceEnv\\lib\\site-packages\\statsmodels\\tsa\\base\\tsa_model.py:473: ValueWarning: No frequency information was provided, so inferred frequency B will be used.\n",
      "  self._init_dates(dates, freq)\n",
      "C:\\Users\\adadi\\anaconda3\\envs\\DataScienceEnv\\lib\\site-packages\\statsmodels\\tsa\\statespace\\sarimax.py:966: UserWarning: Non-stationary starting autoregressive parameters found. Using zeros as starting parameters.\n",
      "  warn('Non-stationary starting autoregressive parameters'\n",
      "C:\\Users\\adadi\\anaconda3\\envs\\DataScienceEnv\\lib\\site-packages\\statsmodels\\tsa\\statespace\\sarimax.py:978: UserWarning: Non-invertible starting MA parameters found. Using zeros as starting parameters.\n",
      "  warn('Non-invertible starting MA parameters found.'\n"
     ]
    },
    {
     "name": "stdout",
     "output_type": "stream",
     "text": [
      "                               SARIMAX Results                                \n",
      "==============================================================================\n",
      "Dep. Variable:           market_value   No. Observations:                 5021\n",
      "Model:                 ARIMA(1, 1, 1)   Log Likelihood              -27604.051\n",
      "Date:                Sat, 26 Oct 2024   AIC                          55214.102\n",
      "Time:                        18:15:12   BIC                          55233.666\n",
      "Sample:                    01-07-1994   HQIC                         55220.958\n",
      "                         - 04-05-2013                                         \n",
      "Covariance Type:                  opg                                         \n",
      "==============================================================================\n",
      "                 coef    std err          z      P>|z|      [0.025      0.975]\n",
      "------------------------------------------------------------------------------\n",
      "ar.L1          0.7460      0.059     12.638      0.000       0.630       0.862\n",
      "ma.L1         -0.7919      0.053    -14.899      0.000      -0.896      -0.688\n",
      "sigma2      3497.2506     40.894     85.521      0.000    3417.100    3577.401\n",
      "===================================================================================\n",
      "Ljung-Box (L1) (Q):                   2.60   Jarque-Bera (JB):              3326.24\n",
      "Prob(Q):                              0.11   Prob(JB):                         0.00\n",
      "Heteroskedasticity (H):               1.90   Skew:                            -0.32\n",
      "Prob(H) (two-sided):                  0.00   Kurtosis:                         6.94\n",
      "===================================================================================\n",
      "\n",
      "Warnings:\n",
      "[1] Covariance matrix calculated using the outer product of gradients (complex-step).\n"
     ]
    }
   ],
   "source": [
    "model_ar1_i_1_ma1=ARIMA(df_market_value_train['market_value'],order=(1,1,1))\n",
    "result_ar1_i_1_ma1=model_ar1_i_1_ma1.fit()\n",
    "print(result_ar1_i_1_ma1.summary())"
   ]
  },
  {
   "cell_type": "code",
   "execution_count": 13,
   "id": "832150ea-023e-44c2-9867-68834bf7d9b8",
   "metadata": {},
   "outputs": [],
   "source": [
    "df_market_value_train['resid_ar1_i1_ma1']=result_ar1_i_1_ma1.resid"
   ]
  },
  {
   "cell_type": "code",
   "execution_count": 14,
   "id": "c6a1e7cd-1ba8-47e1-a2db-d51ef2069601",
   "metadata": {},
   "outputs": [
    {
     "data": {
      "text/plain": [
       "(-25.42558217132577,\n",
       " 0.0,\n",
       " 7,\n",
       " 5013,\n",
       " {'1%': -3.431655136974821,\n",
       "  '5%': -2.8621167297421373,\n",
       "  '10%': -2.567076993884522},\n",
       " 54861.289908506835)"
      ]
     },
     "execution_count": 14,
     "metadata": {},
     "output_type": "execute_result"
    }
   ],
   "source": [
    "adfuller(df_market_value_train.resid_ar1_i1_ma1)"
   ]
  },
  {
   "cell_type": "code",
   "execution_count": 15,
   "id": "e455638a-04ed-4f70-8d19-ee59954f2831",
   "metadata": {},
   "outputs": [
    {
     "data": {
      "image/png": "[encoded data removed]",
      "text/plain": [
       "<Figure size 1008x288 with 1 Axes>"
      ]
     },
     "metadata": {},
     "output_type": "display_data"
    }
   ],
   "source": [
    "plt.rc('figure',figsize=(14,4))\n",
    "sgt.plot_pacf(df_market_value_train['resid_ar1_i1_ma1'],zero=False,lags=40,method='ols',alpha=0.05)\n",
    "plt.title('PACF of residual obtained from ARIMA(1,1,1)')\n",
    "plt.ylim((-0.1,0.1))\n",
    "plt.show()"
   ]
  },
  {
   "cell_type": "code",
   "execution_count": 16,
   "id": "75e77b3e-480d-4d2c-8368-91a9e4ea7f70",
   "metadata": {},
   "outputs": [
    {
     "data": {
      "image/png": "[encoded data removed]",
      "text/plain": [
       "<Figure size 1008x288 with 1 Axes>"
      ]
     },
     "metadata": {},
     "output_type": "display_data"
    }
   ],
   "source": [
    "plt.rc('figure',figsize=(14,4))\n",
    "sgt.plot_acf(df_market_value_train['resid_ar1_i1_ma1'],zero=False,lags=40,alpha=0.05)\n",
    "plt.title('ACF of residual obtained from ARIMA(1,1,1)')\n",
    "plt.ylim((-0.1,0.1))\n",
    "plt.show()"
   ]
  },
  {
   "cell_type": "markdown",
   "id": "e0cbe19b-65af-4a46-80b7-bb36c48f479a",
   "metadata": {},
   "source": [
    "#### ***Observation***\n",
    "- Coefficient observed in arima(1,1,1) Model fitted on market value of ftse are same as ARMA(1,1) fitten on return data of FTSE market value.\n",
    "- By observing the residual obtained from ARMA(1,1,1) ,it is clear that it is a white noice, resembles with normal distribution, which indicates that, all the past pattern has been learnt properly.\n",
    "- But there still exist some significant correlation between current residual with the lag upto 8.\n",
    "- So lets find a better model.\n",
    "- IN last notebook we have observed that ARMA(1,1),(1,2),(1,3),(2,1),(3,1),(3,2),(3,3),(5,1),(5,2) has performed well in return ftse index price. "
   ]
  },
  {
   "cell_type": "markdown",
   "id": "bc983aec-1673-4fc5-aaf2-21f9dedd4016",
   "metadata": {},
   "source": [
    "### ***Fitting all the possible ARIMA model***"
   ]
  },
  {
   "cell_type": "code",
   "execution_count": 17,
   "id": "1a29d312-7c01-407d-be65-6fe9cd6ed380",
   "metadata": {
    "scrolled": true
   },
   "outputs": [
    {
     "name": "stderr",
     "output_type": "stream",
     "text": [
      "C:\\Users\\adadi\\anaconda3\\envs\\DataScienceEnv\\lib\\site-packages\\statsmodels\\tsa\\base\\tsa_model.py:473: ValueWarning: No frequency information was provided, so inferred frequency B will be used.\n",
      "  self._init_dates(dates, freq)\n",
      "C:\\Users\\adadi\\anaconda3\\envs\\DataScienceEnv\\lib\\site-packages\\statsmodels\\tsa\\base\\tsa_model.py:473: ValueWarning: No frequency information was provided, so inferred frequency B will be used.\n",
      "  self._init_dates(dates, freq)\n",
      "C:\\Users\\adadi\\anaconda3\\envs\\DataScienceEnv\\lib\\site-packages\\statsmodels\\tsa\\base\\tsa_model.py:473: ValueWarning: No frequency information was provided, so inferred frequency B will be used.\n",
      "  self._init_dates(dates, freq)\n",
      "C:\\Users\\adadi\\anaconda3\\envs\\DataScienceEnv\\lib\\site-packages\\statsmodels\\tsa\\base\\tsa_model.py:473: ValueWarning: No frequency information was provided, so inferred frequency B will be used.\n",
      "  self._init_dates(dates, freq)\n",
      "C:\\Users\\adadi\\anaconda3\\envs\\DataScienceEnv\\lib\\site-packages\\statsmodels\\tsa\\base\\tsa_model.py:473: ValueWarning: No frequency information was provided, so inferred frequency B will be used.\n",
      "  self._init_dates(dates, freq)\n",
      "C:\\Users\\adadi\\anaconda3\\envs\\DataScienceEnv\\lib\\site-packages\\statsmodels\\tsa\\base\\tsa_model.py:473: ValueWarning: No frequency information was provided, so inferred frequency B will be used.\n",
      "  self._init_dates(dates, freq)\n",
      "C:\\Users\\adadi\\anaconda3\\envs\\DataScienceEnv\\lib\\site-packages\\statsmodels\\tsa\\base\\tsa_model.py:473: ValueWarning: No frequency information was provided, so inferred frequency B will be used.\n",
      "  self._init_dates(dates, freq)\n",
      "C:\\Users\\adadi\\anaconda3\\envs\\DataScienceEnv\\lib\\site-packages\\statsmodels\\tsa\\base\\tsa_model.py:473: ValueWarning: No frequency information was provided, so inferred frequency B will be used.\n",
      "  self._init_dates(dates, freq)\n",
      "C:\\Users\\adadi\\anaconda3\\envs\\DataScienceEnv\\lib\\site-packages\\statsmodels\\tsa\\base\\tsa_model.py:473: ValueWarning: No frequency information was provided, so inferred frequency B will be used.\n",
      "  self._init_dates(dates, freq)\n",
      "C:\\Users\\adadi\\anaconda3\\envs\\DataScienceEnv\\lib\\site-packages\\statsmodels\\tsa\\statespace\\sarimax.py:966: UserWarning: Non-stationary starting autoregressive parameters found. Using zeros as starting parameters.\n",
      "  warn('Non-stationary starting autoregressive parameters'\n",
      "C:\\Users\\adadi\\anaconda3\\envs\\DataScienceEnv\\lib\\site-packages\\statsmodels\\tsa\\statespace\\sarimax.py:978: UserWarning: Non-invertible starting MA parameters found. Using zeros as starting parameters.\n",
      "  warn('Non-invertible starting MA parameters found.'\n",
      "C:\\Users\\adadi\\anaconda3\\envs\\DataScienceEnv\\lib\\site-packages\\statsmodels\\tsa\\base\\tsa_model.py:473: ValueWarning: No frequency information was provided, so inferred frequency B will be used.\n",
      "  self._init_dates(dates, freq)\n",
      "C:\\Users\\adadi\\anaconda3\\envs\\DataScienceEnv\\lib\\site-packages\\statsmodels\\tsa\\base\\tsa_model.py:473: ValueWarning: No frequency information was provided, so inferred frequency B will be used.\n",
      "  self._init_dates(dates, freq)\n",
      "C:\\Users\\adadi\\anaconda3\\envs\\DataScienceEnv\\lib\\site-packages\\statsmodels\\tsa\\base\\tsa_model.py:473: ValueWarning: No frequency information was provided, so inferred frequency B will be used.\n",
      "  self._init_dates(dates, freq)\n",
      "C:\\Users\\adadi\\anaconda3\\envs\\DataScienceEnv\\lib\\site-packages\\statsmodels\\tsa\\base\\tsa_model.py:473: ValueWarning: No frequency information was provided, so inferred frequency B will be used.\n",
      "  self._init_dates(dates, freq)\n",
      "C:\\Users\\adadi\\anaconda3\\envs\\DataScienceEnv\\lib\\site-packages\\statsmodels\\tsa\\base\\tsa_model.py:473: ValueWarning: No frequency information was provided, so inferred frequency B will be used.\n",
      "  self._init_dates(dates, freq)\n",
      "C:\\Users\\adadi\\anaconda3\\envs\\DataScienceEnv\\lib\\site-packages\\statsmodels\\tsa\\base\\tsa_model.py:473: ValueWarning: No frequency information was provided, so inferred frequency B will be used.\n",
      "  self._init_dates(dates, freq)\n",
      "C:\\Users\\adadi\\anaconda3\\envs\\DataScienceEnv\\lib\\site-packages\\statsmodels\\tsa\\base\\tsa_model.py:473: ValueWarning: No frequency information was provided, so inferred frequency B will be used.\n",
      "  self._init_dates(dates, freq)\n",
      "C:\\Users\\adadi\\anaconda3\\envs\\DataScienceEnv\\lib\\site-packages\\statsmodels\\tsa\\base\\tsa_model.py:473: ValueWarning: No frequency information was provided, so inferred frequency B will be used.\n",
      "  self._init_dates(dates, freq)\n",
      "C:\\Users\\adadi\\anaconda3\\envs\\DataScienceEnv\\lib\\site-packages\\statsmodels\\tsa\\base\\tsa_model.py:473: ValueWarning: No frequency information was provided, so inferred frequency B will be used.\n",
      "  self._init_dates(dates, freq)\n",
      "C:\\Users\\adadi\\anaconda3\\envs\\DataScienceEnv\\lib\\site-packages\\statsmodels\\tsa\\base\\tsa_model.py:473: ValueWarning: No frequency information was provided, so inferred frequency B will be used.\n",
      "  self._init_dates(dates, freq)\n",
      "C:\\Users\\adadi\\anaconda3\\envs\\DataScienceEnv\\lib\\site-packages\\statsmodels\\tsa\\base\\tsa_model.py:473: ValueWarning: No frequency information was provided, so inferred frequency B will be used.\n",
      "  self._init_dates(dates, freq)\n",
      "C:\\Users\\adadi\\anaconda3\\envs\\DataScienceEnv\\lib\\site-packages\\statsmodels\\tsa\\base\\tsa_model.py:473: ValueWarning: No frequency information was provided, so inferred frequency B will be used.\n",
      "  self._init_dates(dates, freq)\n",
      "C:\\Users\\adadi\\anaconda3\\envs\\DataScienceEnv\\lib\\site-packages\\statsmodels\\tsa\\base\\tsa_model.py:473: ValueWarning: No frequency information was provided, so inferred frequency B will be used.\n",
      "  self._init_dates(dates, freq)\n",
      "C:\\Users\\adadi\\anaconda3\\envs\\DataScienceEnv\\lib\\site-packages\\statsmodels\\tsa\\base\\tsa_model.py:473: ValueWarning: No frequency information was provided, so inferred frequency B will be used.\n",
      "  self._init_dates(dates, freq)\n",
      "C:\\Users\\adadi\\anaconda3\\envs\\DataScienceEnv\\lib\\site-packages\\statsmodels\\tsa\\base\\tsa_model.py:473: ValueWarning: No frequency information was provided, so inferred frequency B will be used.\n",
      "  self._init_dates(dates, freq)\n"
     ]
    }
   ],
   "source": [
    "model_ar1_i1_ma2=ARIMA(df_market_value_train['market_value'],order=(1,1,2))\n",
    "result_ar1_i1_ma2=model_ar1_i1_ma2.fit()\n",
    "\n",
    "model_ar1_i1_ma3=ARIMA(df_market_value_train['market_value'],order=(1,1,3))\n",
    "result_ar1_i1_ma3=model_ar1_i1_ma3.fit()\n",
    "\n",
    "model_ar2_i1_ma1=ARIMA(df_market_value_train['market_value'],order=(2,1,1))\n",
    "result_ar2_i1_ma1=model_ar2_i1_ma1.fit()\n",
    "\n",
    "model_ar3_i1_ma1=ARIMA(df_market_value_train['market_value'],order=(3,1,1))\n",
    "result_ar3_i1_ma1=model_ar3_i1_ma1.fit()\n",
    "\n",
    "model_ar3_i1_ma2=ARIMA(df_market_value_train['market_value'],order=(3,1,2))\n",
    "result_ar3_i1_ma2=model_ar3_i1_ma2.fit()\n",
    "\n",
    "model_ar3_i1_ma3=ARIMA(df_market_value_train['market_value'],order=(3,1,3))\n",
    "result_ar3_i1_ma3=model_ar3_i1_ma3.fit()\n",
    "\n",
    "model_ar5_i1_ma1=ARIMA(df_market_value_train['market_value'],order=(5,1,1))\n",
    "result_ar5_i1_ma1=model_ar5_i1_ma1.fit()\n",
    "\n",
    "model_ar5_i1_ma2=ARIMA(df_market_value_train['market_value'],order=(5,1,2))\n",
    "result_ar5_i1_ma2=model_ar5_i1_ma2.fit()\n"
   ]
  },
  {
   "cell_type": "markdown",
   "id": "f224959f-b0a4-45cc-a1c7-3bd9b4bfd379",
   "metadata": {},
   "source": [
    "### Lets compare The All the model by their LLf, AIC"
   ]
  },
  {
   "cell_type": "code",
   "execution_count": 18,
   "id": "54d67e32-c709-4b2b-9c57-0a40a39fc251",
   "metadata": {},
   "outputs": [
    {
     "name": "stdout",
     "output_type": "stream",
     "text": [
      "ModelName: ARIMA(1,1,1)  \tLL: -27604.051173549968 \t AIC: 55214.102347099935\n",
      "ModelName: ARIMA(1,1,2)  \tLL: -27600.47033798942  \t AIC: 55208.94067597884\n",
      "ModelName: ARIMA(1,1,3)  \tLL: -27591.904204384413  \t AIC: 55193.808408768826\n",
      "ModelName: ARIMA(2,1,1)  \tLL: -27600.197766076282  \t AIC: 55208.395532152565\n",
      "ModelName: ARIMA(3,1,1)  \tLL: -27593.41636599207  \t AIC: 55196.83273198414\n",
      "ModelName: ARIMA(3,1,2)  \tLL: -27592.178989307067  \t AIC: 55196.357978614134\n",
      "ModelName: ARIMA(3,1,3)  \tLL: -27588.405784087827  \t AIC: 55190.81156817565\n",
      "ModelName: ARIMA(5,1,1)  \tLL: -27587.943443519584  \t AIC: 55189.88688703917\n",
      "ModelName: ARIMA(5,1,2)  \tLL: -27585.507119672067  \t AIC: 55187.014239344135\n"
     ]
    }
   ],
   "source": [
    "print(f'ModelName: ARIMA(1,1,1)  \\tLL: {result_ar1_i_1_ma1.llf} \\t AIC: {result_ar1_i_1_ma1.aic}')\n",
    "print(f'ModelName: ARIMA(1,1,2)  \\tLL: {result_ar1_i1_ma2.llf}  \\t AIC: {result_ar1_i1_ma2.aic}')\n",
    "print(f'ModelName: ARIMA(1,1,3)  \\tLL: {result_ar1_i1_ma3.llf}  \\t AIC: {result_ar1_i1_ma3.aic}')\n",
    "print(f'ModelName: ARIMA(2,1,1)  \\tLL: {result_ar2_i1_ma1.llf}  \\t AIC: {result_ar2_i1_ma1.aic}')\n",
    "print(f'ModelName: ARIMA(3,1,1)  \\tLL: {result_ar3_i1_ma1.llf}  \\t AIC: {result_ar3_i1_ma1.aic}')\n",
    "print(f'ModelName: ARIMA(3,1,2)  \\tLL: {result_ar3_i1_ma2.llf}  \\t AIC: {result_ar3_i1_ma2.aic}')\n",
    "print(f'ModelName: ARIMA(3,1,3)  \\tLL: {result_ar3_i1_ma3.llf}  \\t AIC: {result_ar3_i1_ma3.aic}')\n",
    "print(f'ModelName: ARIMA(5,1,1)  \\tLL: {result_ar5_i1_ma1.llf}  \\t AIC: {result_ar5_i1_ma1.aic}')\n",
    "print(f'ModelName: ARIMA(5,1,2)  \\tLL: {result_ar5_i1_ma2.llf}  \\t AIC: {result_ar5_i1_ma2.aic}')\n",
    "\n"
   ]
  },
  {
   "cell_type": "markdown",
   "id": "6f6b73a2-ad8b-48ad-bca6-5ab2db7f6bed",
   "metadata": {},
   "source": [
    "#### ***Observation***\n",
    "- Model with order value(5,1,2) has performed well. but we can not choose it as best model for now since it has total 6 parameter which can make it complecated.\n",
    "- So Let compare the significance of performance obtained from each model from higher lag. if there wont be existing any significant performance difference between two model then simple model with lower lag will be selected."
   ]
  },
  {
   "cell_type": "code",
   "execution_count": 19,
   "id": "8e002efa-729c-4dc8-a99a-0819cc2a7dcc",
   "metadata": {},
   "outputs": [],
   "source": [
    "def LLR_test(Model_a_res,Model_b_res,df=1):\n",
    "    La=Model_a_res.llf\n",
    "    Lb=Model_b_res.llf\n",
    "    Q=2*(Lb-La)\n",
    "    P=chi2.sf(Q,df)\n",
    "    return P "
   ]
  },
  {
   "cell_type": "markdown",
   "id": "fcea14ba-8132-483f-8a3d-38fe0fbf17bd",
   "metadata": {},
   "source": [
    "### ***LLR Test***"
   ]
  },
  {
   "cell_type": "code",
   "execution_count": 20,
   "id": "0f265143-bbb0-43f2-a6be-ac05d5235c31",
   "metadata": {},
   "outputs": [
    {
     "name": "stdout",
     "output_type": "stream",
     "text": [
      "LLR test of ARIMA(5,1,1) AND ARIMA(5,1,2):\t 0.027285605659301094\n",
      "LLR test of ARIMA(1,1,2) AND ARIMA(5,1,2):\t 4.487523426117635e-08\n",
      "LLR test of ARIMA(3,1,2) AND ARIMA(5,1,2):\t 0.00025928681545271166\n"
     ]
    }
   ],
   "source": [
    "print('LLR test of ARIMA(5,1,1) AND ARIMA(5,1,2):\\t',LLR_test(result_ar5_i1_ma1,result_ar5_i1_ma2))\n",
    "print('LLR test of ARIMA(1,1,2) AND ARIMA(5,1,2):\\t',LLR_test(result_ar1_i1_ma2,result_ar5_i1_ma2,df=1))\n",
    "print('LLR test of ARIMA(3,1,2) AND ARIMA(5,1,2):\\t',LLR_test(result_ar3_i1_ma2,result_ar5_i1_ma2,df=1))"
   ]
  },
  {
   "cell_type": "markdown",
   "id": "6f935a4a-899a-4f69-8a6c-d7404bd92445",
   "metadata": {},
   "source": [
    "#### ***Observation***\n",
    "- By Performing LLR test we can cleary says that model ARMA(5,1,2) has performed significantly well than other with lower total lags this."
   ]
  },
  {
   "cell_type": "markdown",
   "id": "a724dcfb-96ee-4fac-a9fd-eae6f814d37c",
   "metadata": {},
   "source": [
    "### ***Analysis of the residual***"
   ]
  },
  {
   "cell_type": "code",
   "execution_count": 21,
   "id": "a61e5dfd-b351-4ce3-b2ff-10d2eb66dcec",
   "metadata": {},
   "outputs": [],
   "source": [
    "df_market_value_train['resid_ar5_i1_ma2']=result_ar5_i1_ma2.resid"
   ]
  },
  {
   "cell_type": "code",
   "execution_count": 22,
   "id": "f7231458-fedc-4713-831e-f75655c3bb14",
   "metadata": {},
   "outputs": [
    {
     "data": {
      "text/plain": [
       "(-91.93165382744634,\n",
       " 0.0,\n",
       " 0,\n",
       " 5020,\n",
       " {'1%': -3.431653316130827,\n",
       "  '5%': -2.8621159253018247,\n",
       "  '10%': -2.5670765656497516},\n",
       " 54847.90210608275)"
      ]
     },
     "execution_count": 22,
     "metadata": {},
     "output_type": "execute_result"
    }
   ],
   "source": [
    "adfuller(df_market_value_train['resid_ar5_i1_ma2'])"
   ]
  },
  {
   "cell_type": "code",
   "execution_count": 23,
   "id": "326ad916-2950-4976-bc21-e7c938dbdd9e",
   "metadata": {},
   "outputs": [
    {
     "data": {
      "image/png": "[encoded data removed]",
      "text/plain": [
       "<Figure size 432x288 with 1 Axes>"
      ]
     },
     "metadata": {},
     "output_type": "display_data"
    }
   ],
   "source": [
    "plt.rc('figure',figsize=(6,4))\n",
    "df_market_value_train.resid_ar5_i1_ma2.plot()\n",
    "plt.title('residual plot obtained from best arima model ARIMA(5,1,2)',size=13)\n",
    "plt.ylim((-500,500))\n",
    "plt.show()"
   ]
  },
  {
   "cell_type": "code",
   "execution_count": 24,
   "id": "8a12edb7-5146-47ab-89dd-3724a5c129d6",
   "metadata": {},
   "outputs": [
    {
     "data": {
      "image/png": "[encoded data removed]",
      "text/plain": [
       "<Figure size 1008x288 with 1 Axes>"
      ]
     },
     "metadata": {},
     "output_type": "display_data"
    }
   ],
   "source": [
    "plt.rc('figure',figsize=(14,4))\n",
    "sgt.plot_pacf(df_market_value_train['resid_ar5_i1_ma2'],zero=False,lags=40,method='ols',alpha=0.05)\n",
    "plt.title('PACF of residual obtained from ARIMA(5,1,2)')\n",
    "plt.ylim((-0.1,0.1))\n",
    "plt.show()"
   ]
  },
  {
   "cell_type": "code",
   "execution_count": 25,
   "id": "d9f881ce-16d4-4788-94d9-05f2c40247d5",
   "metadata": {},
   "outputs": [
    {
     "data": {
      "image/png": "[encoded data removed]",
      "text/plain": [
       "<Figure size 1008x288 with 1 Axes>"
      ]
     },
     "metadata": {},
     "output_type": "display_data"
    }
   ],
   "source": [
    "plt.rc('figure',figsize=(14,4))\n",
    "sgt.plot_acf(df_market_value_train['resid_ar5_i1_ma2'],zero=False,lags=40,alpha=0.05)\n",
    "plt.title('ACF of residual obtained from ARIMA(1,1,1)')\n",
    "plt.ylim((-0.1,0.1))\n",
    "plt.show()"
   ]
  },
  {
   "cell_type": "code",
   "execution_count": 26,
   "id": "d57770f3-26b4-4a6a-8dba-1c2c3c4018a7",
   "metadata": {},
   "outputs": [
    {
     "data": {
      "text/plain": [
       "(1.3507267269634617, 76.38862703671055)"
      ]
     },
     "execution_count": 26,
     "metadata": {},
     "output_type": "execute_result"
    }
   ],
   "source": [
    "mean,std=df_market_value_train.resid_ar5_i1_ma2.mean(),df_market_value_train.resid_ar5_i1_ma2.std()\n",
    "mean,std"
   ]
  },
  {
   "cell_type": "code",
   "execution_count": 27,
   "id": "98aa02a2-8bba-4072-9f58-a64b9d5a4361",
   "metadata": {},
   "outputs": [
    {
     "data": {
      "text/plain": [
       "(-225.35069879467113, 228.0521522485972)"
      ]
     },
     "execution_count": 27,
     "metadata": {},
     "output_type": "execute_result"
    }
   ],
   "source": [
    "ci=norm.interval(alpha=0.997,loc=mean,scale=std)\n",
    "ci"
   ]
  },
  {
   "cell_type": "markdown",
   "id": "2f1c242a-c1fe-4646-ba4b-bd2cfac2c1fd",
   "metadata": {},
   "source": [
    "#### ***Observation And conlusion***\n",
    "- Since in term of log likelihood, AIC Value and LLR test we conclude that model ARIMA(5,1,2) has peformed well.\n",
    "- by analyzing the residual obtained from selected model it is clear that the residuals are white noice cause. it has passed adfuller test of stationarity. and pacf and acf plot says that residual has no significant correlation with residuals at previous lags. So distribution of residual must be resembles with normal distribution.\n",
    "- by observing mean, std and approximate distribution of the residual we can says that 99.7 percent of time model will make error between (-225.35 , 228.08).\n",
    "- So the investor should be able to take the risk of this range if they make investment decision by relying on this model, ARIMA(5,1,2)."
   ]
  },
  {
   "cell_type": "markdown",
   "id": "ba8745c7-eb0f-4dda-a156-01f0ae649e6c",
   "metadata": {},
   "source": [
    "## ARIMAX\n",
    "- This is the model which take more than just past values and past residuals into account to predict future value accurately.\n",
    "- That extra feature is called Exogenous variable. the exogenous variable can be anything  for example.\n",
    "  - a time measurement.\n",
    "  - other index price,\n",
    "  - categorical variable.\n",
    "  - boolean variable.\n",
    "  - combination of several different variable.\n",
    "- Is denoted by beta*X: where Beta= coefficient based on model selected and data. and X is the exogenous variable that can affect prices.\n",
    "- Lets take an example where we will try to predict future value of ftse market index by taking price of S&P as exogenous variable."
   ]
  },
  {
   "cell_type": "code",
   "execution_count": 28,
   "id": "bae63d13-f450-4906-abf7-2ed79ec77fa2",
   "metadata": {},
   "outputs": [
    {
     "name": "stdout",
     "output_type": "stream",
     "text": [
      "                               SARIMAX Results                                \n",
      "==============================================================================\n",
      "Dep. Variable:           market_value   No. Observations:                 5021\n",
      "Model:                 ARIMA(1, 1, 1)   Log Likelihood              -26701.787\n",
      "Date:                Sat, 26 Oct 2024   AIC                          53411.574\n",
      "Time:                        18:15:39   BIC                          53437.659\n",
      "Sample:                    01-07-1994   HQIC                         53420.715\n",
      "                         - 04-05-2013                                         \n",
      "Covariance Type:                  opg                                         \n",
      "==============================================================================\n",
      "                 coef    std err          z      P>|z|      [0.025      0.975]\n",
      "------------------------------------------------------------------------------\n",
      "spx            2.6867      0.035     76.009      0.000       2.617       2.756\n",
      "ar.L1          0.2504      0.029      8.569      0.000       0.193       0.308\n",
      "ma.L1         -0.5409      0.025    -21.515      0.000      -0.590      -0.492\n",
      "sigma2      2441.1824     27.490     88.802      0.000    2387.303    2495.062\n",
      "===================================================================================\n",
      "Ljung-Box (L1) (Q):                   0.23   Jarque-Bera (JB):              4352.32\n",
      "Prob(Q):                              0.63   Prob(JB):                         0.00\n",
      "Heteroskedasticity (H):               1.26   Skew:                            -0.56\n",
      "Prob(H) (two-sided):                  0.00   Kurtosis:                         7.42\n",
      "===================================================================================\n",
      "\n",
      "Warnings:\n",
      "[1] Covariance matrix calculated using the outer product of gradients (complex-step).\n"
     ]
    }
   ],
   "source": [
    "model_ar1_i1_ma1_Xspx=ARIMA(df_market_value_train['market_value'],freq='B',order=(1,1,1),exog=df_index.iloc[0:df_market_value_train.shape[0],0])\n",
    "result_ar1_i1_ma1_Xspx=model_ar1_i1_ma1_Xspx.fit()\n",
    "print(result_ar1_i1_ma1_Xspx.summary())"
   ]
  },
  {
   "cell_type": "code",
   "execution_count": 29,
   "id": "8b972031-31a3-45bf-878f-88f275c054a7",
   "metadata": {},
   "outputs": [
    {
     "name": "stdout",
     "output_type": "stream",
     "text": [
      "ModelName: ARIMAX(1,1,1)  \tLL: -26701.78702864993  \t AIC: 53411.57405729986\n",
      "ModelName: ARIMA(1,1,1)  \tLL: -27604.051173549968  \t AIC: 55214.102347099935\n",
      "ModelName: ARIMA(5,1,2)  \tLL: -27585.507119672067  \t AIC: 55187.014239344135\n"
     ]
    }
   ],
   "source": [
    "print(f'ModelName: ARIMAX(1,1,1)  \\tLL: {result_ar1_i1_ma1_Xspx.llf}  \\t AIC: {result_ar1_i1_ma1_Xspx.aic}')\n",
    "print(f'ModelName: ARIMA(1,1,1)  \\tLL: {result_ar1_i_1_ma1.llf}  \\t AIC: {result_ar1_i_1_ma1.aic}')\n",
    "print(f'ModelName: ARIMA(5,1,2)  \\tLL: {result_ar5_i1_ma2.llf}  \\t AIC: {result_ar5_i1_ma2.aic}')\n"
   ]
  },
  {
   "cell_type": "markdown",
   "id": "4bc80075-b60e-430b-9227-41149b40fbc2",
   "metadata": {},
   "source": [
    "### ***Observation***\n",
    "- From above comparion of log likelihood and Aci it is clear that ARIMAX(1,1,1) with exogenous variable S&P data is better performing that normal ARIMA(1,1,1).\n",
    "- This ARIMAX model even performing far better than best model found in the ARIMA() paradigm."
   ]
  },
  {
   "cell_type": "code",
   "execution_count": null,
   "id": "118964ed-37c3-414a-809f-85406304bcb5",
   "metadata": {},
   "outputs": [],
   "source": []
  },
  {
   "cell_type": "code",
   "execution_count": null,
   "id": "f6a9404b-353d-42ba-88c3-16a295c9c78c",
   "metadata": {},
   "outputs": [],
   "source": []
  },
  {
   "cell_type": "code",
   "execution_count": null,
   "id": "cf73b555-f700-44c9-9829-45ed7523f0d8",
   "metadata": {},
   "outputs": [],
   "source": []
  },
  {
   "cell_type": "code",
   "execution_count": null,
   "id": "372cb2f1-b8d3-4c11-93c1-1758b67d327b",
   "metadata": {},
   "outputs": [],
   "source": []
  },
  {
   "cell_type": "code",
   "execution_count": null,
   "id": "31e65003-c6f8-4a5d-8cde-d7a22b0cbb21",
   "metadata": {},
   "outputs": [],
   "source": []
  }
 ],
 "metadata": {
  "kernelspec": {
   "display_name": "DataScienceEnv",
   "language": "python",
   "name": "datascienceenv"
  },
  "language_info": {
   "codemirror_mode": {
    "name": "ipython",
    "version": 3
   },
   "file_extension": ".py",
   "mimetype": "text/x-python",
   "name": "python",
   "nbconvert_exporter": "python",
   "pygments_lexer": "ipython3",
   "version": "3.8.19"
  },
  "widgets": {
   "application/vnd.jupyter.widget-state+json": {
    "state": {},
    "version_major": 2,
    "version_minor": 0
   }
  }
 },
 "nbformat": 4,
 "nbformat_minor": 5
}
