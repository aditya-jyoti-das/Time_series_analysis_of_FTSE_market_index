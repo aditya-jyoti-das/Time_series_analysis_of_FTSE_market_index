{
 "cells": [
  {
   "cell_type": "code",
   "execution_count": 96,
   "id": "80788993-0f3b-4693-b22e-74e12eb8e651",
   "metadata": {},
   "outputs": [],
   "source": [
    "import pandas as pd\n",
    "import numpy as np\n",
    "import matplotlib.pyplot as plt \n",
    "import seaborn as sns\n",
    "import statsmodels\n",
    "import scipy\n",
    "import statsmodels.graphics.tsaplots as sgt\n",
    "from statsmodels.tsa.seasonal import seasonal_decompose\n",
    "from statsmodels.tsa.stattools import adfuller\n",
    "import scipy.stats\n",
    "import pylab\n",
    "import matplotlib as mpl\n",
    "from scipy.stats.distributions import chi2\n",
    "from statsmodels.tsa.arima.model import ARIMA\n",
    "from scipy.stats import norm\n",
    "sns.set()"
   ]
  },
  {
   "cell_type": "markdown",
   "id": "d91be714-3829-43b0-b886-b17b1b7925a0",
   "metadata": {},
   "source": [
    "### ***Preprocessing***"
   ]
  },
  {
   "cell_type": "code",
   "execution_count": 2,
   "id": "50198a7a-3638-45aa-864a-b8c5567693d2",
   "metadata": {},
   "outputs": [
    {
     "data": {
      "text/plain": [
       "(6277, 4)"
      ]
     },
     "execution_count": 2,
     "metadata": {},
     "output_type": "execute_result"
    }
   ],
   "source": [
    "raw_index_data=pd.read_csv('Index2018.csv')  # Index price data Importation in Raw_index_data variable\n",
    "df_index=raw_index_data.copy()  # copy to df_index from Raw_index_data\n",
    "df_index.date=pd.to_datetime(df_index.date,dayfirst=True) # datatype of date column changed to datetime \n",
    "df_index.set_index('date',inplace=True) # set date column as index\n",
    "df_index=df_index.asfreq('b') # setting frequency of data obsevation to business days\n",
    "df_index.shape #shape checking "
   ]
  },
  {
   "cell_type": "code",
   "execution_count": 3,
   "id": "58c549c9-4890-49d4-91c8-6844da7eb77b",
   "metadata": {},
   "outputs": [],
   "source": [
    "df_index.spx.fillna(method='ffill',inplace=True) # front filling of missing values of spx columns\n",
    "df_index.ftse.fillna(method='bfill',inplace=True) # backfilling of missing values of ftse columns\n",
    "df_index.dax.fillna(df_index.dax.mean(),inplace=True) # mean value assigned to each missing values of dax columns \n",
    "df_index.nikkei.fillna(df_index.nikkei.median(),inplace=True) # median value assigned to each missing value of nikkei"
   ]
  },
  {
   "cell_type": "code",
   "execution_count": 4,
   "id": "83bfacd0-bfcd-4cc5-87ee-8aa56962a0c6",
   "metadata": {},
   "outputs": [
    {
     "name": "stderr",
     "output_type": "stream",
     "text": [
      "C:\\Users\\adadi\\anaconda3\\envs\\DataScienceEnv\\lib\\site-packages\\pandas\\core\\frame.py:5039: SettingWithCopyWarning: \n",
      "A value is trying to be set on a copy of a slice from a DataFrame\n",
      "\n",
      "See the caveats in the documentation: https://pandas.pydata.org/pandas-docs/stable/user_guide/indexing.html#returning-a-view-versus-a-copy\n",
      "  return super().rename(\n"
     ]
    }
   ],
   "source": [
    "df_market_value=df_index[['ftse']] # Selecting FTSE index for further processing\n",
    "df_market_value.rename(columns={'ftse':'market_value'},inplace=True) # renaming ftse to market value\n",
    "traininglen=int(len(df_market_value)*0.8) # Train and test split with ratio of 80:20\n",
    "testingLen=len(df_market_value)-traininglen\n",
    "df_market_value_train=df_market_value.iloc[:traininglen,:]\n",
    "df_market_value_test=df_market_value.iloc[traininglen:,:]"
   ]
  },
  {
   "cell_type": "code",
   "execution_count": 5,
   "id": "01c444a5-7f34-483f-a9b3-0bdbc3a64c01",
   "metadata": {},
   "outputs": [
    {
     "name": "stderr",
     "output_type": "stream",
     "text": [
      "C:\\Users\\adadi\\AppData\\Local\\Temp/ipykernel_12344/2511373873.py:4: SettingWithCopyWarning: \n",
      "A value is trying to be set on a copy of a slice from a DataFrame.\n",
      "Try using .loc[row_indexer,col_indexer] = value instead\n",
      "\n",
      "See the caveats in the documentation: https://pandas.pydata.org/pandas-docs/stable/user_guide/indexing.html#returning-a-view-versus-a-copy\n",
      "  df_market_value_train['wn']=wn\n"
     ]
    }
   ],
   "source": [
    "mean=df_market_value_train['market_value'].mean() # calculating mean of ftse market index values from training part of dataset\n",
    "std=df_market_value_train['market_value'].std() # calculating std from same\n",
    "wn=np.random.normal(loc=mean,scale=std,size=len(df_market_value_train)) # creating white noice using np.random.uniform()\n",
    "df_market_value_train['wn']=wn "
   ]
  },
  {
   "cell_type": "code",
   "execution_count": 6,
   "id": "b7ef2f7b-95b8-469e-a071-ec9a8e4dab81",
   "metadata": {},
   "outputs": [],
   "source": [
    "rw=pd.read_csv('RandWalk.csv') # adding new column for random walk in training dataframe  \n",
    "rw.date=pd.to_datetime(rw.date,dayfirst=True)\n",
    "rw.set_index('date',inplace=True)\n",
    "df_market_value_train=pd.merge(left=df_market_value_train,right=rw,left_index=True, right_index=True)\n",
    "df_market_value_train.rename(columns={'price':'rw'},inplace=True) # renaming the randomwalk value column"
   ]
  },
  {
   "cell_type": "code",
   "execution_count": 7,
   "id": "462a7851-6439-4364-b091-bcba5358d417",
   "metadata": {},
   "outputs": [
    {
     "data": {
      "text/html": [
       "<div>\n",
       "<style scoped>\n",
       "    .dataframe tbody tr th:only-of-type {\n",
       "        vertical-align: middle;\n",
       "    }\n",
       "\n",
       "    .dataframe tbody tr th {\n",
       "        vertical-align: top;\n",
       "    }\n",
       "\n",
       "    .dataframe thead th {\n",
       "        text-align: right;\n",
       "    }\n",
       "</style>\n",
       "<table border=\"1\" class=\"dataframe\">\n",
       "  <thead>\n",
       "    <tr style=\"text-align: right;\">\n",
       "      <th></th>\n",
       "      <th>market_value</th>\n",
       "      <th>wn</th>\n",
       "      <th>rw</th>\n",
       "    </tr>\n",
       "    <tr>\n",
       "      <th>date</th>\n",
       "      <th></th>\n",
       "      <th></th>\n",
       "      <th></th>\n",
       "    </tr>\n",
       "  </thead>\n",
       "  <tbody>\n",
       "    <tr>\n",
       "      <th>1994-01-07</th>\n",
       "      <td>3445.98</td>\n",
       "      <td>4681.747790</td>\n",
       "      <td>1122.139662</td>\n",
       "    </tr>\n",
       "    <tr>\n",
       "      <th>1994-01-10</th>\n",
       "      <td>3440.58</td>\n",
       "      <td>4653.269355</td>\n",
       "      <td>1080.347860</td>\n",
       "    </tr>\n",
       "    <tr>\n",
       "      <th>1994-01-11</th>\n",
       "      <td>3413.77</td>\n",
       "      <td>5433.706888</td>\n",
       "      <td>1082.095245</td>\n",
       "    </tr>\n",
       "    <tr>\n",
       "      <th>1994-01-12</th>\n",
       "      <td>3372.02</td>\n",
       "      <td>4927.120792</td>\n",
       "      <td>1083.639265</td>\n",
       "    </tr>\n",
       "    <tr>\n",
       "      <th>1994-01-13</th>\n",
       "      <td>3360.01</td>\n",
       "      <td>4216.958605</td>\n",
       "      <td>1067.146255</td>\n",
       "    </tr>\n",
       "  </tbody>\n",
       "</table>\n",
       "</div>"
      ],
      "text/plain": [
       "            market_value           wn           rw\n",
       "date                                              \n",
       "1994-01-07       3445.98  4681.747790  1122.139662\n",
       "1994-01-10       3440.58  4653.269355  1080.347860\n",
       "1994-01-11       3413.77  5433.706888  1082.095245\n",
       "1994-01-12       3372.02  4927.120792  1083.639265\n",
       "1994-01-13       3360.01  4216.958605  1067.146255"
      ]
     },
     "execution_count": 7,
     "metadata": {},
     "output_type": "execute_result"
    }
   ],
   "source": [
    "df_market_value_train.head()"
   ]
  },
  {
   "cell_type": "markdown",
   "id": "86416bcb-2e3b-4db4-ae41-9e8b81baa3ab",
   "metadata": {},
   "source": [
    "### ***Adfuller test on FTSE market values***"
   ]
  },
  {
   "cell_type": "code",
   "execution_count": 8,
   "id": "4238ad38-e774-4ed5-8df2-bbd66505738b",
   "metadata": {},
   "outputs": [
    {
     "data": {
      "text/plain": [
       "(-1.904935638502626,\n",
       " 0.32974280493188823,\n",
       " 6,\n",
       " 5014,\n",
       " {'1%': -3.4316548765428174,\n",
       "  '5%': -2.8621166146845334,\n",
       "  '10%': -2.5670769326348926},\n",
       " 54856.46568853504)"
      ]
     },
     "execution_count": 8,
     "metadata": {},
     "output_type": "execute_result"
    }
   ],
   "source": [
    "adfuller(df_market_value_train.market_value.values)"
   ]
  },
  {
   "cell_type": "markdown",
   "id": "ac1e8116-fecb-458a-85d4-ec82e6e5ade3",
   "metadata": {},
   "source": [
    "### ***Observation***\n",
    "- By observing adfuller test on FTSE values it is clear that FTSE score is not stationary.\n",
    "- Since p value is 32% which greater than threshold value of 1% 5% and 10%.\n",
    "- So we should not rely on AR model Cause AR model good modeling stationary series."
   ]
  },
  {
   "cell_type": "markdown",
   "id": "7a600be3-6987-4c57-8e77-72fb0adf7cdb",
   "metadata": {},
   "source": [
    "### Stratagy to Deal with non stationary Ftse market index values.\n",
    "- Instead of directly using market price values we can use differnece of two consecutive price values. which is called return in finance domain.\n",
    "- this return column will be calculated by following formula.\n",
    "- return = (X(t)-X(t-1)) / X(t-1)"
   ]
  },
  {
   "cell_type": "code",
   "execution_count": 14,
   "id": "5e1d03c6-0963-492c-aae1-837bf3a43207",
   "metadata": {},
   "outputs": [
    {
     "data": {
      "text/html": [
       "<div>\n",
       "<style scoped>\n",
       "    .dataframe tbody tr th:only-of-type {\n",
       "        vertical-align: middle;\n",
       "    }\n",
       "\n",
       "    .dataframe tbody tr th {\n",
       "        vertical-align: top;\n",
       "    }\n",
       "\n",
       "    .dataframe thead th {\n",
       "        text-align: right;\n",
       "    }\n",
       "</style>\n",
       "<table border=\"1\" class=\"dataframe\">\n",
       "  <thead>\n",
       "    <tr style=\"text-align: right;\">\n",
       "      <th></th>\n",
       "      <th>market_value</th>\n",
       "      <th>wn</th>\n",
       "      <th>rw</th>\n",
       "      <th>return</th>\n",
       "    </tr>\n",
       "    <tr>\n",
       "      <th>date</th>\n",
       "      <th></th>\n",
       "      <th></th>\n",
       "      <th></th>\n",
       "      <th></th>\n",
       "    </tr>\n",
       "  </thead>\n",
       "  <tbody>\n",
       "    <tr>\n",
       "      <th>1994-01-07</th>\n",
       "      <td>3445.98</td>\n",
       "      <td>4681.747790</td>\n",
       "      <td>1122.139662</td>\n",
       "      <td>NaN</td>\n",
       "    </tr>\n",
       "    <tr>\n",
       "      <th>1994-01-10</th>\n",
       "      <td>3440.58</td>\n",
       "      <td>4653.269355</td>\n",
       "      <td>1080.347860</td>\n",
       "      <td>-0.156704</td>\n",
       "    </tr>\n",
       "    <tr>\n",
       "      <th>1994-01-11</th>\n",
       "      <td>3413.77</td>\n",
       "      <td>5433.706888</td>\n",
       "      <td>1082.095245</td>\n",
       "      <td>-0.779229</td>\n",
       "    </tr>\n",
       "    <tr>\n",
       "      <th>1994-01-12</th>\n",
       "      <td>3372.02</td>\n",
       "      <td>4927.120792</td>\n",
       "      <td>1083.639265</td>\n",
       "      <td>-1.222988</td>\n",
       "    </tr>\n",
       "    <tr>\n",
       "      <th>1994-01-13</th>\n",
       "      <td>3360.01</td>\n",
       "      <td>4216.958605</td>\n",
       "      <td>1067.146255</td>\n",
       "      <td>-0.356166</td>\n",
       "    </tr>\n",
       "  </tbody>\n",
       "</table>\n",
       "</div>"
      ],
      "text/plain": [
       "            market_value           wn           rw    return\n",
       "date                                                        \n",
       "1994-01-07       3445.98  4681.747790  1122.139662       NaN\n",
       "1994-01-10       3440.58  4653.269355  1080.347860 -0.156704\n",
       "1994-01-11       3413.77  5433.706888  1082.095245 -0.779229\n",
       "1994-01-12       3372.02  4927.120792  1083.639265 -1.222988\n",
       "1994-01-13       3360.01  4216.958605  1067.146255 -0.356166"
      ]
     },
     "execution_count": 14,
     "metadata": {},
     "output_type": "execute_result"
    }
   ],
   "source": [
    "df_market_value_train['return']=df_market_value_train['market_value'].pct_change(periods=1).mul(100)\n",
    "df_market_value_train.head()"
   ]
  },
  {
   "cell_type": "markdown",
   "id": "b515af1e-148d-4e07-a9f4-1d4b76a212bd",
   "metadata": {},
   "source": [
    "#### ***Stationarity Check***"
   ]
  },
  {
   "cell_type": "code",
   "execution_count": 19,
   "id": "5ec51332-285d-4266-92ec-6a16c956f378",
   "metadata": {},
   "outputs": [
    {
     "data": {
      "text/plain": [
       "(-12.786930957227383,\n",
       " 7.213255047800936e-24,\n",
       " 32,\n",
       " 4987,\n",
       " {'1%': -3.431661944885779,\n",
       "  '5%': -2.8621197374408225,\n",
       "  '10%': -2.5670785949998973},\n",
       " 15700.846444346233)"
      ]
     },
     "execution_count": 19,
     "metadata": {},
     "output_type": "execute_result"
    }
   ],
   "source": [
    "df_market_value_train=df_market_value_train[1:]\n",
    "adfuller(df_market_value_train['return'])"
   ]
  },
  {
   "cell_type": "markdown",
   "id": "9dc69041-391a-44b1-a71e-7fb7e91e7d09",
   "metadata": {},
   "source": [
    "### ***Observation***\n",
    "- By observing p value of the adfuller test of return columns, it is clear that return column is stationary series.\n",
    "- So we can use AR model on Return column to predict the future return."
   ]
  },
  {
   "cell_type": "markdown",
   "id": "53f6d5f0-0325-4e54-94aa-9e4f781cc76c",
   "metadata": {},
   "source": [
    "### ***lIne plot***"
   ]
  },
  {
   "cell_type": "code",
   "execution_count": 56,
   "id": "04ec0815-4e69-4d6a-953e-8150015823eb",
   "metadata": {},
   "outputs": [
    {
     "data": {
      "image/png": "[encoded data removed]",
      "text/plain": [
       "<Figure size 1008x360 with 1 Axes>"
      ]
     },
     "metadata": {},
     "output_type": "display_data"
    }
   ],
   "source": [
    "plt.rc('figure',figsize=(14,5))\n",
    "df_market_value_train['return'].plot()\n",
    "plt.title(\"return On FTSE market index\",size=14)\n",
    "plt.show()"
   ]
  },
  {
   "cell_type": "markdown",
   "id": "d4b4ca06-0334-4cdb-a197-b0fd10af6bf2",
   "metadata": {},
   "source": [
    "### ***ACF and PACF Plot on Return***"
   ]
  },
  {
   "cell_type": "code",
   "execution_count": 45,
   "id": "6ef73867-8635-4f75-b5ea-b6d930c80d89",
   "metadata": {},
   "outputs": [
    {
     "data": {
      "image/png": "[encoded data removed]",
      "text/plain": [
       "<Figure size 1080x288 with 1 Axes>"
      ]
     },
     "metadata": {},
     "output_type": "display_data"
    }
   ],
   "source": [
    "mpl.rc(\"figure\", figsize=(15,4))\n",
    "sgt.plot_acf(df_market_value_train['return'],lags=40,zero=False)\n",
    "plt.title('ACF Plot on return on FTSE market price',size=14)\n",
    "plt.ylim((-0.1, 0.1))\n",
    "plt.show()"
   ]
  },
  {
   "cell_type": "markdown",
   "id": "14dbbff5-1ef9-4f9f-9a50-eb493b1dbb4e",
   "metadata": {},
   "source": [
    "#### ***Observation***\n",
    "- By observing ACF plot it is clear that upto lags 8 current return have significant correlation.\n",
    "- Then from 9th lag to 17teen lag current return does not have significant correlation. Usually current return does not get affected by return gotten long before.\n",
    "- It only slightly depend upon past certain period.\n",
    "- But one thing also need to notice here that these correlation value has cyclic change with lag. it has negative correlation for first 3 lag then positive for 4th lag then again negative lag for 5th and 6th, then again positive. So this is what expected naturally cause price are driven by people buying and selling behaviour. And if price is high people sell to make profit which will lead decrease in price value and if price is low people buy stocks which eventually lead to increase in index price. it can be considered as natural adjustment. Same can be observed in the Pacf plot as well.\n",
    "- Pacf plot also show same cyclic adjustment behaviour.\n",
    "- But this pacf plot show direct correlation between current return and past return values.\n",
    "- So for AR model development we will use significant lag obseved in Pacf plot."
   ]
  },
  {
   "cell_type": "code",
   "execution_count": 44,
   "id": "3b9d271c-6ca1-46ef-8536-101b5d888982",
   "metadata": {},
   "outputs": [
    {
     "data": {
      "image/png": "[encoded data removed]",
      "text/plain": [
       "<Figure size 1008x288 with 1 Axes>"
      ]
     },
     "metadata": {},
     "output_type": "display_data"
    }
   ],
   "source": [
    "plt.rc('figure',figsize=(14,4))\n",
    "sgt.plot_pacf(df_market_value_train['return'],lags=40,zero=False,alpha=0.05,method='ols')\n",
    "plt.title('PACF plot on return of FTSE market Price',size=14)\n",
    "plt.ylim((-0.1,0.1))\n",
    "plt.show()"
   ]
  },
  {
   "cell_type": "markdown",
   "id": "703f3da0-824a-469a-a97c-d159fa818081",
   "metadata": {},
   "source": [
    "### ***AutoRegression Modeling on Return Values***"
   ]
  },
  {
   "cell_type": "markdown",
   "id": "0cfd40bb-e7cc-4b37-9da1-dee1e09036c8",
   "metadata": {},
   "source": [
    "#### AR1 model on return FTSE"
   ]
  },
  {
   "cell_type": "code",
   "execution_count": 55,
   "id": "aa64a78e-62db-4cf3-9f57-a6f47bcd94d7",
   "metadata": {},
   "outputs": [
    {
     "name": "stderr",
     "output_type": "stream",
     "text": [
      "C:\\Users\\adadi\\anaconda3\\envs\\DataScienceEnv\\lib\\site-packages\\statsmodels\\tsa\\base\\tsa_model.py:473: ValueWarning: No frequency information was provided, so inferred frequency B will be used.\n",
      "  self._init_dates(dates, freq)\n"
     ]
    },
    {
     "name": "stdout",
     "output_type": "stream",
     "text": [
      "                               SARIMAX Results                                \n",
      "==============================================================================\n",
      "Dep. Variable:                 return   No. Observations:                 5020\n",
      "Model:                 ARIMA(1, 0, 0)   Log Likelihood               -7929.756\n",
      "Date:                Wed, 23 Oct 2024   AIC                          15865.512\n",
      "Time:                        12:19:42   BIC                          15885.076\n",
      "Sample:                    01-10-1994   HQIC                         15872.368\n",
      "                         - 04-05-2013                                         \n",
      "Covariance Type:                  opg                                         \n",
      "==============================================================================\n",
      "                 coef    std err          z      P>|z|      [0.025      0.975]\n",
      "------------------------------------------------------------------------------\n",
      "const          0.0188      0.016      1.143      0.253      -0.013       0.051\n",
      "ar.L1         -0.0230      0.009     -2.690      0.007      -0.040      -0.006\n",
      "sigma2         1.3790      0.014    100.098      0.000       1.352       1.406\n",
      "===================================================================================\n",
      "Ljung-Box (L1) (Q):                   0.01   Jarque-Bera (JB):              7873.47\n",
      "Prob(Q):                              0.93   Prob(JB):                         0.00\n",
      "Heteroskedasticity (H):               2.04   Skew:                            -0.03\n",
      "Prob(H) (two-sided):                  0.00   Kurtosis:                         9.14\n",
      "===================================================================================\n",
      "\n",
      "Warnings:\n",
      "[1] Covariance matrix calculated using the outer product of gradients (complex-step).\n"
     ]
    }
   ],
   "source": [
    "model_ar1=ARIMA(df_market_value_train['return'],order=(1,0,0),freq='B')\n",
    "result_ar1=model_ar1.fit()\n",
    "print(result_ar1.summary())"
   ]
  },
  {
   "cell_type": "markdown",
   "id": "8872e8e0-b793-4543-8ae6-442ac5e2d13e",
   "metadata": {},
   "source": [
    "#### ***Observation***\n",
    "- The coefficient-1 of AR1 model on FTSE Return is found out to be significant.\n",
    "- But constant vaule is not significant form zero since p value greater than 0.05.\n",
    "- but constant value supposed to be around zero becuase of natural adjustment that happened by people randomly."
   ]
  },
  {
   "cell_type": "code",
   "execution_count": 46,
   "id": "f2abeabd-35aa-48ba-b3bb-097743421636",
   "metadata": {},
   "outputs": [],
   "source": [
    "def LLR_test(Model_a_res,Model_b_res,df=1):\n",
    "    La=Model_a_res.llf\n",
    "    Lb=Model_b_res.llf\n",
    "    Q=2*(Lb-La)\n",
    "    P=chi2.sf(Q,df)\n",
    "    return P"
   ]
  },
  {
   "cell_type": "markdown",
   "id": "c2f06481-5e17-4309-bf8d-5ebb0107d586",
   "metadata": {},
   "source": [
    "#### ***AR2 Model on Ftse market index***"
   ]
  },
  {
   "cell_type": "code",
   "execution_count": 57,
   "id": "bd6a403c-efeb-439f-88a0-59962abe809e",
   "metadata": {},
   "outputs": [
    {
     "name": "stderr",
     "output_type": "stream",
     "text": [
      "C:\\Users\\adadi\\anaconda3\\envs\\DataScienceEnv\\lib\\site-packages\\statsmodels\\tsa\\base\\tsa_model.py:473: ValueWarning: No frequency information was provided, so inferred frequency B will be used.\n",
      "  self._init_dates(dates, freq)\n"
     ]
    },
    {
     "name": "stdout",
     "output_type": "stream",
     "text": [
      "                               SARIMAX Results                                \n",
      "==============================================================================\n",
      "Dep. Variable:                 return   No. Observations:                 5020\n",
      "Model:                 ARIMA(2, 0, 0)   Log Likelihood               -7923.305\n",
      "Date:                Wed, 23 Oct 2024   AIC                          15854.609\n",
      "Time:                        12:35:34   BIC                          15880.694\n",
      "Sample:                    01-10-1994   HQIC                         15863.749\n",
      "                         - 04-05-2013                                         \n",
      "Covariance Type:                  opg                                         \n",
      "==============================================================================\n",
      "                 coef    std err          z      P>|z|      [0.025      0.975]\n",
      "------------------------------------------------------------------------------\n",
      "const          0.0188      0.016      1.194      0.232      -0.012       0.050\n",
      "ar.L1         -0.0241      0.009     -2.794      0.005      -0.041      -0.007\n",
      "ar.L2         -0.0507      0.008     -6.451      0.000      -0.066      -0.035\n",
      "sigma2         1.3755      0.014     99.610      0.000       1.348       1.403\n",
      "===================================================================================\n",
      "Ljung-Box (L1) (Q):                   0.08   Jarque-Bera (JB):              7732.48\n",
      "Prob(Q):                              0.78   Prob(JB):                         0.00\n",
      "Heteroskedasticity (H):               2.03   Skew:                            -0.07\n",
      "Prob(H) (two-sided):                  0.00   Kurtosis:                         9.08\n",
      "===================================================================================\n",
      "\n",
      "Warnings:\n",
      "[1] Covariance matrix calculated using the outer product of gradients (complex-step).\n",
      "LLR test of AR1 and AR2 0.0003280209769395447\n"
     ]
    }
   ],
   "source": [
    "model_ar2=ARIMA(df_market_value_train['return'],order=(2,0,0),freq='B')\n",
    "result_ar2=model_ar2.fit()\n",
    "print(result_ar2.summary())\n",
    "print('LLR test of AR1 and AR2',LLR_test(result_ar1,result_ar2))"
   ]
  },
  {
   "cell_type": "markdown",
   "id": "37a8c37f-43a0-4974-b5bd-e619a8131f70",
   "metadata": {},
   "source": [
    "### ***Observation***\n",
    "- AR2 model performed well.\n",
    "- Coefficients-1 and 2 has significant value from zero."
   ]
  },
  {
   "cell_type": "markdown",
   "id": "8e2db1e6-d404-41bb-a891-14ad9b021485",
   "metadata": {},
   "source": [
    "#### ***AR3 model on FTSE return***"
   ]
  },
  {
   "cell_type": "code",
   "execution_count": 58,
   "id": "8d8ffcac-6cd4-4f3d-af96-0f44c15b99e1",
   "metadata": {},
   "outputs": [
    {
     "name": "stderr",
     "output_type": "stream",
     "text": [
      "C:\\Users\\adadi\\anaconda3\\envs\\DataScienceEnv\\lib\\site-packages\\statsmodels\\tsa\\base\\tsa_model.py:473: ValueWarning: No frequency information was provided, so inferred frequency B will be used.\n",
      "  self._init_dates(dates, freq)\n"
     ]
    },
    {
     "name": "stdout",
     "output_type": "stream",
     "text": [
      "                               SARIMAX Results                                \n",
      "==============================================================================\n",
      "Dep. Variable:                 return   No. Observations:                 5020\n",
      "Model:                 ARIMA(3, 0, 0)   Log Likelihood               -7907.795\n",
      "Date:                Wed, 23 Oct 2024   AIC                          15825.590\n",
      "Time:                        12:39:02   BIC                          15858.196\n",
      "Sample:                    01-10-1994   HQIC                         15837.016\n",
      "                         - 04-05-2013                                         \n",
      "Covariance Type:                  opg                                         \n",
      "==============================================================================\n",
      "                 coef    std err          z      P>|z|      [0.025      0.975]\n",
      "------------------------------------------------------------------------------\n",
      "const          0.0189      0.015      1.269      0.205      -0.010       0.048\n",
      "ar.L1         -0.0281      0.009     -3.184      0.001      -0.045      -0.011\n",
      "ar.L2         -0.0526      0.008     -6.751      0.000      -0.068      -0.037\n",
      "ar.L3         -0.0785      0.008     -9.804      0.000      -0.094      -0.063\n",
      "sigma2         1.3670      0.014     94.523      0.000       1.339       1.395\n",
      "===================================================================================\n",
      "Ljung-Box (L1) (Q):                   0.06   Jarque-Bera (JB):              6879.49\n",
      "Prob(Q):                              0.81   Prob(JB):                         0.00\n",
      "Heteroskedasticity (H):               2.02   Skew:                            -0.15\n",
      "Prob(H) (two-sided):                  0.00   Kurtosis:                         8.73\n",
      "===================================================================================\n",
      "\n",
      "Warnings:\n",
      "[1] Covariance matrix calculated using the outer product of gradients (complex-step).\n",
      "LLR test of AR2 and AR3 2.555757700446081e-08\n"
     ]
    }
   ],
   "source": [
    "model_ar3=ARIMA(df_market_value_train['return'],order=(3,0,0),freq='B')\n",
    "result_ar3=model_ar3.fit()\n",
    "print(result_ar3.summary())\n",
    "print('LLR test of AR2 and AR3',LLR_test(result_ar2,result_ar3))"
   ]
  },
  {
   "cell_type": "markdown",
   "id": "0f29827c-7b81-43f3-a85a-f61bc4a4ee1f",
   "metadata": {},
   "source": [
    "#### ***Observation***\n",
    "- AR 3 performed well in comparision to AR2.\n",
    "- all the coefficient are significantly different from zero.\n",
    "- And all the coefficient value are negative it means that if return is more in past period then return will decrease in current period."
   ]
  },
  {
   "cell_type": "markdown",
   "id": "162d0e51-a4ba-40ee-a901-b56e02c8aba6",
   "metadata": {},
   "source": [
    "#### ***AR4 Model on FTSE Return***"
   ]
  },
  {
   "cell_type": "code",
   "execution_count": 59,
   "id": "acfa92d3-0b40-4578-8968-173cb655b2dc",
   "metadata": {},
   "outputs": [
    {
     "name": "stderr",
     "output_type": "stream",
     "text": [
      "C:\\Users\\adadi\\anaconda3\\envs\\DataScienceEnv\\lib\\site-packages\\statsmodels\\tsa\\base\\tsa_model.py:473: ValueWarning: No frequency information was provided, so inferred frequency B will be used.\n",
      "  self._init_dates(dates, freq)\n"
     ]
    },
    {
     "name": "stdout",
     "output_type": "stream",
     "text": [
      "                               SARIMAX Results                                \n",
      "==============================================================================\n",
      "Dep. Variable:                 return   No. Observations:                 5020\n",
      "Model:                 ARIMA(4, 0, 0)   Log Likelihood               -7902.910\n",
      "Date:                Wed, 23 Oct 2024   AIC                          15817.821\n",
      "Time:                        12:43:39   BIC                          15856.948\n",
      "Sample:                    01-10-1994   HQIC                         15831.531\n",
      "                         - 04-05-2013                                         \n",
      "Covariance Type:                  opg                                         \n",
      "==============================================================================\n",
      "                 coef    std err          z      P>|z|      [0.025      0.975]\n",
      "------------------------------------------------------------------------------\n",
      "const          0.0188      0.016      1.208      0.227      -0.012       0.049\n",
      "ar.L1         -0.0247      0.009     -2.790      0.005      -0.042      -0.007\n",
      "ar.L2         -0.0503      0.008     -6.408      0.000      -0.066      -0.035\n",
      "ar.L3         -0.0772      0.008     -9.618      0.000      -0.093      -0.062\n",
      "ar.L4          0.0441      0.008      5.373      0.000       0.028       0.060\n",
      "sigma2         1.3643      0.015     92.804      0.000       1.336       1.393\n",
      "===================================================================================\n",
      "Ljung-Box (L1) (Q):                   0.03   Jarque-Bera (JB):              6611.24\n",
      "Prob(Q):                              0.85   Prob(JB):                         0.00\n",
      "Heteroskedasticity (H):               2.01   Skew:                            -0.12\n",
      "Prob(H) (two-sided):                  0.00   Kurtosis:                         8.62\n",
      "===================================================================================\n",
      "\n",
      "Warnings:\n",
      "[1] Covariance matrix calculated using the outer product of gradients (complex-step).\n",
      "LLR test of AR3 and AR4 0.0017738708046899138\n"
     ]
    }
   ],
   "source": [
    "model_ar4=ARIMA(df_market_value_train['return'],order=(4,0,0),freq='B')\n",
    "result_ar4=model_ar4.fit()\n",
    "print(result_ar4.summary())\n",
    "print('LLR test of AR3 and AR4',LLR_test(result_ar3,result_ar4))"
   ]
  },
  {
   "cell_type": "markdown",
   "id": "c0c2eb6b-303b-4eaf-8067-ad2745b264f5",
   "metadata": {},
   "source": [
    "#### ***Observation***\n",
    "- AR4 has performed significantly better in terms of log likelihood test.\n",
    "- All cofficients are significant from zero and has negative values but 4th cofficients has positive values."
   ]
  },
  {
   "cell_type": "markdown",
   "id": "e9a6e23c-29fb-4e58-ac74-0e99dc968068",
   "metadata": {},
   "source": [
    "#### ***AR5 modeling on FTSE return***"
   ]
  },
  {
   "cell_type": "code",
   "execution_count": 60,
   "id": "8f1020c1-5781-46c7-937f-5106cf9ad35b",
   "metadata": {},
   "outputs": [
    {
     "name": "stderr",
     "output_type": "stream",
     "text": [
      "C:\\Users\\adadi\\anaconda3\\envs\\DataScienceEnv\\lib\\site-packages\\statsmodels\\tsa\\base\\tsa_model.py:473: ValueWarning: No frequency information was provided, so inferred frequency B will be used.\n",
      "  self._init_dates(dates, freq)\n"
     ]
    },
    {
     "name": "stdout",
     "output_type": "stream",
     "text": [
      "                               SARIMAX Results                                \n",
      "==============================================================================\n",
      "Dep. Variable:                 return   No. Observations:                 5020\n",
      "Model:                 ARIMA(5, 0, 0)   Log Likelihood               -7894.032\n",
      "Date:                Wed, 23 Oct 2024   AIC                          15802.064\n",
      "Time:                        12:50:26   BIC                          15847.712\n",
      "Sample:                    01-10-1994   HQIC                         15818.060\n",
      "                         - 04-05-2013                                         \n",
      "Covariance Type:                  opg                                         \n",
      "==============================================================================\n",
      "                 coef    std err          z      P>|z|      [0.025      0.975]\n",
      "------------------------------------------------------------------------------\n",
      "const          0.0189      0.015      1.273      0.203      -0.010       0.048\n",
      "ar.L1         -0.0221      0.009     -2.431      0.015      -0.040      -0.004\n",
      "ar.L2         -0.0549      0.008     -6.882      0.000      -0.070      -0.039\n",
      "ar.L3         -0.0802      0.008    -10.032      0.000      -0.096      -0.065\n",
      "ar.L4          0.0426      0.008      5.156      0.000       0.026       0.059\n",
      "ar.L5         -0.0594      0.008     -7.439      0.000      -0.075      -0.044\n",
      "sigma2         1.3595      0.015     92.550      0.000       1.331       1.388\n",
      "===================================================================================\n",
      "Ljung-Box (L1) (Q):                   0.04   Jarque-Bera (JB):              6425.38\n",
      "Prob(Q):                              0.84   Prob(JB):                         0.00\n",
      "Heteroskedasticity (H):               2.00   Skew:                            -0.17\n",
      "Prob(H) (two-sided):                  0.00   Kurtosis:                         8.53\n",
      "===================================================================================\n",
      "\n",
      "Warnings:\n",
      "[1] Covariance matrix calculated using the outer product of gradients (complex-step).\n",
      "LLR test of AR4 and AR5 2.5105901414647675e-05\n"
     ]
    }
   ],
   "source": [
    "model_ar5=ARIMA(df_market_value_train['return'],order=(5,0,0),freq='B')\n",
    "result_ar5=model_ar5.fit()\n",
    "print(result_ar5.summary())\n",
    "print('LLR test of AR4 and AR5',LLR_test(result_ar4,result_ar5))"
   ]
  },
  {
   "cell_type": "markdown",
   "id": "b42c54a0-39b8-4725-8141-26caba536f37",
   "metadata": {},
   "source": [
    "#### ***Observation***\n",
    "- AR5 has performed well in the LLR test.\n",
    "- In this model also all coefficient are significantly different from zero and negative except 4th lag."
   ]
  },
  {
   "cell_type": "markdown",
   "id": "ffd5f46a-1b37-49e1-889b-65928cfa3f90",
   "metadata": {},
   "source": [
    "#### ***Modeling AR6*** "
   ]
  },
  {
   "cell_type": "code",
   "execution_count": 61,
   "id": "b0928d13-ec34-444b-babc-ce57fff251b8",
   "metadata": {},
   "outputs": [
    {
     "name": "stderr",
     "output_type": "stream",
     "text": [
      "C:\\Users\\adadi\\anaconda3\\envs\\DataScienceEnv\\lib\\site-packages\\statsmodels\\tsa\\base\\tsa_model.py:473: ValueWarning: No frequency information was provided, so inferred frequency B will be used.\n",
      "  self._init_dates(dates, freq)\n"
     ]
    },
    {
     "name": "stdout",
     "output_type": "stream",
     "text": [
      "                               SARIMAX Results                                \n",
      "==============================================================================\n",
      "Dep. Variable:                 return   No. Observations:                 5020\n",
      "Model:                 ARIMA(6, 0, 0)   Log Likelihood               -7888.633\n",
      "Date:                Wed, 23 Oct 2024   AIC                          15793.265\n",
      "Time:                        12:56:40   BIC                          15845.435\n",
      "Sample:                    01-10-1994   HQIC                         15811.546\n",
      "                         - 04-05-2013                                         \n",
      "Covariance Type:                  opg                                         \n",
      "==============================================================================\n",
      "                 coef    std err          z      P>|z|      [0.025      0.975]\n",
      "------------------------------------------------------------------------------\n",
      "const          0.0189      0.014      1.323      0.186      -0.009       0.047\n",
      "ar.L1         -0.0248      0.009     -2.672      0.008      -0.043      -0.007\n",
      "ar.L2         -0.0529      0.008     -6.575      0.000      -0.069      -0.037\n",
      "ar.L3         -0.0839      0.008    -10.462      0.000      -0.100      -0.068\n",
      "ar.L4          0.0401      0.008      4.856      0.000       0.024       0.056\n",
      "ar.L5         -0.0605      0.008     -7.539      0.000      -0.076      -0.045\n",
      "ar.L6         -0.0464      0.009     -5.198      0.000      -0.064      -0.029\n",
      "sigma2         1.3566      0.015     92.531      0.000       1.328       1.385\n",
      "===================================================================================\n",
      "Ljung-Box (L1) (Q):                   0.00   Jarque-Bera (JB):              6512.03\n",
      "Prob(Q):                              0.97   Prob(JB):                         0.00\n",
      "Heteroskedasticity (H):               2.00   Skew:                            -0.20\n",
      "Prob(H) (two-sided):                  0.00   Kurtosis:                         8.57\n",
      "===================================================================================\n",
      "\n",
      "Warnings:\n",
      "[1] Covariance matrix calculated using the outer product of gradients (complex-step).\n",
      "LLR test of AR5 and AR6 0.0010155912004540344\n"
     ]
    }
   ],
   "source": [
    "model_ar6=ARIMA(df_market_value_train['return'],order=(6,0,0),freq='B')\n",
    "result_ar6=model_ar6.fit()\n",
    "print(result_ar6.summary())\n",
    "print('LLR test of AR5 and AR6',LLR_test(result_ar5,result_ar6))"
   ]
  },
  {
   "cell_type": "markdown",
   "id": "446069f8-dca3-4484-a473-0426e6690924",
   "metadata": {},
   "source": [
    "#### ***Observation***\n",
    "- model AR6 has performed well llr test.\n",
    "- all coefficient are significant. and negative except 4th "
   ]
  },
  {
   "cell_type": "markdown",
   "id": "17781410-abff-436c-957b-0934c63070e8",
   "metadata": {},
   "source": [
    "#### ***AR7 Modeling on FTSE***"
   ]
  },
  {
   "cell_type": "code",
   "execution_count": 63,
   "id": "e39da638-83dc-4371-99c8-701c61287610",
   "metadata": {},
   "outputs": [
    {
     "name": "stderr",
     "output_type": "stream",
     "text": [
      "C:\\Users\\adadi\\anaconda3\\envs\\DataScienceEnv\\lib\\site-packages\\statsmodels\\tsa\\base\\tsa_model.py:473: ValueWarning: No frequency information was provided, so inferred frequency B will be used.\n",
      "  self._init_dates(dates, freq)\n"
     ]
    },
    {
     "name": "stdout",
     "output_type": "stream",
     "text": [
      "                               SARIMAX Results                                \n",
      "==============================================================================\n",
      "Dep. Variable:                 return   No. Observations:                 5020\n",
      "Model:                 ARIMA(7, 0, 0)   Log Likelihood               -7888.363\n",
      "Date:                Wed, 23 Oct 2024   AIC                          15794.726\n",
      "Time:                        13:03:49   BIC                          15853.416\n",
      "Sample:                    01-10-1994   HQIC                         15815.292\n",
      "                         - 04-05-2013                                         \n",
      "Covariance Type:                  opg                                         \n",
      "==============================================================================\n",
      "                 coef    std err          z      P>|z|      [0.025      0.975]\n",
      "------------------------------------------------------------------------------\n",
      "const          0.0189      0.014      1.304      0.192      -0.010       0.047\n",
      "ar.L1         -0.0243      0.009     -2.613      0.009      -0.043      -0.006\n",
      "ar.L2         -0.0523      0.008     -6.449      0.000      -0.068      -0.036\n",
      "ar.L3         -0.0843      0.008    -10.338      0.000      -0.100      -0.068\n",
      "ar.L4          0.0409      0.008      4.902      0.000       0.025       0.057\n",
      "ar.L5         -0.0599      0.008     -7.437      0.000      -0.076      -0.044\n",
      "ar.L6         -0.0461      0.009     -5.156      0.000      -0.064      -0.029\n",
      "ar.L7          0.0104      0.009      1.148      0.251      -0.007       0.028\n",
      "sigma2         1.3565      0.015     91.804      0.000       1.327       1.385\n",
      "===================================================================================\n",
      "Ljung-Box (L1) (Q):                   0.00   Jarque-Bera (JB):              6475.29\n",
      "Prob(Q):                              0.99   Prob(JB):                         0.00\n",
      "Heteroskedasticity (H):               2.00   Skew:                            -0.19\n",
      "Prob(H) (two-sided):                  0.00   Kurtosis:                         8.55\n",
      "===================================================================================\n",
      "\n",
      "Warnings:\n",
      "[1] Covariance matrix calculated using the outer product of gradients (complex-step).\n",
      "LLR test of AR6 and AR7 0.46262119469495133\n"
     ]
    }
   ],
   "source": [
    "model_ar7=ARIMA(df_market_value_train['return'],order=(7,0,0),freq='B')\n",
    "result_ar7=model_ar7.fit()\n",
    "print(result_ar7.summary())\n",
    "print('LLR test of AR6 and AR7',LLR_test(result_ar6,result_ar7))"
   ]
  },
  {
   "cell_type": "markdown",
   "id": "9bbdf83a-0ffe-419b-ab15-7c7079686faa",
   "metadata": {},
   "source": [
    "#### ***Observation***\n",
    "- AR6 has performed well in comparison to AR7\n",
    "- all cofficient are significant from zero.\n",
    "- all coefficient are negative except 4th and 7th."
   ]
  },
  {
   "cell_type": "markdown",
   "id": "a06a822a-f369-4e1d-be9a-b732363fe5f5",
   "metadata": {},
   "source": [
    "#### ***AR8 Modeling on FTSE return***"
   ]
  },
  {
   "cell_type": "code",
   "execution_count": 64,
   "id": "e0326a4c-e5d6-4ca8-af79-92fd5e55f9bc",
   "metadata": {},
   "outputs": [
    {
     "name": "stderr",
     "output_type": "stream",
     "text": [
      "C:\\Users\\adadi\\anaconda3\\envs\\DataScienceEnv\\lib\\site-packages\\statsmodels\\tsa\\base\\tsa_model.py:473: ValueWarning: No frequency information was provided, so inferred frequency B will be used.\n",
      "  self._init_dates(dates, freq)\n"
     ]
    },
    {
     "name": "stdout",
     "output_type": "stream",
     "text": [
      "                               SARIMAX Results                                \n",
      "==============================================================================\n",
      "Dep. Variable:                 return   No. Observations:                 5020\n",
      "Model:                 ARIMA(8, 0, 0)   Log Likelihood               -7887.097\n",
      "Date:                Wed, 23 Oct 2024   AIC                          15794.194\n",
      "Time:                        13:04:58   BIC                          15859.406\n",
      "Sample:                    01-10-1994   HQIC                         15817.045\n",
      "                         - 04-05-2013                                         \n",
      "Covariance Type:                  opg                                         \n",
      "==============================================================================\n",
      "                 coef    std err          z      P>|z|      [0.025      0.975]\n",
      "------------------------------------------------------------------------------\n",
      "const          0.0189      0.015      1.264      0.206      -0.010       0.048\n",
      "ar.L1         -0.0246      0.009     -2.619      0.009      -0.043      -0.006\n",
      "ar.L2         -0.0512      0.008     -6.314      0.000      -0.067      -0.035\n",
      "ar.L3         -0.0830      0.008    -10.067      0.000      -0.099      -0.067\n",
      "ar.L4          0.0400      0.008      4.777      0.000       0.024       0.056\n",
      "ar.L5         -0.0580      0.008     -7.068      0.000      -0.074      -0.042\n",
      "ar.L6         -0.0449      0.009     -5.011      0.000      -0.062      -0.027\n",
      "ar.L7          0.0109      0.009      1.205      0.228      -0.007       0.029\n",
      "ar.L8          0.0225      0.010      2.355      0.019       0.004       0.041\n",
      "sigma2         1.3558      0.015     91.787      0.000       1.327       1.385\n",
      "===================================================================================\n",
      "Ljung-Box (L1) (Q):                   0.00   Jarque-Bera (JB):              6456.01\n",
      "Prob(Q):                              1.00   Prob(JB):                         0.00\n",
      "Heteroskedasticity (H):               2.00   Skew:                            -0.18\n",
      "Prob(H) (two-sided):                  0.00   Kurtosis:                         8.54\n",
      "===================================================================================\n",
      "\n",
      "Warnings:\n",
      "[1] Covariance matrix calculated using the outer product of gradients (complex-step).\n",
      "LLR test of AR6 and AR8 0.2153498066233179\n"
     ]
    }
   ],
   "source": [
    "model_ar8=ARIMA(df_market_value_train['return'],order=(8,0,0),freq='B')\n",
    "result_ar8=model_ar8.fit()\n",
    "print(result_ar8.summary())\n",
    "print('LLR test of AR6 and AR8',LLR_test(result_ar6,result_ar8,2))"
   ]
  },
  {
   "cell_type": "markdown",
   "id": "5f0eff96-dd9c-4c4b-9ba9-e47d50b6ad0d",
   "metadata": {},
   "source": [
    "#### ***Observation***\n",
    "- LLR test of model AR6 and AR8 has shown that model AR6 is still better."
   ]
  },
  {
   "cell_type": "markdown",
   "id": "e11cfd28-8cda-4a4b-8848-2351a42a38f0",
   "metadata": {},
   "source": [
    "#### ***MOdeling AR18 on FTSE return***\n",
    "- Reason i have taken lag value 18 eventhough last well performed model was 6, because after 6th lag to 18th lag all pacf value are very insignigicant.\n",
    "- that is also evident from llr test of model AR7 and AR8 with AR6.\n",
    "- by observing Pacf plot of return we can see that after lag6, lag18 has significant pacf value.\n",
    "- So AR18 is being Model here"
   ]
  },
  {
   "cell_type": "code",
   "execution_count": 65,
   "id": "f7203511-88d5-4663-8725-eef1c8c40614",
   "metadata": {},
   "outputs": [
    {
     "name": "stderr",
     "output_type": "stream",
     "text": [
      "C:\\Users\\adadi\\anaconda3\\envs\\DataScienceEnv\\lib\\site-packages\\statsmodels\\tsa\\base\\tsa_model.py:473: ValueWarning: No frequency information was provided, so inferred frequency B will be used.\n",
      "  self._init_dates(dates, freq)\n"
     ]
    },
    {
     "name": "stdout",
     "output_type": "stream",
     "text": [
      "                               SARIMAX Results                                \n",
      "==============================================================================\n",
      "Dep. Variable:                 return   No. Observations:                 5020\n",
      "Model:                ARIMA(18, 0, 0)   Log Likelihood               -7879.310\n",
      "Date:                Wed, 23 Oct 2024   AIC                          15798.620\n",
      "Time:                        13:10:19   BIC                          15929.043\n",
      "Sample:                    01-10-1994   HQIC                         15844.322\n",
      "                         - 04-05-2013                                         \n",
      "Covariance Type:                  opg                                         \n",
      "==============================================================================\n",
      "                 coef    std err          z      P>|z|      [0.025      0.975]\n",
      "------------------------------------------------------------------------------\n",
      "const          0.0189      0.015      1.281      0.200      -0.010       0.048\n",
      "ar.L1         -0.0239      0.010     -2.434      0.015      -0.043      -0.005\n",
      "ar.L2         -0.0498      0.008     -5.980      0.000      -0.066      -0.033\n",
      "ar.L3         -0.0839      0.009     -9.583      0.000      -0.101      -0.067\n",
      "ar.L4          0.0396      0.009      4.568      0.000       0.023       0.057\n",
      "ar.L5         -0.0581      0.009     -6.646      0.000      -0.075      -0.041\n",
      "ar.L6         -0.0454      0.009     -4.821      0.000      -0.064      -0.027\n",
      "ar.L7          0.0103      0.010      1.082      0.279      -0.008       0.029\n",
      "ar.L8          0.0222      0.010      2.277      0.023       0.003       0.041\n",
      "ar.L9         -0.0062      0.010     -0.648      0.517      -0.025       0.013\n",
      "ar.L10        -0.0081      0.009     -0.904      0.366      -0.026       0.009\n",
      "ar.L11         0.0068      0.010      0.680      0.497      -0.013       0.026\n",
      "ar.L12        -0.0164      0.009     -1.729      0.084      -0.035       0.002\n",
      "ar.L13         0.0111      0.010      1.123      0.261      -0.008       0.030\n",
      "ar.L14        -0.0050      0.010     -0.484      0.629      -0.025       0.015\n",
      "ar.L15        -0.0143      0.009     -1.529      0.126      -0.033       0.004\n",
      "ar.L16         0.0231      0.010      2.376      0.018       0.004       0.042\n",
      "ar.L17         0.0025      0.010      0.249      0.803      -0.017       0.022\n",
      "ar.L18        -0.0424      0.009     -4.525      0.000      -0.061      -0.024\n",
      "sigma2         1.3516      0.015     88.023      0.000       1.321       1.382\n",
      "===================================================================================\n",
      "Ljung-Box (L1) (Q):                   0.01   Jarque-Bera (JB):              6703.67\n",
      "Prob(Q):                              0.94   Prob(JB):                         0.00\n",
      "Heteroskedasticity (H):               2.00   Skew:                            -0.19\n",
      "Prob(H) (two-sided):                  0.00   Kurtosis:                         8.65\n",
      "===================================================================================\n",
      "\n",
      "Warnings:\n",
      "[1] Covariance matrix calculated using the outer product of gradients (complex-step).\n",
      "LLR test of AR6 and AR18 1.574131455333399e-05\n"
     ]
    }
   ],
   "source": [
    "model_ar18=ARIMA(df_market_value_train['return'],order=(18,0,0),freq='B')\n",
    "result_ar18=model_ar18.fit()\n",
    "print(result_ar18.summary())\n",
    "print('LLR test of AR6 and AR18',LLR_test(result_ar6,result_ar18))"
   ]
  },
  {
   "cell_type": "markdown",
   "id": "7bf3092d-5fb0-4410-83b8-6a64fac532ff",
   "metadata": {},
   "source": [
    "#### ***Observation***\n",
    "- AR18 Model has performed significantly well from AR6.\n",
    "- All the coefficient are signficantly different form zero.\n",
    "- But since AR6 is very simple and AR18 are very complex and it may possible it will reach the overfit the state. So for simplicity we will chose Model AR6."
   ]
  },
  {
   "cell_type": "markdown",
   "id": "7387b396-4ebd-4ab6-94cb-555041eac176",
   "metadata": {},
   "source": [
    "### ***Conclusion***\n",
    "- We have transformed the FTSE market index price columns to find the return in each two consecutive period.\n",
    "- Using return column for AR modeling is great choice cause AR model performed well staionary series.\n",
    "- Here return series slightly behave as white noice because it has constant mean.\n",
    "- And it is found out that AR6 has performed well in compared to all other model.\n",
    "- In this model lag upto 6 has taken into the account for future return prediction.\n",
    "- IN AR6 All the cofficient are significantly different from zero and negative except 4th coeffcient.\n",
    "- It indicates that return will decrease and increase with increase and decrease respectively in past return at lag 1 to 3 and 5th to 6th."
   ]
  },
  {
   "cell_type": "markdown",
   "id": "5eb707c2-0f99-43c5-b54e-15c5f54a22b2",
   "metadata": {},
   "source": [
    "## ***Normalizing Market Value columns***\n",
    "- Normalizing return column with first value occuared in series.\n",
    "- The reason we are normalizing the series cause it help algorithm to converge towards optimum value of coefficinet quickly.\n",
    "- And i am also going to compare the return value in each market index(spx,dax,ftse,nikkei).\n",
    "- but since avg return in nikkei is highest among others so by default nikkei will give better return but it is misleading.So we have to take a benchmark to compare the returns in each market index."
   ]
  },
  {
   "cell_type": "code",
   "execution_count": 71,
   "id": "3fea45bd-ddd6-4926-b7a1-a96d323a6d87",
   "metadata": {},
   "outputs": [
    {
     "data": {
      "text/plain": [
       "3440.58"
      ]
     },
     "execution_count": 71,
     "metadata": {},
     "output_type": "execute_result"
    }
   ],
   "source": [
    "Benchmark=df_market_value_train['market_value'][0]\n",
    "Benchmark"
   ]
  },
  {
   "cell_type": "code",
   "execution_count": 78,
   "id": "0ddd038f-fd52-480c-9fc1-4cfa21080142",
   "metadata": {},
   "outputs": [
    {
     "data": {
      "text/html": [
       "<div>\n",
       "<style scoped>\n",
       "    .dataframe tbody tr th:only-of-type {\n",
       "        vertical-align: middle;\n",
       "    }\n",
       "\n",
       "    .dataframe tbody tr th {\n",
       "        vertical-align: top;\n",
       "    }\n",
       "\n",
       "    .dataframe thead th {\n",
       "        text-align: right;\n",
       "    }\n",
       "</style>\n",
       "<table border=\"1\" class=\"dataframe\">\n",
       "  <thead>\n",
       "    <tr style=\"text-align: right;\">\n",
       "      <th></th>\n",
       "      <th>market_value</th>\n",
       "      <th>wn</th>\n",
       "      <th>rw</th>\n",
       "      <th>return</th>\n",
       "      <th>norm_mar_val</th>\n",
       "    </tr>\n",
       "    <tr>\n",
       "      <th>date</th>\n",
       "      <th></th>\n",
       "      <th></th>\n",
       "      <th></th>\n",
       "      <th></th>\n",
       "      <th></th>\n",
       "    </tr>\n",
       "  </thead>\n",
       "  <tbody>\n",
       "    <tr>\n",
       "      <th>1994-01-10</th>\n",
       "      <td>3440.58</td>\n",
       "      <td>4653.269355</td>\n",
       "      <td>1080.347860</td>\n",
       "      <td>-0.156704</td>\n",
       "      <td>100.000000</td>\n",
       "    </tr>\n",
       "    <tr>\n",
       "      <th>1994-01-11</th>\n",
       "      <td>3413.77</td>\n",
       "      <td>5433.706888</td>\n",
       "      <td>1082.095245</td>\n",
       "      <td>-0.779229</td>\n",
       "      <td>99.220771</td>\n",
       "    </tr>\n",
       "    <tr>\n",
       "      <th>1994-01-12</th>\n",
       "      <td>3372.02</td>\n",
       "      <td>4927.120792</td>\n",
       "      <td>1083.639265</td>\n",
       "      <td>-1.222988</td>\n",
       "      <td>98.007313</td>\n",
       "    </tr>\n",
       "    <tr>\n",
       "      <th>1994-01-13</th>\n",
       "      <td>3360.01</td>\n",
       "      <td>4216.958605</td>\n",
       "      <td>1067.146255</td>\n",
       "      <td>-0.356166</td>\n",
       "      <td>97.658244</td>\n",
       "    </tr>\n",
       "    <tr>\n",
       "      <th>1994-01-14</th>\n",
       "      <td>3400.56</td>\n",
       "      <td>3507.310211</td>\n",
       "      <td>1080.129720</td>\n",
       "      <td>1.206842</td>\n",
       "      <td>98.836824</td>\n",
       "    </tr>\n",
       "  </tbody>\n",
       "</table>\n",
       "</div>"
      ],
      "text/plain": [
       "            market_value           wn           rw    return  norm_mar_val\n",
       "date                                                                      \n",
       "1994-01-10       3440.58  4653.269355  1080.347860 -0.156704    100.000000\n",
       "1994-01-11       3413.77  5433.706888  1082.095245 -0.779229     99.220771\n",
       "1994-01-12       3372.02  4927.120792  1083.639265 -1.222988     98.007313\n",
       "1994-01-13       3360.01  4216.958605  1067.146255 -0.356166     97.658244\n",
       "1994-01-14       3400.56  3507.310211  1080.129720  1.206842     98.836824"
      ]
     },
     "execution_count": 78,
     "metadata": {},
     "output_type": "execute_result"
    }
   ],
   "source": [
    "df_market_value_train['norm_mar_val']=df_market_value_train['market_value'].div(Benchmark).mul(100)\n",
    "df_market_value_train.head()"
   ]
  },
  {
   "cell_type": "code",
   "execution_count": 75,
   "id": "9e6c763f-0ccf-48d9-a258-13b4118298d3",
   "metadata": {},
   "outputs": [
    {
     "data": {
      "image/png": "[encoded data removed]",
      "text/plain": [
       "<Figure size 1008x288 with 1 Axes>"
      ]
     },
     "metadata": {},
     "output_type": "display_data"
    }
   ],
   "source": [
    "plt.rc('figure',figsize=(14,4))\n",
    "df_market_value_train['norm_mar_val'].plot()\n",
    "plt.title('Normalized market value of FTSE Market index plot')\n",
    "plt.show()"
   ]
  },
  {
   "cell_type": "code",
   "execution_count": 80,
   "id": "893727e4-cf93-42c9-be48-e476c212ec69",
   "metadata": {},
   "outputs": [
    {
     "data": {
      "text/plain": [
       "(-1.8936568624122199,\n",
       " 0.33505098158646573,\n",
       " 6,\n",
       " 5013,\n",
       " {'1%': -3.431655136974821,\n",
       "  '5%': -2.8621167297421373,\n",
       "  '10%': -2.567076993884522},\n",
       " 19556.212836830156)"
      ]
     },
     "execution_count": 80,
     "metadata": {},
     "output_type": "execute_result"
    }
   ],
   "source": [
    "adfuller(df_market_value_train['norm_mar_val'])"
   ]
  },
  {
   "cell_type": "markdown",
   "id": "8999155b-a20f-404a-980c-a4e14e1acc72",
   "metadata": {},
   "source": [
    "### ***Observation***\n",
    "- The plot does not look like stationary graph.\n",
    "- By Observing adfuller test on normalizing market value it is clear that it is not stationary.\n",
    "- So we can't do AR modeling on this data."
   ]
  },
  {
   "cell_type": "markdown",
   "id": "7e044f4b-f6ec-4edc-905f-8162ceab7503",
   "metadata": {},
   "source": [
    "## ***Normalizing on Return Column***\n",
    "- We often rely on normalize return.\n",
    "- They account for the abasolute profitability of the investment in contrast to price.\n",
    "- They allow us compare relative profitability as opposed to non normalized return"
   ]
  },
  {
   "cell_type": "code",
   "execution_count": 81,
   "id": "56fa8258-0181-408d-96c4-2c93d04a1248",
   "metadata": {},
   "outputs": [
    {
     "data": {
      "text/plain": [
       "-0.1567043337454055"
      ]
     },
     "execution_count": 81,
     "metadata": {},
     "output_type": "execute_result"
    }
   ],
   "source": [
    "Benchmark=df_market_value_train['return'][0]\n",
    "Benchmark"
   ]
  },
  {
   "cell_type": "code",
   "execution_count": 82,
   "id": "4d2f40a8-7f27-46e9-9d96-375ff0681a6e",
   "metadata": {},
   "outputs": [
    {
     "data": {
      "text/html": [
       "<div>\n",
       "<style scoped>\n",
       "    .dataframe tbody tr th:only-of-type {\n",
       "        vertical-align: middle;\n",
       "    }\n",
       "\n",
       "    .dataframe tbody tr th {\n",
       "        vertical-align: top;\n",
       "    }\n",
       "\n",
       "    .dataframe thead th {\n",
       "        text-align: right;\n",
       "    }\n",
       "</style>\n",
       "<table border=\"1\" class=\"dataframe\">\n",
       "  <thead>\n",
       "    <tr style=\"text-align: right;\">\n",
       "      <th></th>\n",
       "      <th>market_value</th>\n",
       "      <th>wn</th>\n",
       "      <th>rw</th>\n",
       "      <th>return</th>\n",
       "      <th>norm_mar_val</th>\n",
       "      <th>norm_ret</th>\n",
       "    </tr>\n",
       "    <tr>\n",
       "      <th>date</th>\n",
       "      <th></th>\n",
       "      <th></th>\n",
       "      <th></th>\n",
       "      <th></th>\n",
       "      <th></th>\n",
       "      <th></th>\n",
       "    </tr>\n",
       "  </thead>\n",
       "  <tbody>\n",
       "    <tr>\n",
       "      <th>1994-01-10</th>\n",
       "      <td>3440.58</td>\n",
       "      <td>4653.269355</td>\n",
       "      <td>1080.347860</td>\n",
       "      <td>-0.156704</td>\n",
       "      <td>100.000000</td>\n",
       "      <td>100.000000</td>\n",
       "    </tr>\n",
       "    <tr>\n",
       "      <th>1994-01-11</th>\n",
       "      <td>3413.77</td>\n",
       "      <td>5433.706888</td>\n",
       "      <td>1082.095245</td>\n",
       "      <td>-0.779229</td>\n",
       "      <td>99.220771</td>\n",
       "      <td>497.260711</td>\n",
       "    </tr>\n",
       "    <tr>\n",
       "      <th>1994-01-12</th>\n",
       "      <td>3372.02</td>\n",
       "      <td>4927.120792</td>\n",
       "      <td>1083.639265</td>\n",
       "      <td>-1.222988</td>\n",
       "      <td>98.007313</td>\n",
       "      <td>780.443046</td>\n",
       "    </tr>\n",
       "    <tr>\n",
       "      <th>1994-01-13</th>\n",
       "      <td>3360.01</td>\n",
       "      <td>4216.958605</td>\n",
       "      <td>1067.146255</td>\n",
       "      <td>-0.356166</td>\n",
       "      <td>97.658244</td>\n",
       "      <td>227.285567</td>\n",
       "    </tr>\n",
       "    <tr>\n",
       "      <th>1994-01-14</th>\n",
       "      <td>3400.56</td>\n",
       "      <td>3507.310211</td>\n",
       "      <td>1080.129720</td>\n",
       "      <td>1.206842</td>\n",
       "      <td>98.836824</td>\n",
       "      <td>-770.139292</td>\n",
       "    </tr>\n",
       "  </tbody>\n",
       "</table>\n",
       "</div>"
      ],
      "text/plain": [
       "            market_value           wn           rw    return  norm_mar_val  \\\n",
       "date                                                                         \n",
       "1994-01-10       3440.58  4653.269355  1080.347860 -0.156704    100.000000   \n",
       "1994-01-11       3413.77  5433.706888  1082.095245 -0.779229     99.220771   \n",
       "1994-01-12       3372.02  4927.120792  1083.639265 -1.222988     98.007313   \n",
       "1994-01-13       3360.01  4216.958605  1067.146255 -0.356166     97.658244   \n",
       "1994-01-14       3400.56  3507.310211  1080.129720  1.206842     98.836824   \n",
       "\n",
       "              norm_ret  \n",
       "date                    \n",
       "1994-01-10  100.000000  \n",
       "1994-01-11  497.260711  \n",
       "1994-01-12  780.443046  \n",
       "1994-01-13  227.285567  \n",
       "1994-01-14 -770.139292  "
      ]
     },
     "execution_count": 82,
     "metadata": {},
     "output_type": "execute_result"
    }
   ],
   "source": [
    "df_market_value_train['norm_ret']=df_market_value_train['return'].div(Benchmark).mul(100)\n",
    "df_market_value_train.head()"
   ]
  },
  {
   "cell_type": "markdown",
   "id": "d9b93308-a89a-442c-9021-d6f6ffa1a654",
   "metadata": {},
   "source": [
    "### ***Dicky fuller test***"
   ]
  },
  {
   "cell_type": "code",
   "execution_count": 83,
   "id": "b68c4f9e-e311-43ab-9a79-6ec6213dcb55",
   "metadata": {},
   "outputs": [
    {
     "data": {
      "text/plain": [
       "(-12.786930957227389,\n",
       " 7.213255047800831e-24,\n",
       " 32,\n",
       " 4987,\n",
       " {'1%': -3.431661944885779,\n",
       "  '5%': -2.8621197374408225,\n",
       "  '10%': -2.5670785949998973},\n",
       " 80118.5703598977)"
      ]
     },
     "execution_count": 83,
     "metadata": {},
     "output_type": "execute_result"
    }
   ],
   "source": [
    "adfuller(df_market_value_train['norm_ret'])"
   ]
  },
  {
   "cell_type": "markdown",
   "id": "06b93902-a3d2-41cd-a4c0-cbcab7ed4384",
   "metadata": {},
   "source": [
    "#### ***Observation***\n",
    "- dickyfuller test on normalized return value give the same statistics as same test on dickyfuller test.\n",
    "- since p value is less than 0.05 so it is considered as stationary as regular return."
   ]
  },
  {
   "cell_type": "markdown",
   "id": "ef5467b2-3616-4486-8bb0-1138067e6718",
   "metadata": {},
   "source": [
    "## ***AR modeling on normalized return of FTSE Index price***"
   ]
  },
  {
   "cell_type": "markdown",
   "id": "e9cd2945-ee64-47f3-bade-170eaf8411bb",
   "metadata": {},
   "source": [
    "### ***AR1 modeling on normalized returned value of FTSE index price***"
   ]
  },
  {
   "cell_type": "code",
   "execution_count": 84,
   "id": "139ccd06-fb70-49b9-be83-cb9ff6aa1bb2",
   "metadata": {},
   "outputs": [
    {
     "name": "stderr",
     "output_type": "stream",
     "text": [
      "C:\\Users\\adadi\\anaconda3\\envs\\DataScienceEnv\\lib\\site-packages\\statsmodels\\tsa\\base\\tsa_model.py:473: ValueWarning: No frequency information was provided, so inferred frequency B will be used.\n",
      "  self._init_dates(dates, freq)\n"
     ]
    },
    {
     "name": "stdout",
     "output_type": "stream",
     "text": [
      "                               SARIMAX Results                                \n",
      "==============================================================================\n",
      "Dep. Variable:                 return   No. Observations:                 5020\n",
      "Model:                 ARIMA(1, 0, 0)   Log Likelihood               -7929.756\n",
      "Date:                Wed, 23 Oct 2024   AIC                          15865.512\n",
      "Time:                        15:33:11   BIC                          15885.076\n",
      "Sample:                    01-10-1994   HQIC                         15872.368\n",
      "                         - 04-05-2013                                         \n",
      "Covariance Type:                  opg                                         \n",
      "==============================================================================\n",
      "                 coef    std err          z      P>|z|      [0.025      0.975]\n",
      "------------------------------------------------------------------------------\n",
      "const          0.0188      0.016      1.143      0.253      -0.013       0.051\n",
      "ar.L1         -0.0230      0.009     -2.690      0.007      -0.040      -0.006\n",
      "sigma2         1.3790      0.014    100.098      0.000       1.352       1.406\n",
      "===================================================================================\n",
      "Ljung-Box (L1) (Q):                   0.01   Jarque-Bera (JB):              7873.47\n",
      "Prob(Q):                              0.93   Prob(JB):                         0.00\n",
      "Heteroskedasticity (H):               2.04   Skew:                            -0.03\n",
      "Prob(H) (two-sided):                  0.00   Kurtosis:                         9.14\n",
      "===================================================================================\n",
      "\n",
      "Warnings:\n",
      "[1] Covariance matrix calculated using the outer product of gradients (complex-step).\n"
     ]
    }
   ],
   "source": [
    "model_ar1=ARIMA(df_market_value_train['return'],order=(1,0,0),freq='B')\n",
    "result_ar1=model_ar1.fit()\n",
    "print(result_ar1.summary())\n"
   ]
  },
  {
   "cell_type": "markdown",
   "id": "64f646c3-ccf2-467d-9fa5-bd23ea862ac3",
   "metadata": {},
   "source": [
    "### ***AR2 modeling on normalized returned value of FTSE index price***"
   ]
  },
  {
   "cell_type": "code",
   "execution_count": 85,
   "id": "653d0b85-b69a-40d8-bd70-6490233e9c02",
   "metadata": {},
   "outputs": [
    {
     "name": "stderr",
     "output_type": "stream",
     "text": [
      "C:\\Users\\adadi\\anaconda3\\envs\\DataScienceEnv\\lib\\site-packages\\statsmodels\\tsa\\base\\tsa_model.py:473: ValueWarning: No frequency information was provided, so inferred frequency B will be used.\n",
      "  self._init_dates(dates, freq)\n"
     ]
    },
    {
     "name": "stdout",
     "output_type": "stream",
     "text": [
      "                               SARIMAX Results                                \n",
      "==============================================================================\n",
      "Dep. Variable:                 return   No. Observations:                 5020\n",
      "Model:                 ARIMA(2, 0, 0)   Log Likelihood               -7923.305\n",
      "Date:                Wed, 23 Oct 2024   AIC                          15854.609\n",
      "Time:                        15:34:48   BIC                          15880.694\n",
      "Sample:                    01-10-1994   HQIC                         15863.749\n",
      "                         - 04-05-2013                                         \n",
      "Covariance Type:                  opg                                         \n",
      "==============================================================================\n",
      "                 coef    std err          z      P>|z|      [0.025      0.975]\n",
      "------------------------------------------------------------------------------\n",
      "const          0.0188      0.016      1.194      0.232      -0.012       0.050\n",
      "ar.L1         -0.0241      0.009     -2.794      0.005      -0.041      -0.007\n",
      "ar.L2         -0.0507      0.008     -6.451      0.000      -0.066      -0.035\n",
      "sigma2         1.3755      0.014     99.610      0.000       1.348       1.403\n",
      "===================================================================================\n",
      "Ljung-Box (L1) (Q):                   0.08   Jarque-Bera (JB):              7732.48\n",
      "Prob(Q):                              0.78   Prob(JB):                         0.00\n",
      "Heteroskedasticity (H):               2.03   Skew:                            -0.07\n",
      "Prob(H) (two-sided):                  0.00   Kurtosis:                         9.08\n",
      "===================================================================================\n",
      "\n",
      "Warnings:\n",
      "[1] Covariance matrix calculated using the outer product of gradients (complex-step).\n"
     ]
    }
   ],
   "source": [
    "model_ar2=ARIMA(df_market_value_train['return'],order=(2,0,0),freq='B')\n",
    "result_ar2=model_ar2.fit()\n",
    "print(result_ar2.summary())"
   ]
  },
  {
   "cell_type": "markdown",
   "id": "303947c6-4810-4ad2-8127-840606a4195c",
   "metadata": {},
   "source": [
    "### ***AR6 modeling on normalized returned value of FTSE index price***"
   ]
  },
  {
   "cell_type": "code",
   "execution_count": 86,
   "id": "baa4ede4-9db7-4576-be40-1e6c33b0b538",
   "metadata": {},
   "outputs": [
    {
     "name": "stderr",
     "output_type": "stream",
     "text": [
      "C:\\Users\\adadi\\anaconda3\\envs\\DataScienceEnv\\lib\\site-packages\\statsmodels\\tsa\\base\\tsa_model.py:473: ValueWarning: No frequency information was provided, so inferred frequency B will be used.\n",
      "  self._init_dates(dates, freq)\n"
     ]
    },
    {
     "name": "stdout",
     "output_type": "stream",
     "text": [
      "                               SARIMAX Results                                \n",
      "==============================================================================\n",
      "Dep. Variable:                 return   No. Observations:                 5020\n",
      "Model:                 ARIMA(6, 0, 0)   Log Likelihood               -7888.633\n",
      "Date:                Wed, 23 Oct 2024   AIC                          15793.265\n",
      "Time:                        15:35:14   BIC                          15845.435\n",
      "Sample:                    01-10-1994   HQIC                         15811.546\n",
      "                         - 04-05-2013                                         \n",
      "Covariance Type:                  opg                                         \n",
      "==============================================================================\n",
      "                 coef    std err          z      P>|z|      [0.025      0.975]\n",
      "------------------------------------------------------------------------------\n",
      "const          0.0189      0.014      1.323      0.186      -0.009       0.047\n",
      "ar.L1         -0.0248      0.009     -2.672      0.008      -0.043      -0.007\n",
      "ar.L2         -0.0529      0.008     -6.575      0.000      -0.069      -0.037\n",
      "ar.L3         -0.0839      0.008    -10.462      0.000      -0.100      -0.068\n",
      "ar.L4          0.0401      0.008      4.856      0.000       0.024       0.056\n",
      "ar.L5         -0.0605      0.008     -7.539      0.000      -0.076      -0.045\n",
      "ar.L6         -0.0464      0.009     -5.198      0.000      -0.064      -0.029\n",
      "sigma2         1.3566      0.015     92.531      0.000       1.328       1.385\n",
      "===================================================================================\n",
      "Ljung-Box (L1) (Q):                   0.00   Jarque-Bera (JB):              6512.03\n",
      "Prob(Q):                              0.97   Prob(JB):                         0.00\n",
      "Heteroskedasticity (H):               2.00   Skew:                            -0.20\n",
      "Prob(H) (two-sided):                  0.00   Kurtosis:                         8.57\n",
      "===================================================================================\n",
      "\n",
      "Warnings:\n",
      "[1] Covariance matrix calculated using the outer product of gradients (complex-step).\n"
     ]
    }
   ],
   "source": [
    "model_ar6=ARIMA(df_market_value_train['return'],order=(6,0,0),freq='B')\n",
    "result_ar6=model_ar6.fit()\n",
    "print(result_ar6.summary())"
   ]
  },
  {
   "cell_type": "markdown",
   "id": "bb1837ee-a231-4100-9f39-a6027573c9b6",
   "metadata": {},
   "source": [
    "#### ***Observation and Conclusion***\n",
    "- By observing and comparing the coefficient of AR1, AR2 and AR6 modeled on normalized return, it is observed that coefficients value has converged to exact same value as it was for return.\n",
    "- So normalizing the return does not affect coefficient values.\n",
    "- In this case also AR6 is taken as best Model."
   ]
  },
  {
   "cell_type": "markdown",
   "id": "603d1bca-c748-49f4-86aa-7ad9b57391d9",
   "metadata": {},
   "source": [
    "## ***Analysis of residual obtained from AR6 model for returned prediction of ftse market index***"
   ]
  },
  {
   "cell_type": "code",
   "execution_count": 87,
   "id": "12b40d4f-f5b1-4834-afc6-738bc2c2a364",
   "metadata": {},
   "outputs": [],
   "source": [
    "df_market_value_train['resid_ret']=result_ar6.resid.values"
   ]
  },
  {
   "cell_type": "code",
   "execution_count": 90,
   "id": "ea7b963f-9367-471a-9c1f-b66fae6fd87d",
   "metadata": {},
   "outputs": [
    {
     "data": {
      "image/png": "[encoded data removed]",
      "text/plain": [
       "<Figure size 1008x288 with 1 Axes>"
      ]
     },
     "metadata": {},
     "output_type": "display_data"
    }
   ],
   "source": [
    "plt.figure(figsize=(14,4))\n",
    "df_market_value_train.resid_ret.plot()\n",
    "plt.title('residual obtained by AR6 for return prediciton on FTSE market index price',size=14)\n",
    "plt.show()"
   ]
  },
  {
   "cell_type": "code",
   "execution_count": 94,
   "id": "bb283d1a-e9b9-4f26-b47b-b8b8492f061d",
   "metadata": {},
   "outputs": [
    {
     "data": {
      "image/png": "[encoded data removed]",
      "text/plain": [
       "<Figure size 1008x288 with 1 Axes>"
      ]
     },
     "metadata": {},
     "output_type": "display_data"
    }
   ],
   "source": [
    "plt.figure(figsize=(14,4))\n",
    "df_market_value_train.resid_ret.hist(bins=400,color='r')\n",
    "plt.title('distribution residual obtained by AR6 for return prediciton on FTSE market index price')\n",
    "plt.show()"
   ]
  },
  {
   "cell_type": "code",
   "execution_count": 95,
   "id": "b43a1355-f90d-4cc8-afdc-c72e366e6de0",
   "metadata": {},
   "outputs": [
    {
     "data": {
      "text/plain": [
       "(-4.825353904588571e-05, 1.1648573288886448)"
      ]
     },
     "execution_count": 95,
     "metadata": {},
     "output_type": "execute_result"
    }
   ],
   "source": [
    "mean=df_market_value_train['resid_ret'].mean()\n",
    "std=df_market_value_train['resid_ret'].std()\n",
    "mean,std"
   ]
  },
  {
   "cell_type": "code",
   "execution_count": 97,
   "id": "fbaf379e-1eaa-4a8e-8879-9903433e5ec1",
   "metadata": {},
   "outputs": [
    {
     "data": {
      "text/plain": [
       "(-3.4570395260942037, 3.456943019016099)"
      ]
     },
     "execution_count": 97,
     "metadata": {},
     "output_type": "execute_result"
    }
   ],
   "source": [
    "ci=norm.interval(alpha=0.997,loc=mean,scale=std)\n",
    "ci"
   ]
  },
  {
   "cell_type": "markdown",
   "id": "5963ae4f-5e42-471b-bd89-04dacfab9a96",
   "metadata": {},
   "source": [
    "#### ***Adfuller Test***"
   ]
  },
  {
   "cell_type": "code",
   "execution_count": 98,
   "id": "205147a1-2089-45b0-8fdc-c7ff3858ec2d",
   "metadata": {},
   "outputs": [
    {
     "data": {
      "text/plain": [
       "(-70.78594469484374,\n",
       " 0.0,\n",
       " 0,\n",
       " 5019,\n",
       " {'1%': -3.4316535759402753,\n",
       "  '5%': -2.8621160400844468,\n",
       "  '10%': -2.567076626752987},\n",
       " 15695.929509316542)"
      ]
     },
     "execution_count": 98,
     "metadata": {},
     "output_type": "execute_result"
    }
   ],
   "source": [
    "adfuller(df_market_value_train.resid_ret)"
   ]
  },
  {
   "cell_type": "markdown",
   "id": "eff80543-016a-4121-af37-c04c6c99623b",
   "metadata": {},
   "source": [
    "#### ***Pacf and ACf plot of the resid obtained from AR6 Model prediction of FTSE market index return***"
   ]
  },
  {
   "cell_type": "code",
   "execution_count": 101,
   "id": "e6070480-0933-4d4e-8c2e-10454bbcf664",
   "metadata": {},
   "outputs": [
    {
     "data": {
      "image/png": "[encoded data removed]",
      "text/plain": [
       "<Figure size 1080x216 with 1 Axes>"
      ]
     },
     "metadata": {},
     "output_type": "display_data"
    }
   ],
   "source": [
    "plt.rc('figure',figsize=(15,3))\n",
    "sgt.plot_acf(df_market_value_train.resid_ret,zero=False,lags=40)\n",
    "plt.title('Autocorrelation of plot of residual series obtained from AR6 model return prediction of FTSE market index price',size=14)\n",
    "plt.ylim((-0.1,0.1))\n",
    "plt.show()"
   ]
  },
  {
   "cell_type": "code",
   "execution_count": 103,
   "id": "407389d3-2543-4514-9be2-97080a00da5e",
   "metadata": {},
   "outputs": [
    {
     "data": {
      "image/png": "[encoded data removed]",
      "text/plain": [
       "<Figure size 1080x216 with 1 Axes>"
      ]
     },
     "metadata": {},
     "output_type": "display_data"
    }
   ],
   "source": [
    "plt.rc('figure',figsize=(15,3))\n",
    "sgt.plot_pacf(df_market_value_train.resid_ret,lags=40,zero=False,method='ols')\n",
    "plt.title('Partial Autocorrelation of residual series obtained from AR6 return prediction of FTSE market index price ',size=14)\n",
    "plt.ylim((-0.1,0.1))\n",
    "plt.show()"
   ]
  },
  {
   "cell_type": "markdown",
   "id": "6675f474-881e-45d2-ae97-8aec56b4321c",
   "metadata": {},
   "source": [
    "#### ***Observation and Conclusion***\n",
    "- adfuller test says that residual obtained from AR6 model return prediction, is a stationary series.\n",
    "- series has (mean,std)=(-4.825353904588571e-05, 1.1648573288886448)\n",
    "- It is observed from pacf and acf plot that each current residual has negligible correlation with all previous residual.\n",
    "- So this residual correlation can considered as white noice.\n",
    "- since all white noice resemble with normal distribution.\n",
    "- It is also evident from distribution plot and time series plot of the residuals.\n",
    "  \n",
    "***Conclusion***\n",
    "\n",
    "- 99.7 percent confidence interval around mean has been found out to be (-3.4570395260942037, 3.456943019016099).\n",
    "- It means that 99.7 percent of times people will get return in between -3.45 to 3.45, if they invest money on this ftse market index by relying on AR6 model."
   ]
  },
  {
   "cell_type": "code",
   "execution_count": null,
   "id": "d08199f3-7901-4042-97c4-3cc3e493e5de",
   "metadata": {},
   "outputs": [],
   "source": []
  }
 ],
 "metadata": {
  "kernelspec": {
   "display_name": "DataScienceEnv",
   "language": "python",
   "name": "datascienceenv"
  },
  "language_info": {
   "codemirror_mode": {
    "name": "ipython",
    "version": 3
   },
   "file_extension": ".py",
   "mimetype": "text/x-python",
   "name": "python",
   "nbconvert_exporter": "python",
   "pygments_lexer": "ipython3",
   "version": "3.8.19"
  },
  "widgets": {
   "application/vnd.jupyter.widget-state+json": {
    "state": {},
    "version_major": 2,
    "version_minor": 0
   }
  }
 },
 "nbformat": 4,
 "nbformat_minor": 5
}
